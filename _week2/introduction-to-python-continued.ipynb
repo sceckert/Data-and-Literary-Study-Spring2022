{
 "cells": [
  {
   "cell_type": "markdown",
   "metadata": {},
   "source": [
    "# Introduction to Python (Continued)"
   ]
  },
  {
   "cell_type": "markdown",
   "metadata": {},
   "source": [
    "Wednesday, Feb. 2, 2022\n",
    "\n",
    "Today, we're going to practice what we've learned to do so far in Python and learn a few more basic elements of Python data analysis.\n",
    "\n",
    "- [Exercise 1.Using Python to calculate the most frequent words in a text file](#Exercise-1:-Using-Python-to-calculate-the-most-frequent-words-in-a-text-file)\n",
    "- [2. Manipulate, clean, and sort lists](#2.-Using-Python-to-manipulate,-clean,-and-sort-lists-of-data) \n",
    "\n",
    "\n",
    "## Recap of Python basics:\n",
    "\n",
    "As part of your homework, you learned some of the basic ways we can use Python to open and manipulate text files (files that end in .txt). \n",
    "\n",
    "We also learned how to store and sort variables in short lists.\n",
    "\n",
    "We learned the basic shape of a Python script:\n",
    "\n",
    "- **import** statements come first, telling pythong what libraries \n",
    "- next we **define** filepaths and assign variables\n",
    "- then we **define** any functions\n",
    "- then we **read in** any external text files (files ending .txt) or tabular data that you'll be working with (files ending .csv)\n",
    "- then we **manipulate** and **ananlyze your file** using the functions we've imported or defined\n",
    "- then we **output** results\n",
    "- And throughout the script we **add** comments with # hashtags to explain what your script does\n",
    "\n"
   ]
  },
  {
   "cell_type": "markdown",
   "metadata": {},
   "source": [
    "## QUESTIONS??? <img align=\"right\" src=\"images/cat-typing.gif\" width=\"300\" height=\"200\"/>\n",
    "\n",
    "What was confusing? Interesting?\n",
    "\n",
    "Are there words or terms that it would be helpful to define?\n",
    "\n",
    "What lingering questions do you have about the exercises?\n",
    "\n",
    "> Python can be confusing––when I first encountered it, it seemed confusing! (Why do I need quotation marks around some things? What's the difference between a function and a variable? Why do I keep getting errors?) \n",
    "\n",
    ">If you, like me, felt like this cat flailing around on a keyboard, that's TOTALLY NORMAL!!! =>"
   ]
  },
  {
   "cell_type": "markdown",
   "metadata": {},
   "source": [
    "### Let's practice what we've learned! "
   ]
  },
  {
   "cell_type": "markdown",
   "metadata": {},
   "source": [
    "## Exercise 1: Using Python to calculate the most frequent words in a text file\n",
    "\n",
    "### Step 1. \n",
    "Copy our script for counting word frequency in [Introduction to Python Basics](https://mybinder.org/v2/gh/sceckert/introdhspring2021/main?urlpath=lab/tree/_week4/introduction-to-python.ipynb), part 1 into the cell below:"
   ]
  },
  {
   "cell_type": "code",
   "execution_count": 4,
   "metadata": {},
   "outputs": [
    {
     "data": {
      "text/plain": [
       "[('one', 198),\n",
       " ('could', 182),\n",
       " ('would', 176),\n",
       " ('yet', 160),\n",
       " ('father', 144),\n",
       " ('man', 134),\n",
       " ('upon', 125),\n",
       " ('may', 121),\n",
       " ('every', 120),\n",
       " ('life', 111),\n",
       " ('time', 111),\n",
       " ('might', 111),\n",
       " ('shall', 107),\n",
       " ('said', 107),\n",
       " ('first', 101),\n",
       " ('eyes', 99),\n",
       " ('gutenberg', 97),\n",
       " ('day', 94),\n",
       " ('saw', 94),\n",
       " ('towards', 91),\n",
       " ('elizabeth', 91),\n",
       " ('night', 90),\n",
       " ('project', 87),\n",
       " ('mind', 87),\n",
       " ('found', 87),\n",
       " ('death', 84),\n",
       " ('ever', 83),\n",
       " ('even', 82),\n",
       " ('feelings', 80),\n",
       " ('work', 79),\n",
       " ('felt', 78),\n",
       " ('heart', 77),\n",
       " ('must', 76),\n",
       " ('dear', 73),\n",
       " ('thought', 73),\n",
       " ('many', 71),\n",
       " ('friend', 70),\n",
       " ('also', 69),\n",
       " ('never', 68),\n",
       " ('soon', 67)]"
      ]
     },
     "execution_count": 4,
     "metadata": {},
     "output_type": "execute_result"
    }
   ],
   "source": [
    "# word-frequencies.py\n",
    "\n",
    "# Import Libraries and Modules\n",
    "\n",
    "import re\n",
    "from collections import Counter\n",
    "\n",
    "# Define Functions\n",
    "\n",
    "\n",
    "def split_into_words(any_chunk_of_text):\n",
    "    lowercase_text = any_chunk_of_text.lower()\n",
    "    split_words = re.split(\"\\W+\", lowercase_text) \n",
    "    return split_words\n",
    "\n",
    "# Define Filepaths and Assign Variables\n",
    "\n",
    "# Try substituting in a new file here!\n",
    "filepath_of_text = '../_datasets/texts/literature/Mary-Shelley-Frankenstein-1818.txt' \n",
    "number_of_desired_words = 40\n",
    "\n",
    "stopwords = ['i', 'me', 'my', 'myself', 'we', 'our', 'ours', 'ourselves', 'you', 'your', 'yours',\n",
    "'yourself', 'yourselves', 'he', 'him', 'his', 'himself', 'she', 'her', 'hers',\n",
    " 'herself', 'it', 'its', 'itself', 'they', 'them', 'their', 'theirs', 'themselves',\n",
    " 'what', 'which', 'who', 'whom', 'this', 'that', 'these', 'those', 'am', 'is', 'are',\n",
    " 'was', 'were', 'be', 'been', 'being', 'have', 'has', 'had', 'having', 'do', 'does',\n",
    " 'did', 'doing', 'a', 'an', 'the', 'and', 'but', 'if', 'or', 'because', 'as', 'until',\n",
    " 'while', 'of', 'at', 'by', 'for', 'with', 'about', 'against', 'between', 'into',\n",
    " 'through', 'during', 'before', 'after', 'above', 'below', 'to', 'from', 'up', 'down',\n",
    " 'in', 'out', 'on', 'off', 'over', 'under', 'again', 'further', 'then', 'once', 'here',\n",
    " 'there', 'when', 'where', 'why', 'how', 'all', 'any', 'both', 'each', 'few', 'more',\n",
    " 'most', 'other', 'some', 'such', 'no', 'nor', 'not', 'only', 'own', 'same', 'so',\n",
    " 'than', 'too', 'very', 's', 't', 'can', 'will', 'just', 'don', 'should', 'now', 've', 'll', 'amp']\n",
    "\n",
    "# Read in File\n",
    "\n",
    "full_text = open(filepath_of_text, encoding=\"utf-8\").read()\n",
    "\n",
    "# Manipulate and Analyze File\n",
    "\n",
    "all_the_words = split_into_words(full_text)\n",
    "meaningful_words = [word for word in all_the_words if word not in stopwords]\n",
    "meaningful_words_tally = Counter(meaningful_words)\n",
    "most_frequent_meaningful_words = meaningful_words_tally.most_common(number_of_desired_words)\n",
    "\n",
    "# Output Results\n",
    "\n",
    "most_frequent_meaningful_words"
   ]
  },
  {
   "cell_type": "markdown",
   "metadata": {},
   "source": [
    "### Step 2. \n",
    "As a group, take a minute to **describe what this script does**, in plain English. \n",
    "\n",
    "- What is the sequence of steps in the script?\n",
    "- What are stopwords? \n",
    "- What efect do they have on the output?\n",
    "\n",
    "> Sidenote:  \n",
    "> If you want to learn more about stopwords (and their history), check out Daniel Rosenberg's article [\"Stop, Words\"](https://www-jstor-org.ezproxy.princeton.edu/stable/10.1525/rep.2014.127.1.83?seq=1#metadata_info_tab_contents) (2014)\n",
    "\n",
    "### Step 3. \n",
    "Let's test out our script on other texts. \n",
    "\n",
    "1. Choose a text from one of the following list and paste it in to `filepath_of_text` variable. in the cell above\n",
    "     - Start by comparing the 1818 and 1831 editions of Mary Shelley's novel (both downloaded from the [Project Gutenberg](https://www.gutenberg.org/) text library)\n",
    "     - Then try some others, like the full text collections that Amardeep Singh put together of 19th-century African American Literature (read more about [here](https://github.com/amardeepmsingh/African-American-Literature-Text-Corpus-1853-1923)) or Colonial South Asian Literature (read more about this collection [here](https://github.com/amardeepmsingh/Colonial-South-Asian-Literature))"
   ]
  },
  {
   "cell_type": "markdown",
   "metadata": {},
   "source": [
    "```\n",
    "filepath_of_text = '../_datasets/texts/literature/Mary-Shelley-Frankenstein-1818.txt'\n",
    "filepath_of_text = '../_datasets/texts/literature/Mary-Shelley-Frankenstein-1831.txt'\n",
    "filepath_of_text = '../_datasets/texts/literature/Jane-Austen-Pride-and-Prejudice.txt'\n",
    "filepath_of_text = '../_datasets/texts/literature/Daniel-Defoe-Journal-of-a-Plague-Year.txt'\n",
    "filepath_of_text = '../_datasets/texts/literature/African-American-Literature-Text-Corpus/African-American-Literature-text-files/w-e-b-du-bois-the-quest-of-the-silver-fleece-1911.txt' \n",
    "\n",
    "```\n",
    "\n",
    "### Step 4.\n",
    "\n",
    "Look carefully back at the list of filepaths above that we've used to read in different text files. \n",
    "\n",
    "1. What do the different parts of the filepath mean? (Think back to our lesson on the command line & what we learned about directories)\n",
    "2. What files do we need (and where do they need to be in relation to this Jupyter notebook) in order to run this code?\n",
    "3. If you were running this notebook on your own computer through Anaconda Navigator's version of JupyterLabs (not on this cloud-hosted Binder), what files would you need to make sure to have (and where would you need to put them)?\n",
    "\n",
    "\n",
    "***‼️ This might seem trivial, but a small mistake in a filepath  can be a significant source of error when you're running Python!‼️*** "
   ]
  },
  {
   "cell_type": "markdown",
   "metadata": {},
   "source": [
    "### ✨For the future✨:\n",
    "### I want to try this out on other texts!  Where else can I find text files? \n",
    "\n",
    "[Project Gutenberg](https://www.gutenberg.org/)\n",
    "<img src=\"../_images/gutenberg.png\" width=\"700\" height=\"40\"/>\n",
    "\n",
    "[Oxford Text Archive](https://ota.bodleian.ox.ac.uk/repository/xmlui/)\n",
    "<img src=\"../_images/ota.png\" width=\"700\" height=\"40\"/>\n",
    "\n",
    "Alan Liu's [list of demo corpora](http://dhresourcesforprojectbuilding.pbworks.com/w/page/69244469/Data%20Collections%20and%20Datasets#demo-corpora) -- collections of text files\n",
    "\n",
    "Projects that create databases for specifice :\n",
    "- [Old Bailey Online](https://www.oldbaileyonline.org/) (a database of 18th-century criminal trials)\n",
    "- [Early Novels Database](https://github.com/earlynovels/end-dataset) (a database of early fiction)\n"
   ]
  },
  {
   "cell_type": "markdown",
   "metadata": {},
   "source": [
    "-----\n",
    "## 💡Let's learn some new Python tricks! 💡\n",
    "---"
   ]
  },
  {
   "cell_type": "markdown",
   "metadata": {},
   "source": [
    "## 2. Using Python to manipulate, clean, and sort lists of data\n",
    "\n",
    "Let's say we're interested in early African American fiction from the 19th and early 20th century. You might turn to a small curated dataset like the African American Literature Text Corpus that Amardeep put together, which lists around 100 texts by African American writers. This is the accompanying \"metadata\" file ([link](https://github.com/amardeepmsingh/African-American-Literature-Text-Corpus-1853-1923#readme)), which gives us some information about the full text collection he assembled, along with links to the originating repository from the text (Many come from Project Gutenberg, HathiTrust, the American Verse Project at the University of Michigan, the Library of Congress, and the History of Black Writing Novel Corpus.)\n",
    "\n",
    "We could look at a small sample of this data:"
   ]
  },
  {
   "cell_type": "code",
   "execution_count": 2,
   "metadata": {},
   "outputs": [
    {
     "data": {
      "text/html": [
       "<div>\n",
       "<style scoped>\n",
       "    .dataframe tbody tr th:only-of-type {\n",
       "        vertical-align: middle;\n",
       "    }\n",
       "\n",
       "    .dataframe tbody tr th {\n",
       "        vertical-align: top;\n",
       "    }\n",
       "\n",
       "    .dataframe thead th {\n",
       "        text-align: right;\n",
       "    }\n",
       "</style>\n",
       "<table border=\"1\" class=\"dataframe\">\n",
       "  <thead>\n",
       "    <tr style=\"text-align: right;\">\n",
       "      <th></th>\n",
       "      <th>Author (last, first)</th>\n",
       "      <th>Title</th>\n",
       "      <th>Year Published</th>\n",
       "      <th>Genre</th>\n",
       "      <th>Publisher</th>\n",
       "      <th>Location of Publisher</th>\n",
       "      <th>Location signed by author</th>\n",
       "      <th>Keywords</th>\n",
       "      <th>Derived From</th>\n",
       "      <th>Status and Links</th>\n",
       "    </tr>\n",
       "  </thead>\n",
       "  <tbody>\n",
       "    <tr>\n",
       "      <th>0</th>\n",
       "      <td>Adams, Clayton</td>\n",
       "      <td>Ethiopia: the Land of Promise; A Book With a P...</td>\n",
       "      <td>1917</td>\n",
       "      <td>Fiction</td>\n",
       "      <td>Cosmopolitan Press</td>\n",
       "      <td>New York</td>\n",
       "      <td>NaN</td>\n",
       "      <td>Black utopia; segregation; reconstruction</td>\n",
       "      <td>HathiTrust</td>\n",
       "      <td>https://catalog.hathitrust.org/Record/008407122</td>\n",
       "    </tr>\n",
       "    <tr>\n",
       "      <th>1</th>\n",
       "      <td>Anderson, William and Walter H. Stowers</td>\n",
       "      <td>Appointed: An American Novel</td>\n",
       "      <td>1894</td>\n",
       "      <td>Fiction</td>\n",
       "      <td>Detroit Law Printing Co.</td>\n",
       "      <td>Detroit</td>\n",
       "      <td>NaN</td>\n",
       "      <td>Interracial friendship; Northerners going south</td>\n",
       "      <td>HathiTrust</td>\n",
       "      <td>https://catalog.hathitrust.org/Record/005568825</td>\n",
       "    </tr>\n",
       "    <tr>\n",
       "      <th>2</th>\n",
       "      <td>Andrews, W.T.</td>\n",
       "      <td>A Waif--A Prince; or, A Mother's Triumph</td>\n",
       "      <td>1895</td>\n",
       "      <td>Fiction</td>\n",
       "      <td>Publishing House, Methodist Episcopal Church S...</td>\n",
       "      <td>Nashville, Tennessee</td>\n",
       "      <td>NaN</td>\n",
       "      <td>Religious allegory; Egypt (Hebrews as oppresse...</td>\n",
       "      <td>History of Black Writing Corpus</td>\n",
       "      <td>Also see LOC: https://www.loc.gov/item/06002450/</td>\n",
       "    </tr>\n",
       "    <tr>\n",
       "      <th>3</th>\n",
       "      <td>Ashby, William M.</td>\n",
       "      <td>Redder Blood</td>\n",
       "      <td>1915</td>\n",
       "      <td>Fiction</td>\n",
       "      <td>Cosmopolitan Press</td>\n",
       "      <td>New York</td>\n",
       "      <td>NaN</td>\n",
       "      <td>Passing; Interracial desire</td>\n",
       "      <td>History of Black Writing Corpus</td>\n",
       "      <td>https://catalog.hathitrust.org/Record/004237253</td>\n",
       "    </tr>\n",
       "    <tr>\n",
       "      <th>4</th>\n",
       "      <td>Bennett, John</td>\n",
       "      <td>Madam Margot, a Grotesque Legend of Old Charle...</td>\n",
       "      <td>1917</td>\n",
       "      <td>Fiction</td>\n",
       "      <td>Century Co.</td>\n",
       "      <td>New York</td>\n",
       "      <td>NaN</td>\n",
       "      <td>Supernatural; Romance</td>\n",
       "      <td>History of Black Writing Corpus</td>\n",
       "      <td>https://catalog.hathitrust.org/Record/00858464...</td>\n",
       "    </tr>\n",
       "    <tr>\n",
       "      <th>5</th>\n",
       "      <td>Bibb, Eloise A.</td>\n",
       "      <td>Poems</td>\n",
       "      <td>1895</td>\n",
       "      <td>Poetry</td>\n",
       "      <td>Monthly Review Press</td>\n",
       "      <td>Boston, Massachusetts</td>\n",
       "      <td>NaN</td>\n",
       "      <td>Mentions Alice Dunbar-Nelson; Poem to Frederic...</td>\n",
       "      <td>Digital Schomburg</td>\n",
       "      <td>Also see American Verse Project: https://quod....</td>\n",
       "    </tr>\n",
       "    <tr>\n",
       "      <th>6</th>\n",
       "      <td>Blackson, Lorenzo D.</td>\n",
       "      <td>Rise and Progress of the Kingdoms of Light and...</td>\n",
       "      <td>1867</td>\n",
       "      <td>Fiction</td>\n",
       "      <td>J. Nicholas, Printer</td>\n",
       "      <td>Philadelphia, Pennsylvania</td>\n",
       "      <td>NaN</td>\n",
       "      <td>Christian; Allegory</td>\n",
       "      <td>History of Black Writing Corpus</td>\n",
       "      <td>Also see Archive.org: https://archive.org/deta...</td>\n",
       "    </tr>\n",
       "    <tr>\n",
       "      <th>7</th>\n",
       "      <td>Braithwaite, William Stanley</td>\n",
       "      <td>Lyrics of Life and Love</td>\n",
       "      <td>1904</td>\n",
       "      <td>Poetry</td>\n",
       "      <td>Herbert B. Turner co.</td>\n",
       "      <td>Boston, Massachusetts</td>\n",
       "      <td>NaN</td>\n",
       "      <td>NaN</td>\n",
       "      <td>U-Michigan American Verse Project</td>\n",
       "      <td>NaN</td>\n",
       "    </tr>\n",
       "    <tr>\n",
       "      <th>8</th>\n",
       "      <td>Braithwaite, William Stanley</td>\n",
       "      <td>House of Falling Leaves, With Other Poems</td>\n",
       "      <td>1908</td>\n",
       "      <td>Poetry</td>\n",
       "      <td>John W. Luce and Co</td>\n",
       "      <td>Boston, Massachusetts</td>\n",
       "      <td>NaN</td>\n",
       "      <td>NaN</td>\n",
       "      <td>U-Michigan American Verse Project</td>\n",
       "      <td>NaN</td>\n",
       "    </tr>\n",
       "    <tr>\n",
       "      <th>9</th>\n",
       "      <td>Brown, William Wells</td>\n",
       "      <td>Clotel; Or, the President's Daughter: A Narrat...</td>\n",
       "      <td>1853</td>\n",
       "      <td>Fiction</td>\n",
       "      <td>Partridge and Oakey</td>\n",
       "      <td>London, England</td>\n",
       "      <td>NaN</td>\n",
       "      <td>Slavery; Passing; Interracial; Fugitive Slave ...</td>\n",
       "      <td>History of Black Writing Corpus</td>\n",
       "      <td>Also see Documenting the American South: https...</td>\n",
       "    </tr>\n",
       "  </tbody>\n",
       "</table>\n",
       "</div>"
      ],
      "text/plain": [
       "                      Author (last, first)  \\\n",
       "0                           Adams, Clayton   \n",
       "1  Anderson, William and Walter H. Stowers   \n",
       "2                            Andrews, W.T.   \n",
       "3                        Ashby, William M.   \n",
       "4                            Bennett, John   \n",
       "5                          Bibb, Eloise A.   \n",
       "6                     Blackson, Lorenzo D.   \n",
       "7             Braithwaite, William Stanley   \n",
       "8             Braithwaite, William Stanley   \n",
       "9                     Brown, William Wells   \n",
       "\n",
       "                                               Title  Year Published    Genre  \\\n",
       "0  Ethiopia: the Land of Promise; A Book With a P...            1917  Fiction   \n",
       "1                       Appointed: An American Novel            1894  Fiction   \n",
       "2           A Waif--A Prince; or, A Mother's Triumph            1895  Fiction   \n",
       "3                                       Redder Blood            1915  Fiction   \n",
       "4  Madam Margot, a Grotesque Legend of Old Charle...            1917  Fiction   \n",
       "5                                              Poems            1895   Poetry   \n",
       "6  Rise and Progress of the Kingdoms of Light and...            1867  Fiction   \n",
       "7                            Lyrics of Life and Love            1904   Poetry   \n",
       "8          House of Falling Leaves, With Other Poems            1908   Poetry   \n",
       "9  Clotel; Or, the President's Daughter: A Narrat...            1853  Fiction   \n",
       "\n",
       "                                           Publisher  \\\n",
       "0                                 Cosmopolitan Press   \n",
       "1                           Detroit Law Printing Co.   \n",
       "2  Publishing House, Methodist Episcopal Church S...   \n",
       "3                                 Cosmopolitan Press   \n",
       "4                                        Century Co.   \n",
       "5                               Monthly Review Press   \n",
       "6                               J. Nicholas, Printer   \n",
       "7                              Herbert B. Turner co.   \n",
       "8                                John W. Luce and Co   \n",
       "9                                Partridge and Oakey   \n",
       "\n",
       "        Location of Publisher Location signed by author  \\\n",
       "0                    New York                       NaN   \n",
       "1                     Detroit                       NaN   \n",
       "2        Nashville, Tennessee                       NaN   \n",
       "3                    New York                       NaN   \n",
       "4                    New York                       NaN   \n",
       "5       Boston, Massachusetts                       NaN   \n",
       "6  Philadelphia, Pennsylvania                       NaN   \n",
       "7       Boston, Massachusetts                       NaN   \n",
       "8       Boston, Massachusetts                       NaN   \n",
       "9             London, England                       NaN   \n",
       "\n",
       "                                            Keywords  \\\n",
       "0          Black utopia; segregation; reconstruction   \n",
       "1    Interracial friendship; Northerners going south   \n",
       "2  Religious allegory; Egypt (Hebrews as oppresse...   \n",
       "3                        Passing; Interracial desire   \n",
       "4                              Supernatural; Romance   \n",
       "5  Mentions Alice Dunbar-Nelson; Poem to Frederic...   \n",
       "6                                Christian; Allegory   \n",
       "7                                                NaN   \n",
       "8                                                NaN   \n",
       "9  Slavery; Passing; Interracial; Fugitive Slave ...   \n",
       "\n",
       "                        Derived From  \\\n",
       "0                         HathiTrust   \n",
       "1                         HathiTrust   \n",
       "2    History of Black Writing Corpus   \n",
       "3    History of Black Writing Corpus   \n",
       "4    History of Black Writing Corpus   \n",
       "5                  Digital Schomburg   \n",
       "6    History of Black Writing Corpus   \n",
       "7  U-Michigan American Verse Project   \n",
       "8  U-Michigan American Verse Project   \n",
       "9    History of Black Writing Corpus   \n",
       "\n",
       "                                    Status and Links  \n",
       "0    https://catalog.hathitrust.org/Record/008407122  \n",
       "1    https://catalog.hathitrust.org/Record/005568825  \n",
       "2   Also see LOC: https://www.loc.gov/item/06002450/  \n",
       "3    https://catalog.hathitrust.org/Record/004237253  \n",
       "4  https://catalog.hathitrust.org/Record/00858464...  \n",
       "5  Also see American Verse Project: https://quod....  \n",
       "6  Also see Archive.org: https://archive.org/deta...  \n",
       "7                                                NaN  \n",
       "8                                                NaN  \n",
       "9  Also see Documenting the American South: https...  "
      ]
     },
     "execution_count": 2,
     "metadata": {},
     "output_type": "execute_result"
    }
   ],
   "source": [
    "import pandas as pd # This command imports the library `pandas` --  we'll be learning more about in a later lesson!\n",
    "pd.read_csv('../_datasets/texts/literature/African-American-Literature-Text-Corpus/African-American-Literature-Corpus-Metadata-Amardeep-Singh.csv').head(10)"
   ]
  },
  {
   "cell_type": "markdown",
   "metadata": {},
   "source": [
    "In our dataset above, notice those NaN values?? This is the way that the dataframe datatype indicates MISSING DATA––i.e. a blank field in our CSV file. Keep this at the back of your mind, we'll come back to what those blank values might mean for our dataset. "
   ]
  },
  {
   "cell_type": "markdown",
   "metadata": {},
   "source": [
    "What if we wanted to:\n",
    "\n",
    "- know how many times a certain value appears in the data (e.g., the appearance of \"London, England\" as a publication location)\n",
    "\n",
    "- programatically change all blank values in the data (e.g., from a blank to “no data recorded”)\n",
    "\n",
    "- find the most and least common values in the data (e.g., most common “Genre” or Publishers)?\n",
    "\n",
    "We can use something called a Python list to store data and perform an operation on it!\n",
    "\n",
    "Let's look at some sample lists. Each of the lists below contain rows that are drawn from the dataset above."
   ]
  },
  {
   "cell_type": "code",
   "execution_count": 49,
   "metadata": {},
   "outputs": [],
   "source": [
    "authors = ['Adams, Clayton', 'Anderson, William and Walter H. Stowers',\n",
    "       'Andrews, W.T.', 'Ashby, William M.', 'Bennett, John',\n",
    "       'Bibb, Eloise A.', 'Blackson, Lorenzo D.',\n",
    "       'Braithwaite, William Stanley', 'Braithwaite, William Stanley',\n",
    "       'Brown, William Wells', 'Bruce, John Edward',\n",
    "       'Burgess, Marie Louise', 'Bush-Banks, Olivia Ward',\n",
    "       'Bush-Banks, Olivia Ward', 'Chesnutt, Charles',\n",
    "       'Chesnutt, Charles', 'Chesnutt, Charles', 'Chesnutt, Charles',\n",
    "       'Chesnutt, Charles', 'Clifford, Carrie Williams']\n",
    "\n",
    "titles =  ['Ethiopia: the Land of Promise; A Book With a Purpose',\n",
    "       'Appointed: An American Novel',\n",
    "       \"A Waif--A Prince; or, A Mother's Triumph\", 'Redder Blood',\n",
    "       'Madam Margot, a Grotesque Legend of Old Charleston', 'Poems',\n",
    "       'Rise and Progress of the Kingdoms of Light and Darkness: Or, The Reign of the Kings Alpha and Abedon\"',\n",
    "       'Lyrics of Life and Love',\n",
    "       'House of Falling Leaves, With Other Poems',\n",
    "       \"Clotel; Or, the President's Daughter: A Narrative of Slave Life in the United States\",\n",
    "       'Awakening of Hezekiah Jones', 'Ave Maria, A Tale',\n",
    "       'Original Poems', 'Driftwood', 'The Conjure Woman',\n",
    "       \"The Colonel's Dream\", 'The House Behind the Cedars',\n",
    "       'The Marrow of Tradition',\n",
    "       'The Wife of His Youth and Other Stories of the Color Line',\n",
    "       'Race Rhymes']\n",
    "\n",
    "genres = ['Fiction', 'Fiction', 'Fiction', 'Fiction', 'Fiction', 'Poetry',\n",
    "       'Fiction', 'Poetry', 'Poetry', 'Fiction', 'Fiction', 'Fiction',\n",
    "       'Poetry', 'Poetry', 'Fiction', 'Fiction', 'Fiction', 'Fiction',\n",
    "       'Fiction, Nonfiction', 'Poetry']\n",
    "\n",
    "location_signed = ['', '', '', '', '', '', '', '', '', '', '', '',\n",
    "       'Providence, Rhode Island', '', '', '', '', '', '', '']\n",
    "\n",
    "\n",
    "year_published = [1917, 1894, 1895, 1915, 1917, 1895, 1867, 1904, 1908, 1853, 1916,\n",
    "       1895, 1899, 1914, 1899, 1905, 1900, 1901, 1899, 1911]"
   ]
  },
  {
   "cell_type": "code",
   "execution_count": 61,
   "metadata": {},
   "outputs": [
    {
     "data": {
      "text/plain": [
       "array(['New York', 'Detroit', 'Nashville, Tennessee', 'New York',\n",
       "       'New York', 'Boston, Massachusetts', 'Philadelphia, Pennsylvania',\n",
       "       'Boston, Massachusetts', 'Boston, Massachusetts',\n",
       "       'London, England', 'Hopkinsville, Kentucky', nan,\n",
       "       'Providence, Rhode Island', 'Providence, Rhode Island', 'New York',\n",
       "       'New York', 'Boston, Massachusetts; New York, New York',\n",
       "       'Boston, Massachusetts; New York, New York',\n",
       "       'Boston, Massachusetts; New York, New York', 'Washington, DC'],\n",
       "      dtype=object)"
      ]
     },
     "execution_count": 61,
     "metadata": {},
     "output_type": "execute_result"
    }
   ],
   "source": [
    "M = df['Location of Publisher'].head(20).to_numpy()\n",
    "M"
   ]
  },
  {
   "cell_type": "markdown",
   "metadata": {},
   "source": [
    "### Using a `for` loop to iterate over a list\n",
    "In your homework, you learned about `for` loops: they're a way of iterating over a set of items in a list in Python. \n",
    "\n",
    "For instance, we could iterate over all of the categories that appear in our `genre` list:"
   ]
  },
  {
   "cell_type": "code",
   "execution_count": 25,
   "metadata": {},
   "outputs": [
    {
     "name": "stdout",
     "output_type": "stream",
     "text": [
      "Fiction\n",
      "Fiction\n",
      "Fiction\n",
      "Fiction\n",
      "Fiction\n",
      "Poetry\n",
      "Fiction\n",
      "Poetry\n",
      "Poetry\n",
      "Fiction\n",
      "Fiction\n",
      "Fiction\n",
      "Poetry\n",
      "Poetry\n",
      "Fiction\n",
      "Fiction\n",
      "Fiction\n",
      "Fiction\n",
      "Fiction, Nonfiction\n",
      "Poetry\n"
     ]
    }
   ],
   "source": [
    "for genre in genres:\n",
    "    print(genre)"
   ]
  },
  {
   "cell_type": "markdown",
   "metadata": {},
   "source": [
    "We could also add more information, like print the line number for each item in our list.\n",
    "\n",
    "To do this, we use the `enumerate()` operation:\n",
    "\n",
    "###  `enumerate()` "
   ]
  },
  {
   "cell_type": "code",
   "execution_count": 26,
   "metadata": {},
   "outputs": [
    {
     "name": "stdout",
     "output_type": "stream",
     "text": [
      "Title 0: Fiction\n",
      "Title 1: Fiction\n",
      "Title 2: Fiction\n",
      "Title 3: Fiction\n",
      "Title 4: Fiction\n",
      "Title 5: Poetry\n",
      "Title 6: Fiction\n",
      "Title 7: Poetry\n",
      "Title 8: Poetry\n",
      "Title 9: Fiction\n",
      "Title 10: Fiction\n",
      "Title 11: Fiction\n",
      "Title 12: Poetry\n",
      "Title 13: Poetry\n",
      "Title 14: Fiction\n",
      "Title 15: Fiction\n",
      "Title 16: Fiction\n",
      "Title 17: Fiction\n",
      "Title 18: Fiction, Nonfiction\n",
      "Title 19: Poetry\n"
     ]
    }
   ],
   "source": [
    "# We can get a little fancy and add more to our label: \n",
    "for number, genre in enumerate(genres):\n",
    "    print(f'Title {number}:', genre) # Here we use an `f-string` to add a text string to our variable."
   ]
  },
  {
   "cell_type": "markdown",
   "metadata": {},
   "source": [
    "\n",
    "### Using loops to extract subsets of our data\n",
    "\n",
    "We can use a loop to select only some items from a list.\n",
    "\n",
    "We create a new empty list and then use a `for` loop and an `if` to add items to it from our list *if* they meet our requirements:"
   ]
  },
  {
   "cell_type": "code",
   "execution_count": 27,
   "metadata": {},
   "outputs": [],
   "source": [
    "original_list = ['oranges', 'item_we_want', 'item_we_want', 'apples','item_we_want','item_we_DO_NOT_want']\n",
    "\n",
    "new_list = []\n",
    "for item in original_list:\n",
    "    if item == 'item_we_want':\n",
    "        new_list.append(item)"
   ]
  },
  {
   "cell_type": "code",
   "execution_count": 28,
   "metadata": {},
   "outputs": [
    {
     "name": "stdout",
     "output_type": "stream",
     "text": [
      "['item_we_want', 'item_we_want', 'item_we_want']\n"
     ]
    }
   ],
   "source": [
    "print(new_list)"
   ]
  },
  {
   "cell_type": "markdown",
   "metadata": {},
   "source": [
    "Say we wanted a list of titles whose listed `genre` was \"Poetry.\"  We create a new (empty) list, called `genres_subset`, and then use a `for` loop and an `if` to add items to it."
   ]
  },
  {
   "cell_type": "code",
   "execution_count": 34,
   "metadata": {},
   "outputs": [],
   "source": [
    "genres_subset = []\n",
    "\n",
    "for genre in genres:\n",
    "    if genre == \"Poetry\":\n",
    "        genres_subset.append(genre)"
   ]
  },
  {
   "cell_type": "code",
   "execution_count": 31,
   "metadata": {},
   "outputs": [
    {
     "name": "stdout",
     "output_type": "stream",
     "text": [
      "['Poetry', 'Poetry', 'Poetry', 'Poetry', 'Poetry', 'Poetry']\n"
     ]
    }
   ],
   "source": [
    "print(genres_subset)"
   ]
  },
  {
   "cell_type": "markdown",
   "metadata": {},
   "source": [
    "We could do the same for `location_signed`"
   ]
  },
  {
   "cell_type": "code",
   "execution_count": 50,
   "metadata": {},
   "outputs": [],
   "source": [
    "location_signed_subset = []\n",
    "\n",
    "for location in location_signed:\n",
    "    if location != \"\" : # Here, we're constructing a for loop to add all the locations that are not blank\n",
    "        location_signed_subset.append(location)"
   ]
  },
  {
   "cell_type": "code",
   "execution_count": 51,
   "metadata": {},
   "outputs": [
    {
     "name": "stdout",
     "output_type": "stream",
     "text": [
      "['Providence, Rhode Island']\n"
     ]
    }
   ],
   "source": [
    "print(location_signed_subset)"
   ]
  },
  {
   "cell_type": "markdown",
   "metadata": {},
   "source": [
    "We can create this list in a slightly more compact fashion, called a *list comprehension*.\n",
    "\n",
    "Instead of writing out the full `for` loop, we can put the loop *INSIDE* the brackets that contain the list we want to make:"
   ]
  },
  {
   "cell_type": "code",
   "execution_count": 32,
   "metadata": {},
   "outputs": [],
   "source": [
    "newer_list = [item for item in original_list if item == 'item_we_want']"
   ]
  },
  {
   "cell_type": "code",
   "execution_count": 33,
   "metadata": {},
   "outputs": [
    {
     "name": "stdout",
     "output_type": "stream",
     "text": [
      "['item_we_want', 'item_we_want', 'item_we_want']\n"
     ]
    }
   ],
   "source": [
    "print(newer_list)"
   ]
  },
  {
   "cell_type": "markdown",
   "metadata": {},
   "source": [
    "### Using loops to clean our data\n",
    "What if we wanted to update our data, so that blank data was not just a blank, but something more descriptive?\n",
    "\n",
    "We can use `for` loops and conditional statements to add items to the list if they meet some conditions, or modify and add them if they meet others:\n",
    "\n",
    "We create a new list called `updated_location_signed`, and then use `if` and `else` statements:"
   ]
  },
  {
   "cell_type": "code",
   "execution_count": 52,
   "metadata": {},
   "outputs": [],
   "source": [
    "updated_location_signed = []\n",
    "\n",
    "for location in location_signed:\n",
    "    if location == '':# Here, we're telling the loop to look for location_signed that are marked as blank\n",
    "        new_location_signed = 'no location recorded' # assigning a new variable called `new_location_signed`\n",
    "        updated_location_signed.append(new_location_signed) # tell the loop to record 'no location recorded' if location_signed field originally blank\n",
    "    else:\n",
    "        updated_location_signed.append(location) # Here we're telling the loop to add the location signed label as is, if it's not blank."
   ]
  },
  {
   "cell_type": "markdown",
   "metadata": {},
   "source": [
    " Let's check inside our new list:"
   ]
  },
  {
   "cell_type": "code",
   "execution_count": 53,
   "metadata": {},
   "outputs": [
    {
     "data": {
      "text/plain": [
       "['no location recorded',\n",
       " 'no location recorded',\n",
       " 'no location recorded',\n",
       " 'no location recorded',\n",
       " 'no location recorded',\n",
       " 'no location recorded',\n",
       " 'no location recorded',\n",
       " 'no location recorded',\n",
       " 'no location recorded',\n",
       " 'no location recorded',\n",
       " 'no location recorded',\n",
       " 'no location recorded',\n",
       " 'Providence, Rhode Island',\n",
       " 'no location recorded',\n",
       " 'no location recorded',\n",
       " 'no location recorded',\n",
       " 'no location recorded',\n",
       " 'no location recorded',\n",
       " 'no location recorded',\n",
       " 'no location recorded']"
      ]
     },
     "execution_count": 53,
     "metadata": {},
     "output_type": "execute_result"
    }
   ],
   "source": [
    "updated_location_signed"
   ]
  },
  {
   "cell_type": "markdown",
   "metadata": {},
   "source": [
    "### Counting items in a list or collection\n",
    "\n",
    "To count items in lists or collections, we'll have to **`import`** a pre-written function called `Counter` from a library called `collections`\n"
   ]
  },
  {
   "cell_type": "code",
   "execution_count": 54,
   "metadata": {},
   "outputs": [],
   "source": [
    "from collections import Counter"
   ]
  },
  {
   "cell_type": "markdown",
   "metadata": {},
   "source": [
    "To use the `Counter()` function, we just need to put the thing we want counted inside the parentheses."
   ]
  },
  {
   "cell_type": "code",
   "execution_count": 56,
   "metadata": {},
   "outputs": [
    {
     "data": {
      "text/plain": [
       "Counter({'Fiction': 13, 'Poetry': 6, 'Fiction, Nonfiction': 1})"
      ]
     },
     "execution_count": 56,
     "metadata": {},
     "output_type": "execute_result"
    }
   ],
   "source": [
    "Counter(genres)"
   ]
  },
  {
   "cell_type": "markdown",
   "metadata": {},
   "source": [
    "What we've created is a dictionary where the entries are the category of \"genre\" and the number of times it appears in our list.\n",
    "\n",
    "We can do some nifty things with this dictionary, like sort it into the most and least common diseases.\n"
   ]
  },
  {
   "cell_type": "code",
   "execution_count": 57,
   "metadata": {},
   "outputs": [
    {
     "data": {
      "text/plain": [
       "[('Fiction', 13), ('Poetry', 6), ('Fiction, Nonfiction', 1)]"
      ]
     },
     "execution_count": 57,
     "metadata": {},
     "output_type": "execute_result"
    }
   ],
   "source": [
    "# To sort into the most common diseases:\n",
    "genres_tally = Counter(genres)\n",
    "genres_tally.most_common()"
   ]
  },
  {
   "cell_type": "code",
   "execution_count": 58,
   "metadata": {},
   "outputs": [
    {
     "data": {
      "text/plain": [
       "[('Poetry', 6), ('Fiction, Nonfiction', 1)]"
      ]
     },
     "execution_count": 58,
     "metadata": {},
     "output_type": "execute_result"
    }
   ],
   "source": [
    "# To sort into the two least common diseases:\n",
    "genres_tally = Counter(genres)\n",
    "genres_tally.most_common()[-2:] # here we sort in reverse from the least common"
   ]
  },
  {
   "cell_type": "markdown",
   "metadata": {},
   "source": [
    "### Exercise 2: Counting and sorting \"professions\" in a list"
   ]
  },
  {
   "cell_type": "code",
   "execution_count": 64,
   "metadata": {},
   "outputs": [],
   "source": [
    "publisher_location = ['New York', 'Detroit', 'Nashville, Tennessee', 'New York',\n",
    "       'New York', 'Boston, Massachusetts', 'Philadelphia, Pennsylvania',\n",
    "       'Boston, Massachusetts', 'Boston, Massachusetts',\n",
    "       'London, England', 'Hopkinsville, Kentucky', '',\n",
    "       'Providence, Rhode Island', 'Providence, Rhode Island', 'New York',\n",
    "       'New York', 'Boston, Massachusetts; New York, New York',\n",
    "       'Boston, Massachusetts; New York, New York',\n",
    "       'Boston, Massachusetts; New York, New York', 'Washington, DC']\n"
   ]
  },
  {
   "cell_type": "markdown",
   "metadata": {},
   "source": [
    "1. Count the number of times each publisher location appears in this list"
   ]
  },
  {
   "cell_type": "code",
   "execution_count": null,
   "metadata": {},
   "outputs": [],
   "source": [
    "## Your code here"
   ]
  },
  {
   "cell_type": "markdown",
   "metadata": {},
   "source": [
    "2. Make a list of the top 5 most common locations that these works were published"
   ]
  },
  {
   "cell_type": "code",
   "execution_count": null,
   "metadata": {},
   "outputs": [],
   "source": [
    "## Your code here"
   ]
  },
  {
   "cell_type": "markdown",
   "metadata": {},
   "source": [
    "3. Make a new list of publisher locations that contains only the enteries where `publisher_location` is \"London, England\""
   ]
  },
  {
   "cell_type": "code",
   "execution_count": null,
   "metadata": {},
   "outputs": [],
   "source": [
    "## Your code here"
   ]
  },
  {
   "cell_type": "markdown",
   "metadata": {},
   "source": [
    "4. Make a `for`` loop that considers each item in the publisher locations list and prints \"Title was published in ___\""
   ]
  },
  {
   "cell_type": "code",
   "execution_count": null,
   "metadata": {},
   "outputs": [],
   "source": [
    "## Your code here\n",
    "    ## Your code here"
   ]
  },
  {
   "cell_type": "code",
   "execution_count": null,
   "metadata": {},
   "outputs": [],
   "source": []
  }
 ],
 "metadata": {
  "kernelspec": {
   "display_name": "Python 3",
   "language": "python",
   "name": "python3"
  },
  "language_info": {
   "codemirror_mode": {
    "name": "ipython",
    "version": 3
   },
   "file_extension": ".py",
   "mimetype": "text/x-python",
   "name": "python",
   "nbconvert_exporter": "python",
   "pygments_lexer": "ipython3",
   "version": "3.8.3"
  }
 },
 "nbformat": 4,
 "nbformat_minor": 4
}
