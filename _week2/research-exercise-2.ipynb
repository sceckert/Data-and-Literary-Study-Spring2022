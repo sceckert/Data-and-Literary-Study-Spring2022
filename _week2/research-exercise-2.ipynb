{
 "cells": [
  {
   "cell_type": "markdown",
   "metadata": {},
   "source": [
    "# Research Exercise 2: Working with Data in Python:\n",
    "\n",
    "In this homework, we're going to be learning how to use Python to perform some basic computational analysis of a text file and a small set of structured data. \n",
    "\n",
    "Some of what we'll be learning will build on [what we learned to do with the command line interface](https://github.com/sceckert/Data-and-Literary-Study-Spring2022/blob/main/_week1/introduction-to-the-command-line.md): perform basic searches across text, identify patterns, count words and lines. Python also allows us to far more robust analysis: we can write scripts that allow us to re-use code, manipulate and view data. \n"
   ]
  },
  {
   "cell_type": "markdown",
   "metadata": {},
   "source": [
    "## Before we get started... some Python and Jupyter Notebook Tips:\n",
    "\n",
    "This notebook is a Jupyter Notebook. You can interact with it in a few ways: \n",
    "\n",
    "1. You can click on [the Binder version](https://mybinder.org/v2/gh/sceckert/Data-and-Literary-Study-Spring2022/main?urlpath=lab/tree/_week2/research-exercise-2.ipynb) (this is hosted on a cloud server)\n",
    "2. You can run on your own machine through Jupyter Labs: \n",
    "\t- Download this notebook and this folder of data. ( https://github.com/sceckert/Data-and-Literary-Study-Spring2022/archive/main.zip)\n",
    "\t- I encourage you to learn to create Jupyter notebooks on your own machine––this will give you a little more control over writing and saving your own Python code\n",
    "\n",
    "###  Pro Tips:\n",
    "- Running a cell in JupyterLab: Click on the cell, then click ► (the \"Run\" icon) in the menu at the top of this notbook \n",
    "- `Tab` completion. \n",
    "    - Like the command line, Python uses tab completion\n",
    "    - Pressing the `tab` key on your on your keyboard will allow you to search for any variables that you've already defined, as well as matching functions or modules within python.\n",
    "- Run cells in order!\n",
    "    - Python executes code in the order that it's written. This means that some parts of code will depend on parts written earlier. If you get an error, it may mean that you simply haven't defined a variable or function. Make sure to run code in the sequence it's written.\n"
   ]
  },
  {
   "cell_type": "markdown",
   "metadata": {},
   "source": [
    "\n",
    "\n",
    "### SUBMITTING YOUR HOMEWORK:\n",
    "\n",
    "To submit your homework, save your answers in your Jupyter Notebook.\n",
    "\n",
    "There are two ways to do this:\n",
    "\n",
    "- **1. If you are running JupyterLab off Binder (the cloud server interactive version)**:\n",
    "    - Make sure to SAVE and DOWNLOAD the notebook when you are done––the cloud server will not save your *any* of your changes!! \n",
    "    - To do this, go to the top menu in Jupyter Labs, click on the Save icon, and then and click on the \"Download\" button. This will download as a Notebook (.ipynb).  This is what you'll be turning in as your homework. \n",
    "![image](images/download.png)\n",
    "    \n",
    "    \n",
    "- **2. If you would like to running JupyterLabs through your own Anaconda Navigator**:\n",
    "    - Download our course files: https://github.com/sceckert/Data-and-Literary-Study-Spring2022/archive/main.zip and unzip the folder somewhere on your desktop\n",
    "    - Launch Anaconda Navigator, then launch Jupyter Labs\n",
    "    - Once in Jupyter labs, navigate to the folder on your desktop with our course materials, then navigate into the directory called \"_week2\"\n",
    "    - To save any changes you make to the notebook, click on the Save icon.\n",
    "    \n",
    " \n",
    " #### How do I know what way I'm runing JupyterLabs? \n",
    " \n",
    " If you're using Binder, you will always have a small Binder icon in the the top menu, like this: \n",
    " \n",
    " ![image](../_images/binder.png)"
   ]
  },
  {
   "cell_type": "markdown",
   "metadata": {},
   "source": [
    "---"
   ]
  },
  {
   "cell_type": "markdown",
   "metadata": {},
   "source": [
    "## Part 1: Command Line in Jupyter Notebooks\n",
    "\n",
    "Jupyter notebooks can be used to type command line commands! This means that all of the command line commands you learned can also be written within a Jupyter notebook environment. \n",
    "\n",
    "There are a few important differences. First, all command line commands must be prefaced with an `!`. \n",
    "\n",
    "So rather than typing `pwd` or `cat [filepathtomyfile]` (as you would do in your terminal window), you would type `!pwd` or `!cat [filepathtomyfile]`\n",
    "\n",
    "Let's test it out below!"
   ]
  },
  {
   "cell_type": "code",
   "execution_count": 45,
   "metadata": {},
   "outputs": [
    {
     "name": "stdout",
     "output_type": "stream",
     "text": [
      "Kafka-The-Metamorphosis.txt  python_demo.ipynb\r\n",
      "bourdieu-dates.csv           research-exercise-2.ipynb\r\n",
      "bourdieu-publishers.csv      walsh_goodreads_classics.csv\r\n",
      "introduction-to-python.ipynb woolf-a-room-of-ones-own.txt\r\n"
     ]
    }
   ],
   "source": [
    "!ls"
   ]
  },
  {
   "cell_type": "code",
   "execution_count": 46,
   "metadata": {},
   "outputs": [],
   "source": [
    "# type a command line command here"
   ]
  },
  {
   "cell_type": "code",
   "execution_count": 47,
   "metadata": {},
   "outputs": [],
   "source": [
    "# type another command line command here"
   ]
  },
  {
   "cell_type": "markdown",
   "metadata": {},
   "source": [
    "## Part 2: Python Basics"
   ]
  },
  {
   "cell_type": "markdown",
   "metadata": {},
   "source": [
    "As Part 2 of this homework, please read and complete the [Introduction to Python Basics tutorial](https://github.com/sceckert/Data-and-Literary-Study-Spring2022/blob/main/_week2/introduction-to-python.ipynb) ([interactive version here](https://mybinder.org/v2/gh/sceckert/Data-and-Literary-Study-Spring2022/main?urlpath=lab/tree/_week2/introduction-to-python.ipynb) which will give you some key foundations to set us up for our exercise today. \n",
    "\n",
    "**Complete Exercises 1-3 in the Introduction to Python Basics notebook.**\n",
    "\n",
    "**REMEMBER: if you work in the CLOUD version of the notebook, make sure to download a copy for your local machine--- none of the changes you make will be saved**\n"
   ]
  },
  {
   "cell_type": "markdown",
   "metadata": {},
   "source": [
    "## Part 3: Extracting book reviewing data from variables and lists"
   ]
  },
  {
   "cell_type": "markdown",
   "metadata": {},
   "source": [
    "Complete Questions 1-8 that appear below in this notebook\n",
    "\n",
    "The dataset we'll be working with in this set of exercises comes from Melanie Walsh and Maria Antoniak's dataset of the top 144 books that Goodreads users either tagged as a “classic” the most --according to the number of times the work has been tagged in the site's history or read the most as of 2019. \n",
    "\n",
    "In addition to \"classic,\" the dataset tracks whether a Goodreads user gave tagged a given title with the tag \"most_shelved\" or \"most_read.\"\n",
    "\n",
    "\n",
    "Before going any further, take a minute to read a little about how Walsh and Antoniak constructed this dataset, on their [\"Goodreads Classics Website\"](https://melaniewalsh.github.io/Goodreads-Classics/Goodreads-Classics-Table.html) We're going to be working with a small portion of it for this lesson––in later lessons, we'll be building on these skills as we learn how to interact with a larger dataset.\n"
   ]
  },
  {
   "cell_type": "markdown",
   "metadata": {},
   "source": [
    "Here's a peek at part of the dataset: "
   ]
  },
  {
   "cell_type": "code",
   "execution_count": 1,
   "metadata": {},
   "outputs": [
    {
     "data": {
      "text/html": [
       "<div>\n",
       "<style scoped>\n",
       "    .dataframe tbody tr th:only-of-type {\n",
       "        vertical-align: middle;\n",
       "    }\n",
       "\n",
       "    .dataframe tbody tr th {\n",
       "        vertical-align: top;\n",
       "    }\n",
       "\n",
       "    .dataframe thead th {\n",
       "        text-align: right;\n",
       "    }\n",
       "</style>\n",
       "<table border=\"1\" class=\"dataframe\">\n",
       "  <thead>\n",
       "    <tr style=\"text-align: right;\">\n",
       "      <th></th>\n",
       "      <th>author</th>\n",
       "      <th>title</th>\n",
       "      <th>date</th>\n",
       "      <th>ratings</th>\n",
       "      <th>reviews</th>\n",
       "      <th>average _rating</th>\n",
       "      <th>most_shelved</th>\n",
       "      <th>most_read</th>\n",
       "    </tr>\n",
       "  </thead>\n",
       "  <tbody>\n",
       "    <tr>\n",
       "      <th>0</th>\n",
       "      <td>Harper Lee</td>\n",
       "      <td>To Kill a Mockingbird</td>\n",
       "      <td>1960</td>\n",
       "      <td>5.1M</td>\n",
       "      <td>100k</td>\n",
       "      <td>4.27</td>\n",
       "      <td>2.0</td>\n",
       "      <td>NaN</td>\n",
       "    </tr>\n",
       "    <tr>\n",
       "      <th>1</th>\n",
       "      <td>F. Scott Fitzgerald</td>\n",
       "      <td>The Great Gatsby</td>\n",
       "      <td>1926</td>\n",
       "      <td>4.3M</td>\n",
       "      <td>80k</td>\n",
       "      <td>3.93</td>\n",
       "      <td>3.0</td>\n",
       "      <td>8.0</td>\n",
       "    </tr>\n",
       "    <tr>\n",
       "      <th>2</th>\n",
       "      <td>George Orwell</td>\n",
       "      <td>1,984</td>\n",
       "      <td>1949</td>\n",
       "      <td>3.7M</td>\n",
       "      <td>85k</td>\n",
       "      <td>4.19</td>\n",
       "      <td>5.0</td>\n",
       "      <td>4.0</td>\n",
       "    </tr>\n",
       "    <tr>\n",
       "      <th>3</th>\n",
       "      <td>Jane Austen</td>\n",
       "      <td>Pride and Prejudice</td>\n",
       "      <td>1813</td>\n",
       "      <td>3.5M</td>\n",
       "      <td>83k</td>\n",
       "      <td>4.28</td>\n",
       "      <td>1.0</td>\n",
       "      <td>6.0</td>\n",
       "    </tr>\n",
       "    <tr>\n",
       "      <th>4</th>\n",
       "      <td>J.R.R. Tolkien</td>\n",
       "      <td>The Hobbit or There and Back Again</td>\n",
       "      <td>1937</td>\n",
       "      <td>3.3M</td>\n",
       "      <td>56k</td>\n",
       "      <td>4.28</td>\n",
       "      <td>29.0</td>\n",
       "      <td>15.0</td>\n",
       "    </tr>\n",
       "    <tr>\n",
       "      <th>5</th>\n",
       "      <td>George Orwell</td>\n",
       "      <td>Animal Farm</td>\n",
       "      <td>1945</td>\n",
       "      <td>3.2M</td>\n",
       "      <td>69k</td>\n",
       "      <td>3.97</td>\n",
       "      <td>8.0</td>\n",
       "      <td>2.0</td>\n",
       "    </tr>\n",
       "    <tr>\n",
       "      <th>6</th>\n",
       "      <td>Anne Frank</td>\n",
       "      <td>The Diary of a Young Girl</td>\n",
       "      <td>1947</td>\n",
       "      <td>3.2M</td>\n",
       "      <td>33k</td>\n",
       "      <td>4.17</td>\n",
       "      <td>37.0</td>\n",
       "      <td>31.0</td>\n",
       "    </tr>\n",
       "    <tr>\n",
       "      <th>7</th>\n",
       "      <td>J.D. Salinger</td>\n",
       "      <td>The Catcher in the Rye</td>\n",
       "      <td>1951</td>\n",
       "      <td>3.0M</td>\n",
       "      <td>66k</td>\n",
       "      <td>3.81</td>\n",
       "      <td>7.0</td>\n",
       "      <td>17.0</td>\n",
       "    </tr>\n",
       "    <tr>\n",
       "      <th>8</th>\n",
       "      <td>J.R.R. Tolkien</td>\n",
       "      <td>The Fellowship of the Ring</td>\n",
       "      <td>1954</td>\n",
       "      <td>2.5M</td>\n",
       "      <td>28k</td>\n",
       "      <td>4.37</td>\n",
       "      <td>59.0</td>\n",
       "      <td>35.0</td>\n",
       "    </tr>\n",
       "    <tr>\n",
       "      <th>9</th>\n",
       "      <td>William Golding</td>\n",
       "      <td>Lord of the Flies</td>\n",
       "      <td>1954</td>\n",
       "      <td>2.5M</td>\n",
       "      <td>44k</td>\n",
       "      <td>3.69</td>\n",
       "      <td>10.0</td>\n",
       "      <td>NaN</td>\n",
       "    </tr>\n",
       "    <tr>\n",
       "      <th>10</th>\n",
       "      <td>Paulo Coelho</td>\n",
       "      <td>The Alchemist</td>\n",
       "      <td>1988</td>\n",
       "      <td>2.5M</td>\n",
       "      <td>94k</td>\n",
       "      <td>3.89</td>\n",
       "      <td>NaN</td>\n",
       "      <td>3.0</td>\n",
       "    </tr>\n",
       "    <tr>\n",
       "      <th>11</th>\n",
       "      <td>C.S. Lewis</td>\n",
       "      <td>The Lion, the Witch and the Wardrobe</td>\n",
       "      <td>1950</td>\n",
       "      <td>2.4M</td>\n",
       "      <td>26k</td>\n",
       "      <td>4.22</td>\n",
       "      <td>63.0</td>\n",
       "      <td>23.0</td>\n",
       "    </tr>\n",
       "    <tr>\n",
       "      <th>12</th>\n",
       "      <td>William Shakespeare</td>\n",
       "      <td>Romeo and Juliet</td>\n",
       "      <td>1595</td>\n",
       "      <td>2.3M</td>\n",
       "      <td>23k</td>\n",
       "      <td>3.75</td>\n",
       "      <td>9.0</td>\n",
       "      <td>40.0</td>\n",
       "    </tr>\n",
       "    <tr>\n",
       "      <th>13</th>\n",
       "      <td>John Steinbeck</td>\n",
       "      <td>Of Mice and Men</td>\n",
       "      <td>1937</td>\n",
       "      <td>2.2M</td>\n",
       "      <td>40k</td>\n",
       "      <td>3.88</td>\n",
       "      <td>13.0</td>\n",
       "      <td>14.0</td>\n",
       "    </tr>\n",
       "    <tr>\n",
       "      <th>14</th>\n",
       "      <td>Lois Lowry</td>\n",
       "      <td>The Giver</td>\n",
       "      <td>1993</td>\n",
       "      <td>2.1M</td>\n",
       "      <td>70k</td>\n",
       "      <td>4.13</td>\n",
       "      <td>87.0</td>\n",
       "      <td>NaN</td>\n",
       "    </tr>\n",
       "    <tr>\n",
       "      <th>15</th>\n",
       "      <td>Ray Bradbury</td>\n",
       "      <td>Fahrenheit 451</td>\n",
       "      <td>1953</td>\n",
       "      <td>2.0M</td>\n",
       "      <td>57k</td>\n",
       "      <td>3.98</td>\n",
       "      <td>18.0</td>\n",
       "      <td>5.0</td>\n",
       "    </tr>\n",
       "    <tr>\n",
       "      <th>16</th>\n",
       "      <td>Louisa May Alcott</td>\n",
       "      <td>Little Women</td>\n",
       "      <td>1869</td>\n",
       "      <td>1.9M</td>\n",
       "      <td>38k</td>\n",
       "      <td>4.12</td>\n",
       "      <td>12.0</td>\n",
       "      <td>20.0</td>\n",
       "    </tr>\n",
       "    <tr>\n",
       "      <th>17</th>\n",
       "      <td>Charlotte Brontë</td>\n",
       "      <td>Jane Eyre</td>\n",
       "      <td>1847</td>\n",
       "      <td>1.8M</td>\n",
       "      <td>50k</td>\n",
       "      <td>4.14</td>\n",
       "      <td>4.0</td>\n",
       "      <td>24.0</td>\n",
       "    </tr>\n",
       "    <tr>\n",
       "      <th>18</th>\n",
       "      <td>Margaret Atwood</td>\n",
       "      <td>The Handmaid's Tale</td>\n",
       "      <td>1985</td>\n",
       "      <td>1.7M</td>\n",
       "      <td>80k</td>\n",
       "      <td>4.12</td>\n",
       "      <td>61.0</td>\n",
       "      <td>1.0</td>\n",
       "    </tr>\n",
       "    <tr>\n",
       "      <th>19</th>\n",
       "      <td>Antoine de Saint-Exupéry</td>\n",
       "      <td>The Little Prince</td>\n",
       "      <td>1943</td>\n",
       "      <td>1.7M</td>\n",
       "      <td>49k</td>\n",
       "      <td>4.31</td>\n",
       "      <td>40.0</td>\n",
       "      <td>7.0</td>\n",
       "    </tr>\n",
       "  </tbody>\n",
       "</table>\n",
       "</div>"
      ],
      "text/plain": [
       "                      author                                 title  date  \\\n",
       "0                 Harper Lee                 To Kill a Mockingbird  1960   \n",
       "1        F. Scott Fitzgerald                      The Great Gatsby  1926   \n",
       "2              George Orwell                                 1,984  1949   \n",
       "3                Jane Austen                   Pride and Prejudice  1813   \n",
       "4             J.R.R. Tolkien    The Hobbit or There and Back Again  1937   \n",
       "5              George Orwell                           Animal Farm  1945   \n",
       "6                 Anne Frank             The Diary of a Young Girl  1947   \n",
       "7              J.D. Salinger                The Catcher in the Rye  1951   \n",
       "8             J.R.R. Tolkien            The Fellowship of the Ring  1954   \n",
       "9            William Golding                     Lord of the Flies  1954   \n",
       "10              Paulo Coelho                         The Alchemist  1988   \n",
       "11                C.S. Lewis  The Lion, the Witch and the Wardrobe  1950   \n",
       "12       William Shakespeare                      Romeo and Juliet  1595   \n",
       "13            John Steinbeck                       Of Mice and Men  1937   \n",
       "14                Lois Lowry                             The Giver  1993   \n",
       "15              Ray Bradbury                        Fahrenheit 451  1953   \n",
       "16         Louisa May Alcott                          Little Women  1869   \n",
       "17          Charlotte Brontë                             Jane Eyre  1847   \n",
       "18           Margaret Atwood                   The Handmaid's Tale  1985   \n",
       "19  Antoine de Saint-Exupéry                     The Little Prince  1943   \n",
       "\n",
       "   ratings reviews  average _rating  most_shelved  most_read  \n",
       "0     5.1M    100k             4.27           2.0        NaN  \n",
       "1     4.3M     80k             3.93           3.0        8.0  \n",
       "2     3.7M     85k             4.19           5.0        4.0  \n",
       "3     3.5M     83k             4.28           1.0        6.0  \n",
       "4     3.3M     56k             4.28          29.0       15.0  \n",
       "5     3.2M     69k             3.97           8.0        2.0  \n",
       "6     3.2M     33k             4.17          37.0       31.0  \n",
       "7     3.0M     66k             3.81           7.0       17.0  \n",
       "8     2.5M     28k             4.37          59.0       35.0  \n",
       "9     2.5M     44k             3.69          10.0        NaN  \n",
       "10    2.5M     94k             3.89           NaN        3.0  \n",
       "11    2.4M     26k             4.22          63.0       23.0  \n",
       "12    2.3M     23k             3.75           9.0       40.0  \n",
       "13    2.2M     40k             3.88          13.0       14.0  \n",
       "14    2.1M     70k             4.13          87.0        NaN  \n",
       "15    2.0M     57k             3.98          18.0        5.0  \n",
       "16    1.9M     38k             4.12          12.0       20.0  \n",
       "17    1.8M     50k             4.14           4.0       24.0  \n",
       "18    1.7M     80k             4.12          61.0        1.0  \n",
       "19    1.7M     49k             4.31          40.0        7.0  "
      ]
     },
     "execution_count": 1,
     "metadata": {},
     "output_type": "execute_result"
    }
   ],
   "source": [
    "import pandas\n",
    "pandas.read_csv(\"../_datasets/walsh_goodreads_classics.csv\").head(20)"
   ]
  },
  {
   "cell_type": "markdown",
   "metadata": {},
   "source": [
    "As you complete the exercises below, think about Walsh and Antoniak are defining \"classic.\" What kind of larger claims could be made with this data? What kind of claims would it be difficult to make with this data?\n",
    "\n",
    "\n",
    "## Complete Questions 1-8"
   ]
  },
  {
   "cell_type": "markdown",
   "metadata": {},
   "source": [
    "### Question 1"
   ]
  },
  {
   "cell_type": "code",
   "execution_count": 3,
   "metadata": {},
   "outputs": [],
   "source": [
    "title1 = 'To Kill a Mockinbird'\n",
    "title1_author = 'Harper Lee'\n",
    "title1_date = 1960\n",
    "title1_average_rating = 4.27\n",
    "title1_most_shelved = 2\n",
    "title1_most_read = 0"
   ]
  },
  {
   "cell_type": "markdown",
   "metadata": {},
   "source": [
    "Write an `if` statement that reports whether title1_average_rating is greater than 4"
   ]
  },
  {
   "cell_type": "code",
   "execution_count": 5,
   "metadata": {},
   "outputs": [
    {
     "name": "stdout",
     "output_type": "stream",
     "text": [
      "Title has an average rating greater than 4.\n"
     ]
    }
   ],
   "source": [
    "## Your code here\n",
    "    print('Title has an average rating greater than 4.')"
   ]
  },
  {
   "cell_type": "markdown",
   "metadata": {},
   "source": [
    "### Question 2\n",
    "Write an `if` statement that reports whether `title1_date` is 1960"
   ]
  },
  {
   "cell_type": "code",
   "execution_count": 13,
   "metadata": {},
   "outputs": [
    {
     "name": "stdout",
     "output_type": "stream",
     "text": [
      "Title was published in 1960.\n"
     ]
    }
   ],
   "source": [
    "#Your code here\n",
    "    print('Title was published in 1960.')"
   ]
  },
  {
   "cell_type": "markdown",
   "metadata": {},
   "source": [
    "### Question 3\n",
    "Write an `if` statement that reports whether `title1_date` is less than 2000 *and* `title1_most_shelved` is not zero (i.e at has been tagged \"most_shelved\" at least once)"
   ]
  },
  {
   "cell_type": "code",
   "execution_count": 14,
   "metadata": {},
   "outputs": [
    {
     "name": "stdout",
     "output_type": "stream",
     "text": [
      "Title was published before 200 and has been tagged \"most_shelved\".\n"
     ]
    }
   ],
   "source": [
    "# Your code here\n",
    "    print('Title was published before 200 and has been tagged \"most_shelved\".')"
   ]
  },
  {
   "cell_type": "markdown",
   "metadata": {},
   "source": [
    "### Question 4"
   ]
  },
  {
   "cell_type": "code",
   "execution_count": 16,
   "metadata": {},
   "outputs": [],
   "source": [
    "title2 = 'The Great Gatsby'\n",
    "title2_author = 'F. Scott Fitzgerald'\n",
    "title2_date = 1926\n",
    "title2_average_rating = 3.93\n",
    "title2_most_shelved = 3\n",
    "title2_most_read = 8"
   ]
  },
  {
   "cell_type": "markdown",
   "metadata": {},
   "source": [
    "Combine an`if` statement with an `else` statement that will report whether `title2_average_rating` is greater than 4 or, if not, less than 4"
   ]
  },
  {
   "cell_type": "code",
   "execution_count": 17,
   "metadata": {},
   "outputs": [
    {
     "name": "stdout",
     "output_type": "stream",
     "text": [
      "Title has an average rating of less than 4 stars.\n"
     ]
    }
   ],
   "source": [
    "# Your code here\n",
    "    print('Title has an average rating of greater than 4 stars.')\n",
    "# Your code here\n",
    "    print('Title has an average rating of less than 4 stars.')"
   ]
  },
  {
   "cell_type": "markdown",
   "metadata": {},
   "source": [
    "### Question 5"
   ]
  },
  {
   "cell_type": "code",
   "execution_count": 19,
   "metadata": {},
   "outputs": [],
   "source": [
    "title3 = 'The Giver'\n",
    "title3_author = 'Lois Lowry'\n",
    "title3_date = 1993\n",
    "title3_average_rating = 4.13\n",
    "title3_most_shelved = 87\n",
    "title3_most_read = ''"
   ]
  },
  {
   "cell_type": "markdown",
   "metadata": {},
   "source": [
    "Add an `elif` statement that reports whether `title3_date` is exactly 1993 years old"
   ]
  },
  {
   "cell_type": "code",
   "execution_count": 20,
   "metadata": {},
   "outputs": [
    {
     "name": "stdout",
     "output_type": "stream",
     "text": [
      "Title was published in 1993.\n"
     ]
    }
   ],
   "source": [
    "# Your code here\n",
    "    print('Title was published before 1993.')\n",
    "# Your code here\n",
    "    print('Title was published in 1993.')\n",
    "# Your code here \n",
    "    print('Title was published afer 1993.')"
   ]
  },
  {
   "cell_type": "markdown",
   "metadata": {},
   "source": [
    "### Question 6"
   ]
  },
  {
   "cell_type": "code",
   "execution_count": 52,
   "metadata": {},
   "outputs": [],
   "source": [
    "title2_most_read = 8\n",
    "title3_most_read = ''"
   ]
  },
  {
   "cell_type": "markdown",
   "metadata": {},
   "source": [
    "Write an `if` statement that will report whether `title2_most_read` indicates that the title has been tagged most read at least once."
   ]
  },
  {
   "cell_type": "code",
   "execution_count": 22,
   "metadata": {},
   "outputs": [
    {
     "name": "stdout",
     "output_type": "stream",
     "text": [
      "Title has been tagged most read at least once.\n"
     ]
    }
   ],
   "source": [
    "# Your code here\n",
    "    print('Title has been tagged most_read at least once.')"
   ]
  },
  {
   "cell_type": "markdown",
   "metadata": {},
   "source": [
    "### Question 7\n",
    "Write a single `if` statement that will accurately report whether both `title2_most_read` and `title3_most_read` indicate that both titles have been tagged \"most_read\"\n",
    "\n",
    "\n",
    ">*Hint:*\n",
    "> Think about how you might use the `!=` operator!  \n",
    "> And remember that there's a difference between quotation marks with no space `''` and quotation marks with a space`' '`. Python is picky!\n"
   ]
  },
  {
   "cell_type": "code",
   "execution_count": 54,
   "metadata": {},
   "outputs": [],
   "source": [
    "#Your code Here for `title2_most_read` and `title3_most_read`\n",
    "    print('Both titles have been tagged most_read at least once.')"
   ]
  },
  {
   "cell_type": "markdown",
   "metadata": {},
   "source": [
    "### Question 8"
   ]
  },
  {
   "cell_type": "code",
   "execution_count": 36,
   "metadata": {},
   "outputs": [],
   "source": [
    "title1_reviews = '100k'"
   ]
  },
  {
   "cell_type": "markdown",
   "metadata": {},
   "source": [
    "Let's say we we want to check whether `title1_reviews` is greater than 50,000. Try to test out a sample below:"
   ]
  },
  {
   "cell_type": "code",
   "execution_count": 25,
   "metadata": {},
   "outputs": [
    {
     "ename": "TypeError",
     "evalue": "'>' not supported between instances of 'str' and 'int'",
     "output_type": "error",
     "traceback": [
      "\u001b[0;31m---------------------------------------------------------------------------\u001b[0m",
      "\u001b[0;31mTypeError\u001b[0m                                 Traceback (most recent call last)",
      "\u001b[0;32m<ipython-input-25-0619650f10aa>\u001b[0m in \u001b[0;36m<module>\u001b[0;34m\u001b[0m\n\u001b[0;32m----> 1\u001b[0;31m \u001b[0;32mif\u001b[0m \u001b[0mtitle1_reviews\u001b[0m \u001b[0;34m>\u001b[0m \u001b[0;36m50000\u001b[0m\u001b[0;34m:\u001b[0m\u001b[0;34m\u001b[0m\u001b[0;34m\u001b[0m\u001b[0m\n\u001b[0m\u001b[1;32m      2\u001b[0m     \u001b[0mprint\u001b[0m\u001b[0;34m(\u001b[0m\u001b[0;34m'Title has more than 50k reviews.'\u001b[0m\u001b[0;34m)\u001b[0m\u001b[0;34m\u001b[0m\u001b[0;34m\u001b[0m\u001b[0m\n",
      "\u001b[0;31mTypeError\u001b[0m: '>' not supported between instances of 'str' and 'int'"
     ]
    }
   ],
   "source": [
    "# your code here\n",
    "    print('Title has more than 50k reviews.')"
   ]
  },
  {
   "cell_type": "markdown",
   "metadata": {},
   "source": [
    "What happened? Why did we get a TypeError? We tried to ask an *integer* question of a value that was formatted as a *string* (Notice the `''`?). \n",
    "\n",
    "So how do we fix this? First we'll have to clean up our data and replace the `k` with `000` (then we'll change the datatype).\n",
    "\n",
    "You can use the Python keyword `in` to test whether a string appears within another string. Print `title1_reviews` with the `k` replaced with three zeros.\n",
    "\n",
    "> *Hint:* Remember the string method `.replace()`?"
   ]
  },
  {
   "cell_type": "code",
   "execution_count": 37,
   "metadata": {},
   "outputs": [
    {
     "name": "stdout",
     "output_type": "stream",
     "text": [
      "100000\n"
     ]
    }
   ],
   "source": [
    "if \"k\" in title1_reviews:\n",
    "    title1_reviews = title1_reviews.replace(\"k\", \"000\") # This line is replacing the k with 000.\n",
    "    print(title1_reviews)"
   ]
  },
  {
   "cell_type": "markdown",
   "metadata": {},
   "source": [
    "Great! Now we need to change the dataype using the `int()` function. Run the cell below."
   ]
  },
  {
   "cell_type": "code",
   "execution_count": 42,
   "metadata": {},
   "outputs": [
    {
     "data": {
      "text/plain": [
       "100000"
      ]
     },
     "execution_count": 42,
     "metadata": {},
     "output_type": "execute_result"
    }
   ],
   "source": [
    "title1_reviews = int(title1_reviews)"
   ]
  },
  {
   "cell_type": "markdown",
   "metadata": {},
   "source": [
    "Now, try to check whether `title1_reviews` is greater than 50,000. "
   ]
  },
  {
   "cell_type": "code",
   "execution_count": 43,
   "metadata": {},
   "outputs": [
    {
     "name": "stdout",
     "output_type": "stream",
     "text": [
      "Title has more than 50k reviews.\n"
     ]
    }
   ],
   "source": [
    "# Your code here:\n",
    "    print('Title has more than 50k reviews.')"
   ]
  },
  {
   "cell_type": "markdown",
   "metadata": {},
   "source": [
    "### Question 9: Reflection\n",
    "In a few sentences, write a few sentences about the simple methods that you've learned and the dataset that you've begun to explore. \n",
    "\n",
    "1. What research questions would you want to ask with these? \n",
    "2. What gets left out when we're looking at the Goodreads data in table form? (Another way to ask this question: would you know these reviews or ratings came from Goodreads if you just encountered the table of data (without the introduction)? Are there any aspects about the data (or its origin) that we might want to think about?\n",
    "3. In the specific case of the Goodreads data, are there other questions that you might want to ask with this data? What other questions or patterns might you want to investigate in the larger dataset? "
   ]
  },
  {
   "cell_type": "markdown",
   "metadata": {},
   "source": [
    "**Double-click this cell to type your thoughts here**"
   ]
  }
 ],
 "metadata": {
  "kernelspec": {
   "display_name": "Python 3",
   "language": "python",
   "name": "python3"
  },
  "language_info": {
   "codemirror_mode": {
    "name": "ipython",
    "version": 3
   },
   "file_extension": ".py",
   "mimetype": "text/x-python",
   "name": "python",
   "nbconvert_exporter": "python",
   "pygments_lexer": "ipython3",
   "version": "3.8.3"
  }
 },
 "nbformat": 4,
 "nbformat_minor": 4
}
