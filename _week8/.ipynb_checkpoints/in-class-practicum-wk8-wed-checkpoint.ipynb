{
 "cells": [
  {
   "cell_type": "markdown",
   "metadata": {},
   "source": [
    "# Modeling Text Reuse\n",
    "\n"
   ]
  },
  {
   "cell_type": "markdown",
   "metadata": {},
   "source": [
    "## Review Part 1\n",
    "\n",
    "For Part one of this practicum, you used OpenRefine to two collections of data: a collection of Shakespeare's Sonnets from Project Gutenberg and a small selection of texts from Chronicling America.\n",
    "\n",
    "![image](../_images/OpenRefine.png)\n"
   ]
  },
  {
   "cell_type": "markdown",
   "metadata": {},
   "source": [
    "### Quesions?"
   ]
  },
  {
   "cell_type": "markdown",
   "metadata": {},
   "source": [
    "## Part 2: Modeling Text Reuse: Anthologizing & reprinting Shakespeare's Sonnets\n",
    "\n",
    "\n",
    "\n",
    "What if we wanted to know what parts of a work (like parts of Shakespeare's sonnets) have been reprinted in a widely popular nineteenth-century anthology of verse?"
   ]
  },
  {
   "cell_type": "markdown",
   "metadata": {},
   "source": [
    "To explore how we might answer this question, we're going to compare the text of Shakespeare's Sonnets (from [Project Gutenberg](https://www.gutenberg.org/cache/epub/1105/pg1105.html)) and cleaned, and the text of Francis Palgrave's *The Golden Treasury: Of the best Songs and Lyrical Pieces\n",
    "In the English Language* (1861), (from [Project Gutenberg](https://gutenberg.org/ebooks/19221) \n",
    "\n",
    "The text files are available: \n",
    "\n",
    "> ``` \"../_datasets/texts/literature/shakespeare-sonnets.txt\"  ```  \n",
    ">```\"../_datasets/texts/literature/palgrave-the-golden-treasury.txt\"```\n",
    "\n",
    "\n",
    "We're going to be using a technique called **\"text-reuse detection.\"** \n",
    "\n",
    "It's a method that has an *interesting* history (it's often used within industry as a plagiarism detector.\n",
    "\n",
    "The particular text matching algorithm that we're going to use is from the [Middlematch Critical Histories](https://github.com/lit-mod-viz/middlemarch-critical-histories) project's [\"text-matcher\"](https://github.com/JonathanReeve/text-matcher/) package. This is a Python package, designed by Jonathan Reeve, that allows you to compare quotations from one text in another text or directory of text files."
   ]
  },
  {
   "cell_type": "markdown",
   "metadata": {},
   "source": [
    "### Install `text-matcher`"
   ]
  },
  {
   "cell_type": "code",
   "execution_count": 32,
   "metadata": {},
   "outputs": [
    {
     "name": "stdout",
     "output_type": "stream",
     "text": [
      "Requirement already satisfied: text-matcher in /Users/sceckert/anaconda3/lib/python3.8/site-packages (0.1.7)\n",
      "Requirement already satisfied: Click in /Users/sceckert/anaconda3/lib/python3.8/site-packages (from text-matcher) (7.1.2)\n",
      "Requirement already satisfied: nltk in /Users/sceckert/anaconda3/lib/python3.8/site-packages (from text-matcher) (3.5)\n",
      "Requirement already satisfied: termcolor in /Users/sceckert/anaconda3/lib/python3.8/site-packages (from text-matcher) (1.1.0)\n",
      "Requirement already satisfied: tqdm in /Users/sceckert/anaconda3/lib/python3.8/site-packages (from nltk->text-matcher) (4.47.0)\n",
      "Requirement already satisfied: regex in /Users/sceckert/anaconda3/lib/python3.8/site-packages (from nltk->text-matcher) (2020.6.8)\n",
      "Requirement already satisfied: joblib in /Users/sceckert/anaconda3/lib/python3.8/site-packages (from nltk->text-matcher) (0.16.0)\n",
      "\u001b[33mWARNING: You are using pip version 22.0.3; however, version 22.0.4 is available.\n",
      "You should consider upgrading via the '/Users/sceckert/anaconda3/bin/python -m pip install --upgrade pip' command.\u001b[0m\u001b[33m\n",
      "\u001b[0m"
     ]
    }
   ],
   "source": [
    "!pip3 install --user text-matcher"
   ]
  },
  {
   "cell_type": "code",
   "execution_count": 33,
   "metadata": {},
   "outputs": [],
   "source": [
    "from text_matcher import matcher"
   ]
  },
  {
   "cell_type": "markdown",
   "metadata": {},
   "source": [
    "### Import the Natural Language Toolkit (`nltk`) & stopwords list\n",
    "We're going to be using a library called the Natural Language Toolkikt (`nltk`) which contains a handy list of pre-curated stowpwards"
   ]
  },
  {
   "cell_type": "code",
   "execution_count": 34,
   "metadata": {},
   "outputs": [
    {
     "name": "stderr",
     "output_type": "stream",
     "text": [
      "[nltk_data] Downloading package stopwords to\n",
      "[nltk_data]     /Users/sceckert/nltk_data...\n",
      "[nltk_data]   Package stopwords is already up-to-date!\n"
     ]
    },
    {
     "data": {
      "text/plain": [
       "True"
      ]
     },
     "execution_count": 34,
     "metadata": {},
     "output_type": "execute_result"
    }
   ],
   "source": [
    "import nltk\n",
    "\n",
    "nltk.download('stopwords')"
   ]
  },
  {
   "cell_type": "markdown",
   "metadata": {},
   "source": [
    "### Let's take a look at the stopwords:"
   ]
  },
  {
   "cell_type": "code",
   "execution_count": 50,
   "metadata": {},
   "outputs": [
    {
     "name": "stdout",
     "output_type": "stream",
     "text": [
      "{\"hadn't\", 'about', 'in', 'mustn', 'yourself', \"it's\", 'its', 'o', 'itself', 'me', 'won', 'not', 'can', 'her', 'them', 'once', 've', 'she', 'but', 'haven', 'until', 'through', 'herself', 'doing', 'the', 'whom', 'all', 'nor', \"isn't\", 'themselves', \"shan't\", 'shouldn', 'no', 'himself', \"mightn't\", 'from', 'hadn', 'when', \"you'll\", 'into', 'what', 'm', 'such', 'those', 'any', 'few', 'than', 'aren', 'because', 'doesn', 'theirs', 'my', 'their', 're', 'i', \"mustn't\", 'again', \"wasn't\", \"didn't\", 'between', 'an', \"shouldn't\", 'by', 'under', 'needn', 'on', 'be', 'below', 'and', 'at', 'hers', 'most', 'if', 'don', 'other', 'hasn', 'there', 'for', 'both', 'who', 't', \"aren't\", 'll', 'd', 'same', 'now', \"she's\", 'we', 'where', 'yours', 'isn', 'or', 'you', 'here', \"hasn't\", 'being', 'been', 'during', 'didn', 'ma', 'more', \"doesn't\", 'that', 'only', 'does', 'am', 'these', 'they', \"weren't\", \"you'd\", 'after', 'against', 'before', 'above', 'up', \"that'll\", 'off', 'y', \"wouldn't\", 'how', 'yourselves', 'should', \"haven't\", 'have', 'was', 'with', 'why', 'very', 'too', 'then', 'weren', 'is', 'some', 'a', 'this', 'so', 'further', 'wouldn', 'him', 'to', 'his', 'he', 'ourselves', 'ain', 'myself', 'did', 'shan', 'couldn', \"needn't\", 'our', \"you're\", 'will', 'each', \"you've\", 'ours', 'your', 'just', \"won't\", 'as', 'mightn', 'were', 'out', 'has', 'down', 'while', 'it', 'do', 'wasn', 's', 'over', 'own', \"should've\", 'are', 'of', 'having', 'had', \"couldn't\", 'which', \"don't\"}\n"
     ]
    }
   ],
   "source": [
    "from nltk.corpus import stopwords\n",
    "\n",
    "stops = set(stopwords.words('english'))\n",
    "print(stops)"
   ]
  },
  {
   "cell_type": "markdown",
   "metadata": {},
   "source": [
    "### Defining filepaths for the text matcher"
   ]
  },
  {
   "cell_type": "markdown",
   "metadata": {},
   "source": [
    "In the current directory we're working in, I have addd a few files that we can try and run.\n",
    "We've imported our text matcher, `matcher`, and now we're going to define two text files for the matcher to process by opening and reading text files in our directory."
   ]
  },
  {
   "cell_type": "code",
   "execution_count": 54,
   "metadata": {},
   "outputs": [],
   "source": [
    "text_a = matcher.Text(open('../_datasets/texts/literature/shakespeare-sonnets.txt').read(), 'Shakespeare Sonnets')\n",
    "text_b = matcher.Text(open('../_datasets/texts/literature/palgrave-the-golden-treasury.txt').read(), 'Palgrave Golden Treasury')"
   ]
  },
  {
   "cell_type": "code",
   "execution_count": 56,
   "metadata": {},
   "outputs": [
    {
     "name": "stdout",
     "output_type": "stream",
     "text": [
      "9 total matches found.\n",
      "Extending match forwards with words: think think\n",
      "Extending match forwards with words: brow brow\n",
      "Extending match backwards with words: thes thos\n",
      "Extending match forwards with words: loss loss\n",
      "Extending match forwards with words: mor mor\n",
      "Extending match forwards with words: il il\n",
      "Extending match forwards with words: fee fee\n",
      "Extending match forwards with words: let let\n",
      "Extending match forwards with words: dying dying\n",
      "Extending match forwards with words: rar rar\n",
      "Extending match forwards with words: pin pin\n",
      "Extending match forwards with words: aggrav aggrav\n",
      "Extending match forwards with words: thy thy\n",
      "Extending match forwards with words: stor stor\n",
      "Extending match forwards with words: buy buy\n",
      "Extending match forwards with words: term term\n",
      "Extending match forwards with words: divin divin\n",
      "Extending match forwards with words: sel sel\n",
      "Extending match forwards with words: hour hour\n",
      "Extending match forwards with words: dross dross\n",
      "Extending match forwards with words: within within\n",
      "Extending match forwards with words: fed fed\n",
      "Extending match forwards with words: without without\n",
      "Extending match forwards with words: rich rich\n",
      "Extending match forwards with words: mor mor\n",
      "Extending match forwards with words: shal shal\n",
      "Extending match forwards with words: thou thou\n",
      "Extending match forwards with words: fee fee\n",
      "Extending match forwards with words: dea dea\n",
      "Extending match forwards with words: fee fee\n",
      "Extending match forwards with words: men men\n",
      "Extending match forwards with words: dea dea\n",
      "Extending match forwards with words: ont ont\n",
      "Extending match forwards with words: dead dead\n",
      "\n",
      "\n",
      "match 1:\n",
      "\u001b[32mShakespeare Sonnets\u001b[0m: (36794, 37420) more wished, more rare. LVII \u001b[31myour slave what should I do but tend, Upon the hours, and times of your desire? I have no precious time at all to spend; Nor services to do, till you require. Nor dare I chide the world-without-end hour, Whilst I, my sovereign, watch the clock for you, Nor think the bitterness of absence sour, When you have bid your servant once adieu; Nor dare I question with my jealous thought Where you may be, or your affairs suppose, But, like a sad slave, stay and think of nought Save, where you are, how happy you make those. So true a fool is love, that in your will, Though you do anything, he thinks\u001b[0m ill. LVIII That god forbid, that made\n",
      "\u001b[32mPalgrave Golden Treasury\u001b[0m: (18996, 19657) kiss her, And so I both enjoy and miss her. ANON. 10. ABSENCE \u001b[31myour slave what should I do but tend Upon the hours and times of your desire? I have no precious time at all to spend, Nor services to do, till you require: Nor dare I chide the world-without-end hour Whilst I, my sovereign, watch the clock for you, Nor think the bitterness of absence sour When you have bid your servant once adieu: Nor dare I question with my jealous thought Where you may be, or your affairs suppose, But like a sad slave, stay and think of nought Save where you are, how happy you make those;-- So true a fool is love, that in your will, Though you do any thing, he thinks\u001b[0m ill. W. SHAKESPEARE. 11. How like a winter hath\n",
      "\n",
      "\n",
      "match 2:\n",
      "\u001b[32mShakespeare Sonnets\u001b[0m: (38708, 39171) have given admiring praise. LX \u001b[31mLike as the waves make towards the pebbled shore, So do our minutes hasten to their end; Each changing place with that which goes before, In sequent toil all forwards do contend. Nativity, once in the main of light, Crawls to maturity, wherewith being crown’d, Crooked eclipses ’gainst his glory fight, And Time that gave doth now his gift confound. Time doth transfix the flourish set on youth And delves the parallels in beauty’s brow, Feeds\u001b[0m rarities of nature’s truth, And nothing stands\n",
      "\u001b[32mPalgrave Golden Treasury\u001b[0m: (34611, 35105) restored, and sorrows end. W. SHAKESPEARE. 30. REVOLUTIONS \u001b[31mLike as the waves make towards the pebbled shore So do our minutes hasten to their end; Each changing place with that which goes before, In sequent toil all forwards do contend. Nativity once in the main of light Crawls to maturity, wherewith being crown'd, Crooked eclipses 'gainst his glory fight, And Time that gave, doth now his gift confound. Time doth transfix the flourish set on youth, And delves the parallels in beauty's brow; Feeds\u001b[0m rarities of nature's truth, And nothing stands\n",
      "\n",
      "\n",
      "match 3:\n",
      "\u001b[32mShakespeare Sonnets\u001b[0m: (39200, 39353) beauty’s brow, Feeds on the rarities of nature \u001b[31mtruth, And nothing stands but for his scythe to mow: And yet to times in hope, my verse shall stand. Praising thy worth, despite his cruel hand\u001b[0m LXI Is it thy will, thy image\n",
      "\u001b[32mPalgrave Golden Treasury\u001b[0m: (35134, 35293) beauty's brow; Feeds on the rarities of nature's \u001b[31mtruth, And nothing stands but for his scythe to mow. And yet, to times in hope, my verse shall stand Praising Thy worth, despite his cruel hand\u001b[0m SHAKESPEARE. 31. Farewell! thou art too dear\n",
      "\n",
      "\n",
      "match 4:\n",
      "\u001b[32mShakespeare Sonnets\u001b[0m: (45792, 46411) kingdoms of hearts shouldst owe. LXXI \u001b[31mlonger mourn for me when I am dead Than you shall hear the surly sullen bell Give warning to the world that I am fled From this vile world with vilest worms to dwell: Nay, if you read this line, remember not The hand that writ it, for I love you so, That I in your sweet thoughts would be forgot, If thinking on me then should make you woe. O! if,--I say you look upon this verse, When I perhaps compounded am with clay, Do not so much as my poor name rehearse; But let your love even with my life decay; Lest the wise world should look into your moan, And mock you with me after I am gone\u001b[0m LXXII O! lest the world should task you to recite\n",
      "\u001b[32mPalgrave Golden Treasury\u001b[0m: (48874, 49529) read, his for his love.\" W. SHAKESPEARE. 49. THE TRIUMPH OF DEATH \u001b[31mlonger mourn for me when I am dead Than you shall hear the surly sullen bell Give warning to the world, that I am fled From this vile world, with vilest worms to dwell; Nay, if you read this line, remember not The hand that writ it; for I love you so, That I in your sweet thoughts would be forgot If thinking on me then should make you woe. O if, I say, you look upon this verse When I perhaps compounded am with clay Do not so much as my poor name rehearse, But let your love even with my life decay; Lest the wise world should look into your moan, And mock you with me after I am gone\u001b[0m SHAKESPEARE. 50. MADRIGAL. Tell me where is Fancy\n",
      "\n",
      "\n",
      "match 5:\n",
      "\u001b[32mShakespeare Sonnets\u001b[0m: (94507, 95050) centre of my sinful earth, My sinful earth \u001b[31mthese rebel powers array, Why dost thou pine within and suffer dearth, Painting thy outward walls so costly gay? Why so large cost, having so short a lease, Dost thou upon thy fading mansion spend? Shall worms, inheritors of this excess, Eat up thy charge? Is this thy body’s end? Then soul, live thou upon thy servant’s loss, And let that pine to aggravate thy store; Buy terms divine in selling hours of dross; Within be fed, without be rich no more: So shall thou feed on Death, that feeds on men, And Death once\u001b[0m dead, there’s no more dying then. CXLVII\n",
      "\u001b[32mPalgrave Golden Treasury\u001b[0m: (61184, 61776) Soul, the centre of my sinful earth, Fool'd \u001b[31mthose rebel powers that thee array, Why dost thou pine within, and suffer dearth, Painting thy outward walls so costly gay? Why so large cost, having so short a lease, Dost thou upon thy fading mansion spend? Shall worms, inheritors of this excess, Eat up thy charge? is this thy body's end? Then, Soul, live thou upon thy servant's loss, And let that pine to aggravate thy store; Buy terms divine in selling hours of dross; Within be fed, without be rich no more:-- So shall thou feed on death, that feeds on men, And death once\u001b[0m dead, there's no more dying then. W. SHAKESPEARE\n",
      "\n",
      "\n",
      "match 6:\n",
      "\u001b[32mShakespeare Sonnets\u001b[0m: (94842, 95072) live thou upon thy servant \u001b[31mloss, And let that pine to aggravate thy store; Buy terms divine in selling hours of dross; Within be fed, without be rich no more: So shall thou feed on Death, that feeds on men, And Death once dead, there’s no more\u001b[0m dying then. CXLVII My love is as a fever longing\n",
      "\u001b[32mPalgrave Golden Treasury\u001b[0m: (61554, 61798) live thou upon thy servant's \u001b[31mloss, And let that pine to aggravate thy store; Buy terms divine in selling hours of dross; Within be fed, without be rich no more:-- So shall thou feed on death, that feeds on men, And death once dead, there's no more\u001b[0m dying then. W. SHAKESPEARE. 57. LIFE. The World's a bubble\n"
     ]
    },
    {
     "data": {
      "text/plain": [
       "(6,\n",
       " [(36794, 37420),\n",
       "  (38708, 39171),\n",
       "  (39200, 39353),\n",
       "  (45792, 46411),\n",
       "  (94507, 95050),\n",
       "  (94842, 95072)],\n",
       " [(18996, 19657),\n",
       "  (34611, 35105),\n",
       "  (35134, 35293),\n",
       "  (48874, 49529),\n",
       "  (61184, 61776),\n",
       "  (61554, 61798)])"
      ]
     },
     "execution_count": 56,
     "metadata": {},
     "output_type": "execute_result"
    }
   ],
   "source": [
    "matcher.Matcher(text_a, text_b).match()"
   ]
  },
  {
   "cell_type": "code",
   "execution_count": null,
   "metadata": {},
   "outputs": [],
   "source": [
    "How else can we use the text matcher? We could create a directory of text files, rather than a single file"
   ]
  },
  {
   "cell_type": "markdown",
   "metadata": {},
   "source": [
    "---"
   ]
  },
  {
   "cell_type": "markdown",
   "metadata": {},
   "source": [
    "## Alternate method for running  `text-matcher`:"
   ]
  },
  {
   "cell_type": "markdown",
   "metadata": {},
   "source": [
    "We can also run the text matcher as we would on the command line, which will produce the same output and write the index location to a log file called 'log.txt' like so:"
   ]
  },
  {
   "cell_type": "code",
   "execution_count": 62,
   "metadata": {},
   "outputs": [
    {
     "name": "stdout",
     "output_type": "stream",
     "text": [
      "9 total matches found.\r\n",
      "Extending match forwards with words: think think\r\n",
      "Extending match forwards with words: brow brow\r\n",
      "Extending match backwards with words: thes thos\r\n",
      "Extending match forwards with words: loss loss\r\n",
      "Extending match forwards with words: mor mor\r\n",
      "Extending match forwards with words: il il\r\n",
      "Extending match forwards with words: fee fee\r\n",
      "Extending match forwards with words: let let\r\n",
      "Extending match forwards with words: dying dying\r\n",
      "Extending match forwards with words: rar rar\r\n",
      "Extending match forwards with words: pin pin\r\n",
      "Extending match forwards with words: aggrav aggrav\r\n",
      "Extending match forwards with words: thy thy\r\n",
      "Extending match forwards with words: stor stor\r\n",
      "Extending match forwards with words: buy buy\r\n",
      "Extending match forwards with words: term term\r\n",
      "Extending match forwards with words: divin divin\r\n",
      "Extending match forwards with words: sel sel\r\n",
      "Extending match forwards with words: hour hour\r\n",
      "Extending match forwards with words: dross dross\r\n",
      "Extending match forwards with words: within within\r\n",
      "Extending match forwards with words: fed fed\r\n",
      "Extending match forwards with words: without without\r\n",
      "Extending match forwards with words: rich rich\r\n",
      "Extending match forwards with words: mor mor\r\n",
      "Extending match forwards with words: shal shal\r\n",
      "Extending match forwards with words: thou thou\r\n",
      "Extending match forwards with words: fee fee\r\n",
      "Extending match forwards with words: dea dea\r\n",
      "Extending match forwards with words: fee fee\r\n",
      "Extending match forwards with words: men men\r\n",
      "Extending match forwards with words: dea dea\r\n",
      "Extending match forwards with words: ont ont\r\n",
      "Extending match forwards with words: dead dead\r\n",
      "\r\n",
      "\r\n",
      "match 1:\r\n",
      "\u001b[32m../_datasets/texts/literature/shakespeare-sonnets.txt\u001b[0m: (36794, 37420) more wished, more rare. LVII \u001b[31myour slave what should I do but tend, Upon the hours, and times of your desire? I have no precious time at all to spend; Nor services to do, till you require. Nor dare I chide the world-without-end hour, Whilst I, my sovereign, watch the clock for you, Nor think the bitterness of absence sour, When you have bid your servant once adieu; Nor dare I question with my jealous thought Where you may be, or your affairs suppose, But, like a sad slave, stay and think of nought Save, where you are, how happy you make those. So true a fool is love, that in your will, Though you do anything, he thinks\u001b[0m ill. LVIII That god forbid, that made\r\n",
      "\u001b[32m../_datasets/texts/literature/palgrave-the-golden-treasury.txt\u001b[0m: (18996, 19657) kiss her, And so I both enjoy and miss her. ANON. 10. ABSENCE \u001b[31myour slave what should I do but tend Upon the hours and times of your desire? I have no precious time at all to spend, Nor services to do, till you require: Nor dare I chide the world-without-end hour Whilst I, my sovereign, watch the clock for you, Nor think the bitterness of absence sour When you have bid your servant once adieu: Nor dare I question with my jealous thought Where you may be, or your affairs suppose, But like a sad slave, stay and think of nought Save where you are, how happy you make those;-- So true a fool is love, that in your will, Though you do any thing, he thinks\u001b[0m ill. W. SHAKESPEARE. 11. How like a winter hath\r\n",
      "\r\n",
      "\r\n",
      "match 2:\r\n",
      "\u001b[32m../_datasets/texts/literature/shakespeare-sonnets.txt\u001b[0m: (38708, 39171) have given admiring praise. LX \u001b[31mLike as the waves make towards the pebbled shore, So do our minutes hasten to their end; Each changing place with that which goes before, In sequent toil all forwards do contend. Nativity, once in the main of light, Crawls to maturity, wherewith being crown’d, Crooked eclipses ’gainst his glory fight, And Time that gave doth now his gift confound. Time doth transfix the flourish set on youth And delves the parallels in beauty’s brow, Feeds\u001b[0m rarities of nature’s truth, And nothing stands\r\n",
      "\u001b[32m../_datasets/texts/literature/palgrave-the-golden-treasury.txt\u001b[0m: (34611, 35105) restored, and sorrows end. W. SHAKESPEARE. 30. REVOLUTIONS \u001b[31mLike as the waves make towards the pebbled shore So do our minutes hasten to their end; Each changing place with that which goes before, In sequent toil all forwards do contend. Nativity once in the main of light Crawls to maturity, wherewith being crown'd, Crooked eclipses 'gainst his glory fight, And Time that gave, doth now his gift confound. Time doth transfix the flourish set on youth, And delves the parallels in beauty's brow; Feeds\u001b[0m rarities of nature's truth, And nothing stands\r\n",
      "\r\n",
      "\r\n",
      "match 3:\r\n",
      "\u001b[32m../_datasets/texts/literature/shakespeare-sonnets.txt\u001b[0m: (39200, 39353) beauty’s brow, Feeds on the rarities of nature \u001b[31mtruth, And nothing stands but for his scythe to mow: And yet to times in hope, my verse shall stand. Praising thy worth, despite his cruel hand\u001b[0m LXI Is it thy will, thy image\r\n",
      "\u001b[32m../_datasets/texts/literature/palgrave-the-golden-treasury.txt\u001b[0m: (35134, 35293) beauty's brow; Feeds on the rarities of nature's \u001b[31mtruth, And nothing stands but for his scythe to mow. And yet, to times in hope, my verse shall stand Praising Thy worth, despite his cruel hand\u001b[0m SHAKESPEARE. 31. Farewell! thou art too dear\r\n",
      "\r\n",
      "\r\n",
      "match 4:\r\n",
      "\u001b[32m../_datasets/texts/literature/shakespeare-sonnets.txt\u001b[0m: (45792, 46411) kingdoms of hearts shouldst owe. LXXI \u001b[31mlonger mourn for me when I am dead Than you shall hear the surly sullen bell Give warning to the world that I am fled From this vile world with vilest worms to dwell: Nay, if you read this line, remember not The hand that writ it, for I love you so, That I in your sweet thoughts would be forgot, If thinking on me then should make you woe. O! if,--I say you look upon this verse, When I perhaps compounded am with clay, Do not so much as my poor name rehearse; But let your love even with my life decay; Lest the wise world should look into your moan, And mock you with me after I am gone\u001b[0m LXXII O! lest the world should task you to recite\r\n",
      "\u001b[32m../_datasets/texts/literature/palgrave-the-golden-treasury.txt\u001b[0m: (48874, 49529) read, his for his love.\" W. SHAKESPEARE. 49. THE TRIUMPH OF DEATH \u001b[31mlonger mourn for me when I am dead Than you shall hear the surly sullen bell Give warning to the world, that I am fled From this vile world, with vilest worms to dwell; Nay, if you read this line, remember not The hand that writ it; for I love you so, That I in your sweet thoughts would be forgot If thinking on me then should make you woe. O if, I say, you look upon this verse When I perhaps compounded am with clay Do not so much as my poor name rehearse, But let your love even with my life decay; Lest the wise world should look into your moan, And mock you with me after I am gone\u001b[0m SHAKESPEARE. 50. MADRIGAL. Tell me where is Fancy\r\n",
      "\r\n",
      "\r\n",
      "match 5:\r\n",
      "\u001b[32m../_datasets/texts/literature/shakespeare-sonnets.txt\u001b[0m: (94507, 95050) centre of my sinful earth, My sinful earth \u001b[31mthese rebel powers array, Why dost thou pine within and suffer dearth, Painting thy outward walls so costly gay? Why so large cost, having so short a lease, Dost thou upon thy fading mansion spend? Shall worms, inheritors of this excess, Eat up thy charge? Is this thy body’s end? Then soul, live thou upon thy servant’s loss, And let that pine to aggravate thy store; Buy terms divine in selling hours of dross; Within be fed, without be rich no more: So shall thou feed on Death, that feeds on men, And Death once\u001b[0m dead, there’s no more dying then. CXLVII\r\n",
      "\u001b[32m../_datasets/texts/literature/palgrave-the-golden-treasury.txt\u001b[0m: (61184, 61776) Soul, the centre of my sinful earth, Fool'd \u001b[31mthose rebel powers that thee array, Why dost thou pine within, and suffer dearth, Painting thy outward walls so costly gay? Why so large cost, having so short a lease, Dost thou upon thy fading mansion spend? Shall worms, inheritors of this excess, Eat up thy charge? is this thy body's end? Then, Soul, live thou upon thy servant's loss, And let that pine to aggravate thy store; Buy terms divine in selling hours of dross; Within be fed, without be rich no more:-- So shall thou feed on death, that feeds on men, And death once\u001b[0m dead, there's no more dying then. W. SHAKESPEARE\r\n",
      "\r\n",
      "\r\n",
      "match 6:\r\n",
      "\u001b[32m../_datasets/texts/literature/shakespeare-sonnets.txt\u001b[0m: (94842, 95072) live thou upon thy servant \u001b[31mloss, And let that pine to aggravate thy store; Buy terms divine in selling hours of dross; Within be fed, without be rich no more: So shall thou feed on Death, that feeds on men, And Death once dead, there’s no more\u001b[0m dying then. CXLVII My love is as a fever longing\r\n",
      "\u001b[32m../_datasets/texts/literature/palgrave-the-golden-treasury.txt\u001b[0m: (61554, 61798) live thou upon thy servant's \u001b[31mloss, And let that pine to aggravate thy store; Buy terms divine in selling hours of dross; Within be fed, without be rich no more:-- So shall thou feed on death, that feeds on men, And death once dead, there's no more\u001b[0m dying then. W. SHAKESPEARE. 57. LIFE. The World's a bubble\r\n"
     ]
    }
   ],
   "source": [
    "# To run the text matcher on the commmand line, run:\n",
    "!text-matcher ../_datasets/texts/literature/shakespeare-sonnets.txt ../_datasets/texts/literature/palgrave-the-golden-treasury.txt"
   ]
  },
  {
   "cell_type": "markdown",
   "metadata": {},
   "source": [
    "Let's read in the log file that we created:"
   ]
  },
  {
   "cell_type": "code",
   "execution_count": 58,
   "metadata": {},
   "outputs": [],
   "source": [
    "import pandas as pd"
   ]
  },
  {
   "cell_type": "code",
   "execution_count": 63,
   "metadata": {},
   "outputs": [],
   "source": [
    "shakespeare_quotations_df = pd.read_csv('log.txt')"
   ]
  },
  {
   "cell_type": "code",
   "execution_count": 64,
   "metadata": {},
   "outputs": [
    {
     "data": {
      "text/html": [
       "<div>\n",
       "<style scoped>\n",
       "    .dataframe tbody tr th:only-of-type {\n",
       "        vertical-align: middle;\n",
       "    }\n",
       "\n",
       "    .dataframe tbody tr th {\n",
       "        vertical-align: top;\n",
       "    }\n",
       "\n",
       "    .dataframe thead th {\n",
       "        text-align: right;\n",
       "    }\n",
       "</style>\n",
       "<table border=\"1\" class=\"dataframe\">\n",
       "  <thead>\n",
       "    <tr style=\"text-align: right;\">\n",
       "      <th></th>\n",
       "      <th>Text A</th>\n",
       "      <th>Text B</th>\n",
       "      <th>Threshold</th>\n",
       "      <th>Cutoff</th>\n",
       "      <th>N-Grams</th>\n",
       "      <th>Num Matches</th>\n",
       "      <th>Text A Length</th>\n",
       "      <th>Text B Length</th>\n",
       "      <th>Locations in A</th>\n",
       "      <th>Locations in B</th>\n",
       "    </tr>\n",
       "  </thead>\n",
       "  <tbody>\n",
       "    <tr>\n",
       "      <th>0</th>\n",
       "      <td>../_datasets/texts/literature/shakespeare-sonn...</td>\n",
       "      <td>../_datasets/texts/literature/palgrave-the-gol...</td>\n",
       "      <td>3</td>\n",
       "      <td>5</td>\n",
       "      <td>3</td>\n",
       "      <td>6</td>\n",
       "      <td>118679</td>\n",
       "      <td>485394</td>\n",
       "      <td>[(36794, 37420), (38708, 39171), (39200, 39353...</td>\n",
       "      <td>[(18996, 19657), (34611, 35105), (35134, 35293...</td>\n",
       "    </tr>\n",
       "  </tbody>\n",
       "</table>\n",
       "</div>"
      ],
      "text/plain": [
       "                                              Text A  \\\n",
       "0  ../_datasets/texts/literature/shakespeare-sonn...   \n",
       "\n",
       "                                              Text B  Threshold  Cutoff  \\\n",
       "0  ../_datasets/texts/literature/palgrave-the-gol...          3       5   \n",
       "\n",
       "   N-Grams  Num Matches  Text A Length  Text B Length  \\\n",
       "0        3            6         118679         485394   \n",
       "\n",
       "                                      Locations in A  \\\n",
       "0  [(36794, 37420), (38708, 39171), (39200, 39353...   \n",
       "\n",
       "                                      Locations in B  \n",
       "0  [(18996, 19657), (34611, 35105), (35134, 35293...  "
      ]
     },
     "execution_count": 64,
     "metadata": {},
     "output_type": "execute_result"
    }
   ],
   "source": [
    "shakespeare_quotations_df"
   ]
  },
  {
   "cell_type": "markdown",
   "metadata": {},
   "source": [
    "The numbers in \"Locations in A\" and \"Location in B\" are the index numbers of the characters for the start and end of each match. We can look at one of these location pair.\n",
    "\n",
    "Let's open up the Shakespeare sonnets text file and look at the first pair of locations, 36794, 37420): "
   ]
  },
  {
   "cell_type": "code",
   "execution_count": null,
   "metadata": {},
   "outputs": [],
   "source": [
    "# Read in Shakespeare's sonnets as \"Shakespeare sonnets text\"\n",
    "with open('../_datasets/texts/literature/shakespeare-sonnets.txt') as file_a: \n",
    "    shakespeare_sonnets_text = file_a.read()"
   ]
  },
  {
   "cell_type": "markdown",
   "metadata": {},
   "source": [
    "Let's use the first match to print just th text of that match."
   ]
  },
  {
   "cell_type": "code",
   "execution_count": 47,
   "metadata": {},
   "outputs": [
    {
     "data": {
      "text/plain": [
       "'your slave what should I do but tend,\\n  Upon the hours, and times of your desire?\\n  I have no precious time at all to spend;\\n  Nor services to do, till you require.\\n  Nor dare I chide the world-without-end hour,\\n  Whilst I, my sovereign, watch the clock for you,\\n  Nor think the bitterness of absence sour,\\n  When you have bid your servant once adieu;\\n  Nor dare I question with my jealous thought\\n  Where you may be, or your affairs suppose,\\n  But, like a sad slave, stay and think of nought\\n  Save, where you are, how happy you make those.\\n    So true a fool is love, that in your will,\\n    Though you do anything, he thinks'"
      ]
     },
     "execution_count": 47,
     "metadata": {},
     "output_type": "execute_result"
    }
   ],
   "source": [
    "shakespeare_sonnets_text[36794:37420]"
   ]
  },
  {
   "cell_type": "markdown",
   "metadata": {},
   "source": [
    "## Runnning the text-matcher to compare one text with a directory of texts`\n",
    "To compare textA.txt with every text file in sampletextdir/, run `!text-matcher textA.txt sampletextdir/`"
   ]
  },
  {
   "cell_type": "markdown",
   "metadata": {},
   "source": [
    "### Fine tuning the parameters of the text matcher\n",
    "\n",
    "Take a look at the ['Usage'](https://github.com/JonathanReeve/text-matcher/tree/c04e54f3a4d36ab79e5f204809b2eb0d687d5b62#usage) section of the text-matcher. Note how we could change the parameter to search for longer and shorter n-grams for finding matches."
   ]
  },
  {
   "cell_type": "code",
   "execution_count": null,
   "metadata": {},
   "outputs": [],
   "source": []
  }
 ],
 "metadata": {
  "kernelspec": {
   "display_name": "Python 3",
   "language": "python",
   "name": "python3"
  },
  "language_info": {
   "codemirror_mode": {
    "name": "ipython",
    "version": 3
   },
   "file_extension": ".py",
   "mimetype": "text/x-python",
   "name": "python",
   "nbconvert_exporter": "python",
   "pygments_lexer": "ipython3",
   "version": "3.8.3"
  }
 },
 "nbformat": 4,
 "nbformat_minor": 4
}
