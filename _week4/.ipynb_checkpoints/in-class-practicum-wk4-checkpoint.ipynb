{
 "cells": [
  {
   "cell_type": "markdown",
   "metadata": {},
   "source": [
    "# Practicum: Bibliographic Data and Borrowing Records, continued\n"
   ]
  },
  {
   "cell_type": "markdown",
   "metadata": {},
   "source": [
    "### Agenda\n",
    "\n",
    "- What is a CSV? What is bibliographic data? \n",
    "    - Case Study: Reconstructing missing data\n",
    "    - Case Study: Princeton library catalog records for *Jane Eyre*\n",
    "- Review Research Exercise #4\n",
    "- In-class Exercises: \n",
    "    - Practicing working with bibliographic data in Python\n",
    "    - Make a time series visualization using `groupby()` and `plot()`"
   ]
  },
  {
   "cell_type": "markdown",
   "metadata": {},
   "source": [
    "## What is a CSV? What is bibliographic data?\n"
   ]
  },
  {
   "cell_type": "markdown",
   "metadata": {},
   "source": [
    "### Case Study: Carolyn Bressey's work mapping the geographies of readers of *Anti-Caste*"
   ]
  },
  {
   "cell_type": "markdown",
   "metadata": {},
   "source": [
    "### Case Study: Princeton library catalog records for *Jane Eyre*"
   ]
  },
  {
   "cell_type": "markdown",
   "metadata": {},
   "source": [
    "## Review Research Exercise\n",
    "\n",
    "\n",
    "\n",
    "- How was the research exercise?\n",
    "- Questions?\n",
    "- What did you find in working with the Seattle Public Library Dataset?\n",
    "- Anything else?\n"
   ]
  },
  {
   "cell_type": "markdown",
   "metadata": {},
   "source": [
    "## In-Class Exercises (35 min)\n",
    "\n",
    "In pairs, work through the following Exercises 1-6 (scroll all the way to the bottom for 6)."
   ]
  },
  {
   "cell_type": "markdown",
   "metadata": {},
   "source": [
    "### Practicing working with bibliographic data in Python\n",
    "### Exercise 1\n",
    "Import the `pandas` library.\n",
    "Load in the CSV file from the Seattle Public Library. \n",
    "\n",
    "> (Make sure to load it in using the `parse_dates=[[[['CheckoutYear', 'CheckoutMonth' ]]` flag that we used in our research exercise. This combines the CheckoutYear and CheckoutMonth column into a single date, making it easier sort through if we're interested in month-level data.)\n",
    "\n",
    "Using the commands we've learned so far, figure out what were the top 20 most-checked-out ***copies** of books in June 2015.\n"
   ]
  },
  {
   "cell_type": "code",
   "execution_count": null,
   "metadata": {},
   "outputs": [],
   "source": [
    "### Your code here"
   ]
  },
  {
   "cell_type": "markdown",
   "metadata": {},
   "source": [
    "### Excercise 2\n",
    "Now, figure out what were the top 20 most-checked-out ***titles*** in June 2015 (remember, the Seattle Public Library has multiple copies of many of these works!) "
   ]
  },
  {
   "cell_type": "code",
   "execution_count": null,
   "metadata": {},
   "outputs": [],
   "source": [
    "### Your code here"
   ]
  },
  {
   "cell_type": "markdown",
   "metadata": {},
   "source": [
    "### Excercise 3 \n",
    "Now, figure out who the top 20 most-checked-out authors were in June 2015 (remember, many of these authors wrote mutiple works!)"
   ]
  },
  {
   "cell_type": "code",
   "execution_count": null,
   "metadata": {},
   "outputs": [],
   "source": [
    "### Your code here"
   ]
  },
  {
   "cell_type": "markdown",
   "metadata": {},
   "source": [
    "### Exercise 4\n",
    "Make a bar plot of your results for top 20 most-checked-out authors in June 2015 (don't forget to include a title explaining what your graph is showing!)\n"
   ]
  },
  {
   "cell_type": "code",
   "execution_count": null,
   "metadata": {},
   "outputs": [],
   "source": [
    "### Your code here"
   ]
  },
  {
   "cell_type": "markdown",
   "metadata": {},
   "source": [
    "### Exercise 5\n",
    "Compare your results for top 20 most-checked-out authors in June 2015 to the top 20 most-checked-out-authors overall in our 2010-2015 corpus. (You can make two bar graphs)"
   ]
  },
  {
   "cell_type": "code",
   "execution_count": null,
   "metadata": {},
   "outputs": [],
   "source": [
    "### Your code here"
   ]
  },
  {
   "cell_type": "markdown",
   "metadata": {},
   "source": [
    "____"
   ]
  },
  {
   "cell_type": "markdown",
   "metadata": {},
   "source": [
    "###  Make a time series visualization using `groupby()` and `plot()`\n",
    "\n",
    "In this next exercise we're going to learn how to make a time series visualization.\n"
   ]
  },
  {
   "cell_type": "code",
   "execution_count": 116,
   "metadata": {},
   "outputs": [],
   "source": [
    "# Import our modules\n",
    "import pandas as pd\n",
    "seattle_library_df = pd.read_csv('../_datasets/Seattle_Book_Checkouts_2010_2015.csv', delimiter=\",\", parse_dates=[['CheckoutYear', 'CheckoutMonth' ]])"
   ]
  },
  {
   "cell_type": "markdown",
   "metadata": {},
   "source": [
    "We might have noticed that one of the most frequently chekced out books in this period is Gillian Flynn's *Gone Girl.*  When and how often was this title and other work by Flynn checked out of the library?\n",
    "\n",
    "Let's start by creating a data subset with just checkouts of work by Flynn"
   ]
  },
  {
   "cell_type": "code",
   "execution_count": null,
   "metadata": {},
   "outputs": [],
   "source": [
    "#Create a datasubsett of Gillian Flynn works\n",
    "flynn_seattle_library_df = seattle_library_df[seattle_library_df['Author'].str.contains('Flynn, Gillian', na=False)]"
   ]
  },
  {
   "cell_type": "code",
   "execution_count": 118,
   "metadata": {},
   "outputs": [
    {
     "data": {
      "text/html": [
       "<div>\n",
       "<style scoped>\n",
       "    .dataframe tbody tr th:only-of-type {\n",
       "        vertical-align: middle;\n",
       "    }\n",
       "\n",
       "    .dataframe tbody tr th {\n",
       "        vertical-align: top;\n",
       "    }\n",
       "\n",
       "    .dataframe thead th {\n",
       "        text-align: right;\n",
       "    }\n",
       "</style>\n",
       "<table border=\"1\" class=\"dataframe\">\n",
       "  <thead>\n",
       "    <tr style=\"text-align: right;\">\n",
       "      <th></th>\n",
       "      <th>CheckoutYear_CheckoutMonth</th>\n",
       "      <th>Checkouts</th>\n",
       "      <th>Title</th>\n",
       "      <th>Author</th>\n",
       "      <th>Subjects</th>\n",
       "      <th>Publisher</th>\n",
       "      <th>PublicationYear</th>\n",
       "    </tr>\n",
       "  </thead>\n",
       "  <tbody>\n",
       "    <tr>\n",
       "      <th>16280</th>\n",
       "      <td>2010-03-01</td>\n",
       "      <td>23</td>\n",
       "      <td>Dark places / Gillian Flynn.</td>\n",
       "      <td>Flynn, Gillian, 1971-</td>\n",
       "      <td>Children of murder victims Fiction, Families C...</td>\n",
       "      <td>Shaye Areheart Books,</td>\n",
       "      <td>c2009.</td>\n",
       "    </tr>\n",
       "    <tr>\n",
       "      <th>16281</th>\n",
       "      <td>2010-01-01</td>\n",
       "      <td>22</td>\n",
       "      <td>Dark places / Gillian Flynn.</td>\n",
       "      <td>Flynn, Gillian, 1971-</td>\n",
       "      <td>Children of murder victims Fiction, Families C...</td>\n",
       "      <td>Shaye Areheart Books,</td>\n",
       "      <td>c2009.</td>\n",
       "    </tr>\n",
       "    <tr>\n",
       "      <th>16282</th>\n",
       "      <td>2010-06-01</td>\n",
       "      <td>19</td>\n",
       "      <td>Dark places / Gillian Flynn.</td>\n",
       "      <td>Flynn, Gillian, 1971-</td>\n",
       "      <td>Children of murder victims Fiction, Families C...</td>\n",
       "      <td>Shaye Areheart Books,</td>\n",
       "      <td>c2009.</td>\n",
       "    </tr>\n",
       "    <tr>\n",
       "      <th>16283</th>\n",
       "      <td>2010-05-01</td>\n",
       "      <td>18</td>\n",
       "      <td>Dark places / Gillian Flynn.</td>\n",
       "      <td>Flynn, Gillian, 1971-</td>\n",
       "      <td>Children of murder victims Fiction, Families C...</td>\n",
       "      <td>Shaye Areheart Books,</td>\n",
       "      <td>c2009.</td>\n",
       "    </tr>\n",
       "    <tr>\n",
       "      <th>16284</th>\n",
       "      <td>2010-07-01</td>\n",
       "      <td>18</td>\n",
       "      <td>Dark places / Gillian Flynn.</td>\n",
       "      <td>Flynn, Gillian, 1971-</td>\n",
       "      <td>Children of murder victims Fiction, Families C...</td>\n",
       "      <td>Shaye Areheart Books,</td>\n",
       "      <td>c2009.</td>\n",
       "    </tr>\n",
       "    <tr>\n",
       "      <th>...</th>\n",
       "      <td>...</td>\n",
       "      <td>...</td>\n",
       "      <td>...</td>\n",
       "      <td>...</td>\n",
       "      <td>...</td>\n",
       "      <td>...</td>\n",
       "      <td>...</td>\n",
       "    </tr>\n",
       "    <tr>\n",
       "      <th>382591</th>\n",
       "      <td>2015-05-01</td>\n",
       "      <td>11</td>\n",
       "      <td>Dark places / Gillian Flynn.</td>\n",
       "      <td>Flynn, Gillian, 1971-</td>\n",
       "      <td>Children of murder victims Fiction, Families C...</td>\n",
       "      <td>Shaye Areheart Books,</td>\n",
       "      <td>c2009.</td>\n",
       "    </tr>\n",
       "    <tr>\n",
       "      <th>382592</th>\n",
       "      <td>2015-05-01</td>\n",
       "      <td>11</td>\n",
       "      <td>Gone girl [text (large print)] / Gillian Flynn.</td>\n",
       "      <td>Flynn, Gillian, 1971-</td>\n",
       "      <td>Husbands Fiction, Married people Fiction, Wive...</td>\n",
       "      <td>Thorndike Press,</td>\n",
       "      <td>2012</td>\n",
       "    </tr>\n",
       "    <tr>\n",
       "      <th>382593</th>\n",
       "      <td>2015-06-01</td>\n",
       "      <td>11</td>\n",
       "      <td>Gone girl [text (large print)] / Gillian Flynn.</td>\n",
       "      <td>Flynn, Gillian, 1971-</td>\n",
       "      <td>Husbands Fiction, Married people Fiction, Wive...</td>\n",
       "      <td>Thorndike Press,</td>\n",
       "      <td>2012</td>\n",
       "    </tr>\n",
       "    <tr>\n",
       "      <th>382594</th>\n",
       "      <td>2015-04-01</td>\n",
       "      <td>10</td>\n",
       "      <td>Dark places / Gillian Flynn.</td>\n",
       "      <td>Flynn, Gillian, 1971-</td>\n",
       "      <td>Children of murder victims Fiction, Families C...</td>\n",
       "      <td>Shaye Areheart Books,</td>\n",
       "      <td>c2009.</td>\n",
       "    </tr>\n",
       "    <tr>\n",
       "      <th>382595</th>\n",
       "      <td>2015-12-01</td>\n",
       "      <td>10</td>\n",
       "      <td>Dark places / Gillian Flynn.</td>\n",
       "      <td>Flynn, Gillian, 1971-</td>\n",
       "      <td>Children of murder victims Fiction, Families C...</td>\n",
       "      <td>Shaye Areheart Books,</td>\n",
       "      <td>c2009.</td>\n",
       "    </tr>\n",
       "  </tbody>\n",
       "</table>\n",
       "<p>209 rows × 7 columns</p>\n",
       "</div>"
      ],
      "text/plain": [
       "       CheckoutYear_CheckoutMonth  Checkouts  \\\n",
       "16280                  2010-03-01         23   \n",
       "16281                  2010-01-01         22   \n",
       "16282                  2010-06-01         19   \n",
       "16283                  2010-05-01         18   \n",
       "16284                  2010-07-01         18   \n",
       "...                           ...        ...   \n",
       "382591                 2015-05-01         11   \n",
       "382592                 2015-05-01         11   \n",
       "382593                 2015-06-01         11   \n",
       "382594                 2015-04-01         10   \n",
       "382595                 2015-12-01         10   \n",
       "\n",
       "                                                  Title  \\\n",
       "16280                      Dark places / Gillian Flynn.   \n",
       "16281                      Dark places / Gillian Flynn.   \n",
       "16282                      Dark places / Gillian Flynn.   \n",
       "16283                      Dark places / Gillian Flynn.   \n",
       "16284                      Dark places / Gillian Flynn.   \n",
       "...                                                 ...   \n",
       "382591                     Dark places / Gillian Flynn.   \n",
       "382592  Gone girl [text (large print)] / Gillian Flynn.   \n",
       "382593  Gone girl [text (large print)] / Gillian Flynn.   \n",
       "382594                     Dark places / Gillian Flynn.   \n",
       "382595                     Dark places / Gillian Flynn.   \n",
       "\n",
       "                       Author  \\\n",
       "16280   Flynn, Gillian, 1971-   \n",
       "16281   Flynn, Gillian, 1971-   \n",
       "16282   Flynn, Gillian, 1971-   \n",
       "16283   Flynn, Gillian, 1971-   \n",
       "16284   Flynn, Gillian, 1971-   \n",
       "...                       ...   \n",
       "382591  Flynn, Gillian, 1971-   \n",
       "382592  Flynn, Gillian, 1971-   \n",
       "382593  Flynn, Gillian, 1971-   \n",
       "382594  Flynn, Gillian, 1971-   \n",
       "382595  Flynn, Gillian, 1971-   \n",
       "\n",
       "                                                 Subjects  \\\n",
       "16280   Children of murder victims Fiction, Families C...   \n",
       "16281   Children of murder victims Fiction, Families C...   \n",
       "16282   Children of murder victims Fiction, Families C...   \n",
       "16283   Children of murder victims Fiction, Families C...   \n",
       "16284   Children of murder victims Fiction, Families C...   \n",
       "...                                                   ...   \n",
       "382591  Children of murder victims Fiction, Families C...   \n",
       "382592  Husbands Fiction, Married people Fiction, Wive...   \n",
       "382593  Husbands Fiction, Married people Fiction, Wive...   \n",
       "382594  Children of murder victims Fiction, Families C...   \n",
       "382595  Children of murder victims Fiction, Families C...   \n",
       "\n",
       "                    Publisher PublicationYear  \n",
       "16280   Shaye Areheart Books,          c2009.  \n",
       "16281   Shaye Areheart Books,          c2009.  \n",
       "16282   Shaye Areheart Books,          c2009.  \n",
       "16283   Shaye Areheart Books,          c2009.  \n",
       "16284   Shaye Areheart Books,          c2009.  \n",
       "...                       ...             ...  \n",
       "382591  Shaye Areheart Books,          c2009.  \n",
       "382592       Thorndike Press,            2012  \n",
       "382593       Thorndike Press,            2012  \n",
       "382594  Shaye Areheart Books,          c2009.  \n",
       "382595  Shaye Areheart Books,          c2009.  \n",
       "\n",
       "[209 rows x 7 columns]"
      ]
     },
     "execution_count": 118,
     "metadata": {},
     "output_type": "execute_result"
    }
   ],
   "source": [
    "# Let's take a quick peek\n",
    "flynn_seattle_library_df"
   ]
  },
  {
   "cell_type": "code",
   "execution_count": 119,
   "metadata": {},
   "outputs": [],
   "source": [
    "# We're going to set our dates column as the index using the `.set_index()` function, \n",
    "# This will make it easier to make plot our data over successive intervals of time.\n",
    "flynn_seattle_library_df.set_index('CheckoutYear_CheckoutMonth', inplace=True)"
   ]
  },
  {
   "cell_type": "code",
   "execution_count": 114,
   "metadata": {},
   "outputs": [
    {
     "data": {
      "text/plain": [
       "Title\n",
       "Dark places / Gillian Flynn.                       AxesSubplot(0.125,0.2;0.775x0.68)\n",
       "Gone girl : a novel / Gillian Flynn.               AxesSubplot(0.125,0.2;0.775x0.68)\n",
       "Gone girl [text (large print)] / Gillian Flynn.    AxesSubplot(0.125,0.2;0.775x0.68)\n",
       "Sharp objects : a novel / Gillian Flynn.           AxesSubplot(0.125,0.2;0.775x0.68)\n",
       "Name: Checkouts, dtype: object"
      ]
     },
     "execution_count": 114,
     "metadata": {},
     "output_type": "execute_result"
    },
    {
     "data": {
      "image/png": "[encoded data removed]",
      "text/plain": [
       "<Figure size 1440x720 with 1 Axes>"
      ]
     },
     "metadata": {
      "needs_background": "light"
     },
     "output_type": "display_data"
    }
   ],
   "source": [
    "# Group data by 'Title' and display 'Checkouts' as line chart\n",
    "flynn_seattle_library_df.groupby('Title')['Checkouts'].plot(kind='line', legend=True,\\\n",
    "                                                            figsize=(20,10),\\\n",
    "                                                            title=\"Gillian Flynn Novels\\nChecked out of the Seattle Public Library 2010-2015\",)"
   ]
  },
  {
   "cell_type": "markdown",
   "metadata": {},
   "source": [
    "### Exercise 6\n",
    "Your turn!\n",
    "\n",
    "+ Choose an author of your choice. \n",
    "+ Create a data subset of their work\n",
    "+ Set the date column of your subset as the index\n",
    "+ Use `groupby()` and `plot()` to create a time series visualization comparing how often different titles were checked out by your author."
   ]
  },
  {
   "cell_type": "code",
   "execution_count": null,
   "metadata": {},
   "outputs": [],
   "source": [
    "### Your code here"
   ]
  }
 ],
 "metadata": {
  "kernelspec": {
   "display_name": "Python 3",
   "language": "python",
   "name": "python3"
  },
  "language_info": {
   "codemirror_mode": {
    "name": "ipython",
    "version": 3
   },
   "file_extension": ".py",
   "mimetype": "text/x-python",
   "name": "python",
   "nbconvert_exporter": "python",
   "pygments_lexer": "ipython3",
   "version": "3.8.3"
  }
 },
 "nbformat": 4,
 "nbformat_minor": 4
}
