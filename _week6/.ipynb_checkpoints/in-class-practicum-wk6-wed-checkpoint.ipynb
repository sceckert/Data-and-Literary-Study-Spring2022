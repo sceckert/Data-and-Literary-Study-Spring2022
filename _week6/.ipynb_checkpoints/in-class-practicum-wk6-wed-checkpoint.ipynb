{
 "cells": [
  {
   "cell_type": "markdown",
   "metadata": {},
   "source": [
    "# In-Class Practicum:\n",
    "\n",
    "March 2, 2022"
   ]
  },
  {
   "cell_type": "markdown",
   "metadata": {},
   "source": [
    "\n",
    "\n",
    "## Processing text files\n",
    "\n",
    "This Jupyter notebook includes a series of examples for how you might use regular expressions (the re library) along with the collections and Path libraries to help with batch processing text files."
   ]
  },
  {
   "cell_type": "markdown",
   "metadata": {},
   "source": [
    "### Reading in a file"
   ]
  },
  {
   "cell_type": "code",
   "execution_count": 2,
   "metadata": {},
   "outputs": [],
   "source": [
    "import pandas as pd\n",
    "import re\n",
    "from collections import Counter"
   ]
  },
  {
   "cell_type": "code",
   "execution_count": 3,
   "metadata": {},
   "outputs": [],
   "source": [
    "filepath_of_text = \"../_datasets/texts/literature/Jane-Austen-Pride-and-Prejudice.txt\""
   ]
  },
  {
   "cell_type": "code",
   "execution_count": 4,
   "metadata": {},
   "outputs": [],
   "source": [
    "full_text = open(filepath_of_text, mode='r', encoding=\"utf-8\").read()"
   ]
  },
  {
   "cell_type": "code",
   "execution_count": 5,
   "metadata": {},
   "outputs": [
    {
     "name": "stdout",
     "output_type": "stream",
     "text": [
      "﻿The Project Gutenberg eBook, Pride and Prejudice, by Jane Austen, Edited\n",
      "by R. W. (Robert William) Chapman\n",
      "\n",
      "\n",
      "This eBook is for the use of anyone anywhere at no cost and with\n",
      "almost no restrictions whatsoever.  You may copy it, give it away or\n",
      "re-use it under the terms of the Project Gutenberg License included\n",
      "with this eBook or online at www.gutenberg.org\n",
      "\n",
      "\n",
      "\n",
      "\n",
      "\n",
      "Title: Pride and Prejudice\n",
      "\n",
      "\n",
      "Author: Jane Austen\n",
      "\n",
      "Editor: R. W. (Robert William) Chapman\n",
      "\n",
      "Release Date: May 9, 2013  [eBook #42671]\n",
      "\n",
      "Lan\n"
     ]
    }
   ],
   "source": [
    "# Print the first 100 characters of our string\n",
    "print(full_text[:500])"
   ]
  },
  {
   "cell_type": "markdown",
   "metadata": {},
   "source": [
    "### Write a text file"
   ]
  },
  {
   "cell_type": "markdown",
   "metadata": {},
   "source": [
    "Instead of useing `open('sample-file.txt', mode='r', encoding='utf-8').read()` using the `mode='r'` read mode, we can write to a file using the `mode='w'`.\n",
    "\n",
    "Let's create a new blank file called \"a-new-file.txt\":"
   ]
  },
  {
   "cell_type": "code",
   "execution_count": 6,
   "metadata": {},
   "outputs": [
    {
     "data": {
      "text/plain": [
       "<_io.TextIOWrapper name='a-new-file.txt' mode='w' encoding='utf-8'>"
      ]
     },
     "execution_count": 6,
     "metadata": {},
     "output_type": "execute_result"
    }
   ],
   "source": [
    "open('a-new-file.txt', mode='w', encoding='utf-8')"
   ]
  },
  {
   "cell_type": "markdown",
   "metadata": {},
   "source": [
    "To add something to this file, we use the `.write()` method:"
   ]
  },
  {
   "cell_type": "code",
   "execution_count": 7,
   "metadata": {},
   "outputs": [
    {
     "data": {
      "text/plain": [
       "38"
      ]
     },
     "execution_count": 7,
     "metadata": {},
     "output_type": "execute_result"
    }
   ],
   "source": [
    "open('a-new-file.txt', mode='w', encoding='utf-8').write('I just wrote this text to a text file!')"
   ]
  },
  {
   "cell_type": "markdown",
   "metadata": {},
   "source": [
    "### Open and read all files in a directory\n",
    "What if we want to work with more than one text at once, like analyzing word frequencies or patterns in a collection of texts?\n",
    "\n",
    "Using `for` loops (which we learned), and a library called `Pathlib`, we can iterate over all the files in a directory:"
   ]
  },
  {
   "cell_type": "markdown",
   "metadata": {},
   "source": [
    "#### Import Pathlib "
   ]
  },
  {
   "cell_type": "code",
   "execution_count": 8,
   "metadata": {},
   "outputs": [],
   "source": [
    "from pathlib import Path"
   ]
  },
  {
   "cell_type": "code",
   "execution_count": 9,
   "metadata": {},
   "outputs": [],
   "source": [
    "# Define the path to a directory that we\n",
    "directory_path = 'sample-directory'"
   ]
  },
  {
   "cell_type": "markdown",
   "metadata": {},
   "source": [
    "#### Loop through any file in the directory with the star * character, (a wildcard which matches anything)"
   ]
  },
  {
   "cell_type": "code",
   "execution_count": 10,
   "metadata": {},
   "outputs": [
    {
     "name": "stdout",
     "output_type": "stream",
     "text": [
      "sample-directory/sample-text1.txt\n",
      "sample-directory/sample-text3.txt\n",
      "sample-directory/sample-text2.txt\n"
     ]
    }
   ],
   "source": [
    "for filepath in Path(directory_path).glob('*'):\n",
    "    print(filepath)"
   ]
  },
  {
   "cell_type": "markdown",
   "metadata": {},
   "source": [
    "#### Loop through just text files in the directory with *.txt, which matches only files that end with “.txt”"
   ]
  },
  {
   "cell_type": "code",
   "execution_count": 11,
   "metadata": {},
   "outputs": [
    {
     "name": "stdout",
     "output_type": "stream",
     "text": [
      "sample-directory/sample-text1.txt\n",
      "sample-directory/sample-text3.txt\n",
      "sample-directory/sample-text2.txt\n"
     ]
    }
   ],
   "source": [
    "for filepath in Path(directory_path).glob('*.txt'):\n",
    "    print(filepath)"
   ]
  },
  {
   "cell_type": "markdown",
   "metadata": {},
   "source": [
    "#### To read these text files, simply add in the open() function and .read() method"
   ]
  },
  {
   "cell_type": "code",
   "execution_count": 12,
   "metadata": {},
   "outputs": [
    {
     "name": "stdout",
     "output_type": "stream",
     "text": [
      "This is a sample text!\n",
      "This is yet another sample text!\n",
      "This is another sample text!\n"
     ]
    }
   ],
   "source": [
    "for filepath in Path(directory_path).glob('*.txt'):\n",
    "    print(open(filepath, encoding='utf-8').read())"
   ]
  },
  {
   "cell_type": "markdown",
   "metadata": {},
   "source": [
    "## Splitting up a text file\n"
   ]
  },
  {
   "cell_type": "markdown",
   "metadata": {},
   "source": [
    "### Split up a text file by paragraphs\n",
    "To split a file by paragraphs, we need to first figure how how paragraphs are represented in our text. Let's peak inside the file:  "
   ]
  },
  {
   "cell_type": "code",
   "execution_count": 13,
   "metadata": {},
   "outputs": [
    {
     "data": {
      "text/plain": [
       "'\\ufeffThe Project Gutenberg eBook, Pride and Prejudice, by Jane Austen, Edited\\nby R. W. (Robert William) Chapman\\n\\n\\nThis eBook is for the use of anyone anywhere at no cost and with\\nalmost no restrictions whatsoever.  You may copy it, give it away or\\nre-use it under the terms of the Project Gutenberg License included\\nwith this eBook or online at www.gutenberg.org\\n\\n\\n\\n\\n\\nTitle: Pride and Prejudice\\n\\n\\nAuthor: Jane Austen\\n\\nEditor: R. W. (Robert William) Chapman\\n\\nRelease Date: May 9, 2013  [eBook #42671]\\n\\nLan'"
      ]
     },
     "execution_count": 13,
     "metadata": {},
     "output_type": "execute_result"
    }
   ],
   "source": [
    "full_text[:500]"
   ]
  },
  {
   "cell_type": "markdown",
   "metadata": {},
   "source": [
    "Notice that new lines are marked by two newline characters––\"\\n\\n\". This newline character is a way of encoding a linebreak as a character, and can use this to split our text up everytime we encouter a paragraph break, like so: "
   ]
  },
  {
   "cell_type": "code",
   "execution_count": 14,
   "metadata": {},
   "outputs": [],
   "source": [
    "full_text_split_by_paragraph = full_text.split(\"\\n\\n\")"
   ]
  },
  {
   "cell_type": "markdown",
   "metadata": {},
   "source": [
    "### Print out the contents of paragraph 36\n",
    "(Remember, Python numbering starts at 0, not 1, but each split creates a text before it)"
   ]
  },
  {
   "cell_type": "code",
   "execution_count": 15,
   "metadata": {},
   "outputs": [
    {
     "name": "stdout",
     "output_type": "stream",
     "text": [
      "\n",
      "It is a truth universally acknowledged, that a single man in possession\n",
      "of a good fortune, must be in want of a wife.\n"
     ]
    }
   ],
   "source": [
    "# Print out the contents of paragraph 36\n",
    "print(full_text_split_by_paragraph[36])"
   ]
  },
  {
   "cell_type": "markdown",
   "metadata": {},
   "source": [
    "### Split up a text file by a string, eg \"CHAPTER\""
   ]
  },
  {
   "cell_type": "code",
   "execution_count": 16,
   "metadata": {},
   "outputs": [],
   "source": [
    "# Split up our document by CHAPTER\n",
    "full_text_split_by_chapter = full_text.split(\"CHAPTER\")"
   ]
  },
  {
   "cell_type": "code",
   "execution_count": 17,
   "metadata": {},
   "outputs": [
    {
     "name": "stdout",
     "output_type": "stream",
     "text": [
      " III.\n",
      "\n",
      "\n",
      "Not all that Mrs. Bennet, however, with the assistance of her five\n",
      "daughters, could ask on the subject was sufficient to draw from her\n",
      "husband any satisfactory description of Mr. Bingley. They attacked him\n",
      "in various ways; with barefaced questions, ingenious suppositions, and\n",
      "distant surmises; but he eluded the skill of them all; and they were at\n",
      "last obliged to accept the second-hand intelligence of their neighbour\n",
      "Lady Lucas. Her report was highly favourable. Sir William had been\n",
      "delighted with him. He was quite young, wonderfully handsome, extremely\n",
      "agreeable, and to crown the whole, he meant to be at the next assembly\n",
      "with a large party. Nothing could be more delightful! To be fond of\n",
      "dancing was a certain step towards falling in love; and very lively\n",
      "hopes of Mr. Bingley's heart were entertained.\n",
      "\n",
      "\"If I can but see one of my daughters happily settled at Netherfield,\"\n",
      "said Mrs. Bennet to her husband, \"and all the others equally well\n",
      "married, I shall have nothing to wish for.\"\n",
      "\n",
      "In a few days Mr. Bingley returned Mr. Bennet's visit, and sat about ten\n",
      "minutes with him in his library. He had entertained hopes of being\n",
      "admitted to a sight of the young ladies, of whose beauty he had heard\n",
      "much; but he saw only the father. The ladies were somewhat more\n",
      "fortunate, for they had the advantage of ascertaining from an upper\n",
      "window, that he wore a blue coat and rode a black horse.\n",
      "\n",
      "An invitation to dinner was soon afterwards dispatched; and already had\n",
      "Mrs. Bennet planned the courses that were to do credit to her\n",
      "housekeeping, when an answer arrived which deferred it all. Mr. Bingley\n",
      "was obliged to be in town the following day, and consequently unable to\n",
      "accept the honour of their invitation, &c. Mrs. Bennet was quite\n",
      "disconcerted. She could not imagine what business he could have in town\n",
      "so soon after his arrival in Hertfordshire; and she began to fear that\n",
      "he might be always flying about from one place to another, and never\n",
      "settled at Netherfield as he ought to be. Lady Lucas quieted her fears a\n",
      "little by starting the idea of his being gone to London only to get a\n",
      "large party for the ball; and a report soon followed that Mr. Bingley\n",
      "was to bring twelve ladies and seven gentlemen with him to the assembly.\n",
      "The girls grieved over such a number of ladies; but were comforted the\n",
      "day before the ball by hearing, that instead of twelve, he had brought\n",
      "only six with him from London, his five sisters and a cousin. And when\n",
      "the party entered the assembly room, it consisted of only five\n",
      "altogether; Mr. Bingley, his two sisters, the husband of the eldest, and\n",
      "another young man.\n",
      "\n",
      "Mr. Bingley was good looking and gentleman-like; he had a pleasant\n",
      "countenance, and easy, unaffected manners. His sisters were fine women,\n",
      "with an air of decided fashion. His brother-in-law, Mr. Hurst, merely\n",
      "looked the gentleman; but his friend Mr. Darcy soon drew the attention\n",
      "of the room by his fine, tall person, handsome features, noble mien; and\n",
      "the report which was in general circulation within five minutes after\n",
      "his entrance, of his having ten thousand a year. The gentlemen\n",
      "pronounced him to be a fine figure of a man, the ladies declared he was\n",
      "much handsomer than Mr. Bingley, and he was looked at with great\n",
      "admiration for about half the evening, till his manners gave a disgust\n",
      "which turned the tide of his popularity; for he was discovered to be\n",
      "proud, to be above his company, and above being pleased; and not all his\n",
      "large estate in Derbyshire could then save him from having a most\n",
      "forbidding, disagreeable countenance, and being unworthy to be compared\n",
      "with his friend.\n",
      "\n",
      "Mr. Bingley had soon made himself acquainted with all the principal\n",
      "people in the room; he was lively and unreserved, danced every dance,\n",
      "was angry that the ball closed so early, and talked of giving one\n",
      "himself at Netherfield. Such amiable qualities must speak for\n",
      "themselves. What a contrast between him and his friend! Mr. Darcy danced\n",
      "only once with Mrs. Hurst and once with Miss Bingley, declined being\n",
      "introduced to any other lady, and spent the rest of the evening in\n",
      "walking about the room, speaking occasionally to one of his own party.\n",
      "His character was decided. He was the proudest, most disagreeable man in\n",
      "the world, and every body hoped that he would never come there again.\n",
      "Amongst the most violent against him was Mrs. Bennet, whose dislike of\n",
      "his general behaviour, was sharpened into particular resentment, by his\n",
      "having slighted one of her daughters.\n",
      "\n",
      "Elizabeth Bennet had been obliged, by the scarcity of gentlemen, to sit\n",
      "down for two dances; and during part of that time, Mr. Darcy had been\n",
      "standing near enough for her to overhear a conversation between him and\n",
      "Mr. Bingley, who came from the dance for a few minutes, to press his\n",
      "friend to join it.\n",
      "\n",
      "\"Come, Darcy,\" said he, \"I must have you dance. I hate to see you\n",
      "standing about by yourself in this stupid manner. You had much better\n",
      "dance.\"\n",
      "\n",
      "\"I certainly shall not. You know how I detest it, unless I am\n",
      "particularly acquainted with my partner. At such an assembly as this, it\n",
      "would be insupportable. Your sisters are engaged, and there is not\n",
      "another woman in the room, whom it would not be a punishment to me to\n",
      "stand up with.\"\n",
      "\n",
      "\"I would not be so fastidious as you are,\" cried Bingley, \"for a\n",
      "kingdom! Upon my honour, I never met with so many pleasant girls in my\n",
      "life, as I have this evening; and there are several of them you see\n",
      "uncommonly pretty.\"\n",
      "\n",
      "\"_You_ are dancing with the only handsome girl in the room,\" said Mr.\n",
      "Darcy, looking at the eldest Miss Bennet.\n",
      "\n",
      "\"Oh! she is the most beautiful creature I ever beheld! But there is one\n",
      "of her sisters sitting down just behind you, who is very pretty, and I\n",
      "dare say, very agreeable. Do let me ask my partner to introduce you.\"\n",
      "\n",
      "\"Which do you mean?\" and turning round, he looked for a moment at\n",
      "Elizabeth, till catching her eye, he withdrew his own and coldly said,\n",
      "\"She is tolerable; but not handsome enough to tempt _me_; and I am in no\n",
      "humour at present to give consequence to young ladies who are slighted\n",
      "by other men. You had better return to your partner and enjoy her\n",
      "smiles, for you are wasting your time with me.\"\n",
      "\n",
      "Mr. Bingley followed his advice. Mr. Darcy walked off; and Elizabeth\n",
      "remained with no very cordial feelings towards him. She told the story\n",
      "however with great spirit among her friends; for she had a lively,\n",
      "playful disposition, which delighted in any thing ridiculous.\n",
      "\n",
      "The evening altogether passed off pleasantly to the whole family. Mrs.\n",
      "Bennet had seen her eldest daughter much admired by the Netherfield\n",
      "party. Mr. Bingley had danced with her twice, and she had been\n",
      "distinguished by his sisters. Jane was as much gratified by this, as her\n",
      "mother could be, though in a quieter way. Elizabeth felt Jane's\n",
      "pleasure. Mary had heard herself mentioned to Miss Bingley as the most\n",
      "accomplished girl in the neighbourhood; and Catherine and Lydia had been\n",
      "fortunate enough to be never without partners, which was all that they\n",
      "had yet learnt to care for at a ball. They returned therefore in good\n",
      "spirits to Longbourn, the village where they lived, and of which they\n",
      "were the principal inhabitants. They found Mr. Bennet still up. With a\n",
      "book he was regardless of time; and on the present occasion he had a\n",
      "good deal of curiosity as to the event of an evening which had raised\n",
      "such splendid expectations. He had rather hoped that all his wife's\n",
      "views on the stranger would be disappointed; but he soon found that he\n",
      "had a very different story to hear.\n",
      "\n",
      "\"Oh! my dear Mr. Bennet,\" as she entered the room, \"we have had a most\n",
      "delightful evening, a most excellent ball. I wish you had been there.\n",
      "Jane was so admired, nothing could be like it. Every body said how well\n",
      "she looked; and Mr. Bingley thought her quite beautiful, and danced with\n",
      "her twice. Only think of _that_ my dear; he actually danced with her\n",
      "twice; and she was the only creature in the room that he asked a second\n",
      "time. First of all, he asked Miss Lucas. I was so vexed to see him stand\n",
      "up with her; but, however, he did not admire her at all: indeed, nobody\n",
      "can, you know; and he seemed quite struck with Jane as she was going\n",
      "down the dance. So, he enquired who she was, and got introduced, and\n",
      "asked her for the two next. Then, the two third he danced with Miss\n",
      "King, and the two fourth with Maria Lucas, and the two fifth with Jane\n",
      "again, and the two sixth with Lizzy, and the Boulanger----\"\n",
      "\n",
      "\"If he had had any compassion for _me_,\" cried her husband impatiently,\n",
      "\"he would not have danced half so much! For God's sake, say no more of\n",
      "his partners. Oh! that he had sprained his ancle in the first dance!\"\n",
      "\n",
      "\"Oh! my dear,\" continued Mrs. Bennet, \"I am quite delighted with him. He\n",
      "is so excessively handsome! and his sisters are charming women. I never\n",
      "in my life saw any thing more elegant than their dresses. I dare say the\n",
      "lace upon Mrs. Hurst's gown----\"\n",
      "\n",
      "Here she was interrupted again. Mr. Bennet protested against any\n",
      "description of finery. She was therefore obliged to seek another branch\n",
      "of the subject, and related, with much bitterness of spirit and some\n",
      "exaggeration, the shocking rudeness of Mr. Darcy.\n",
      "\n",
      "\"But I can assure you,\" she added, \"that Lizzy does not lose much by not\n",
      "suiting _his_ fancy; for he is a most disagreeable, horrid man, not at\n",
      "all worth pleasing. So high and so conceited that there was no enduring\n",
      "him! He walked here, and he walked there, fancying himself so very\n",
      "great! Not handsome enough to dance with! I wish you had been there, my\n",
      "dear, to have given him one of your set downs. I quite detest the man.\"\n",
      "\n",
      "\n",
      "\n",
      "\n",
      "\n"
     ]
    }
   ],
   "source": [
    "# Print out the contents of \"CHAPTER\" 3\n",
    "# Chapter 0 here is the start of the document\n",
    "print(full_text_split_by_chapter[3])"
   ]
  },
  {
   "cell_type": "markdown",
   "metadata": {},
   "source": [
    "### Output a list to a single text file\n",
    "\n",
    "Output our split text file (now a list of paragraphs) as a single text file.\n",
    "\n",
    "Example: output just the first paragraph of Austen"
   ]
  },
  {
   "cell_type": "code",
   "execution_count": null,
   "metadata": {},
   "outputs": [],
   "source": [
    "output_file = open('booknlp-contexts.txt', mode='w', encoding='utf-8')\n",
    "\n",
    "for paragraph in full_text_split_by_paragraph:\n",
    "     output_file.write(paragraph)\n",
    "     output_file.write('\\n')\n",
    "output_file.close()"
   ]
  },
  {
   "cell_type": "markdown",
   "metadata": {},
   "source": [
    "### Output a list (here, our split text file) as a series of new files\n",
    "To output our split files as a series of new files with the same beginning, followed by the number of the section:"
   ]
  },
  {
   "cell_type": "code",
   "execution_count": null,
   "metadata": {},
   "outputs": [],
   "source": [
    "# To output our split files as a series of new files with the same beginning, followed by the number of the section\n",
    "begining_of_output_filenames = 'Austen-Pride-and-Prejudice-'\n",
    "[open(begining_of_output_filenames+str(i)+'.txt', 'w').write(full_text_split_by_paragraph[i-1]) for i in range(1, len(full_text_split_by_paragraph)+1)]"
   ]
  },
  {
   "cell_type": "markdown",
   "metadata": {},
   "source": [
    "### Output a list (here, our split text file) as a series of new files in a new directory"
   ]
  },
  {
   "cell_type": "code",
   "execution_count": null,
   "metadata": {},
   "outputs": [],
   "source": [
    "# To output our split paragraphs as a series of new files with the same beginning, followed by the number of the section\n",
    "\n",
    "#Import pathlib \n",
    "from pathlib import Path\n",
    "\n",
    "# Define and name the new output directory using pathlib\n",
    "path = Path('Austen-Pride-and-Prejudice-paragraphs/')\n",
    "path.mkdir(exist_ok=True)\n",
    "\n",
    "# Set the prefix for our output files, followed by the number of the section\n",
    "begining_of_output_filenames = 'Austen-Pride-and-Prejudice-paragraph'\n",
    "\n",
    "# Iterate over each of the chunks of context for BookNLP NER\n",
    "for i in range(1, len(full_text_split_by_paragraph)+1):\n",
    "    open(str(path) + \"/\" + begining_of_output_filenames+str(i)+'.txt','w').write(full_text_split_by_paragraph[i-1])"
   ]
  }
 ],
 "metadata": {
  "kernelspec": {
   "display_name": "Python 3",
   "language": "python",
   "name": "python3"
  },
  "language_info": {
   "codemirror_mode": {
    "name": "ipython",
    "version": 3
   },
   "file_extension": ".py",
   "mimetype": "text/x-python",
   "name": "python",
   "nbconvert_exporter": "python",
   "pygments_lexer": "ipython3",
   "version": "3.8.3"
  }
 },
 "nbformat": 4,
 "nbformat_minor": 4
}
