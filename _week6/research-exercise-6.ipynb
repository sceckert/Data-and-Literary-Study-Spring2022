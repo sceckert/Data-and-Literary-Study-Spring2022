{
 "cells": [
  {
   "cell_type": "markdown",
   "metadata": {},
   "source": [
    "# Research Exercise 6: Anthologies as Data\n",
    "\n",
    "As part of this week's research exercise, we're going to think about the work that anthologies do, and the different ways we might approach them?"
   ]
  },
  {
   "cell_type": "markdown",
   "metadata": {},
   "source": [
    "## Part 1: *The Norton Anthology of English Literature*\n",
    "\n",
    "Between 1962 and 2018, W.W. Norton has published ten different installments of *The Norton Anthology of English Literature*. (Most editions were published in two volumes; starting with the 8th edition, they appeared in 6 volmes)\n",
    "\n",
    "\n",
    "Take a quick peak at the rough data on each of the anthologies in [this CSV file](https://github.com/sceckert/Data-and-Literary-Study-Spring2022/blob/main/_datasets/norton-anthologies-of-english-literature-metadata.csv). Then, [skim through the folder of tables of contents from the 2nd, 3rd, 4th, 8th, and 10th editions of the Norton Anthologies](https://princeton.instructure.com/courses/6331/files/folder/Norton-Anthology-of-English-Literature-tables-of-contents).\n",
    "\n",
    "+ What patterns do you notice?\n",
    "\n",
    "+ What questions might we ask of this dataset of anthologies?\n",
    "\n"
   ]
  },
  {
   "cell_type": "markdown",
   "metadata": {},
   "source": [
    "\n",
    "Think about one of the questions above -- what kinds of choices would we have to make in encoding this data if we wanted to explore your question?"
   ]
  },
  {
   "cell_type": "markdown",
   "metadata": {},
   "source": [
    "\n",
    "## ~~**~~ Your REFLECTION HERE ~**~~~"
   ]
  },
  {
   "cell_type": "markdown",
   "metadata": {},
   "source": [
    "## Part 2: Anthologizing Australian Poetry\n",
    "\n",
    "In this next part of the exercise, we're going to be working with the Australian National Poetry Anthologies -- a dataset of 15 anthologies of Australian poetry, published between 1946 and 2011 created by Jim Berryman and Caitlin Stone at the University of Melbourne. As Berryman and Stone describe it: \n",
    "\n",
    "\"This dataset is derived from the tables of contents of fifteen Australian ‘national’ poetry anthologies published between 1946 and 2011. Dataset contains all poems and poets included in the following anthologies\n",
    "\n",
    "George Mackanness, *Poets of Australia: An Anthology of Australian Verse*, 1946          \n",
    "\n",
    "George Mackanness, *An Anthology of Australian Verse* (2nd ed.), 1952            \n",
    "\n",
    "Judith Wright, *A Book of Australian Verse*, 1956\n",
    "\n",
    "John Thompson, Kenneth Slessor and R. G. Howarth, *The Penguin Book of Australian Verse*, 1958       \n",
    "\n",
    "Judith Wright, *A Book of Australian Verse* (2nd ed.), 1968\n",
    "\n",
    "Harry Heseltine, *The Penguin Book of Australian Verse*, 1972\n",
    "\n",
    "Geoffrey Dutton, *Australian Verse from 1805: A Continuum*, 1975\n",
    "\n",
    "Rodney Hall, *The Collins Book of Australian Poetry*, 1981\n",
    "\n",
    "Geoffrey Dutton, *The Heritage of Australian Poetry*, 1984\n",
    "\n",
    "Les Murray, *The New Oxford Book of Australian Verse*, 1986\n",
    "\n",
    "Les Murray, *The New Oxford Book of Australian Verse* (2nd ed.), 1991\n",
    "\n",
    "John Leonard, *Australian Verse: An Oxford Anthology*, 1998\n",
    "\n",
    "John Leonard, *The Puncher & Wattmann Anthology of Australian Poetry*, 2009\n",
    "\n",
    "John Kinsella, *The Penguin Anthology of Australian Poetry*, 2009\n",
    "\n",
    "Geoffrey Lehmann and Robert Gray, *Australian Poetry Since 1788*, 2011\"\n",
    "\n",
    "\n",
    "\n",
    "For more on the dataset, read [the description of the dataset](https://figshare.com/articles/dataset/Australian_National_Poetry_Anthologies_Poems_and_Poets/4479590)"
   ]
  },
  {
   "cell_type": "markdown",
   "metadata": {},
   "source": [
    "### What kind of questions can we ask with this dataset about the construction of Australian poetry?\n",
    "\n",
    "\n",
    "Let's read in this dataset:"
   ]
  },
  {
   "cell_type": "code",
   "execution_count": 104,
   "metadata": {},
   "outputs": [],
   "source": [
    "import pandas as pd\n",
    "\n",
    "australian_poetry_anthologies_df = pd.read_csv('../_datasets/Australian-National-Poetry-Anthologies-Dataset/australian-national-poetry-anthologies.csv', encoding='utf-8')"
   ]
  },
  {
   "cell_type": "code",
   "execution_count": 105,
   "metadata": {},
   "outputs": [
    {
     "data": {
      "text/html": [
       "<div>\n",
       "<style scoped>\n",
       "    .dataframe tbody tr th:only-of-type {\n",
       "        vertical-align: middle;\n",
       "    }\n",
       "\n",
       "    .dataframe tbody tr th {\n",
       "        vertical-align: top;\n",
       "    }\n",
       "\n",
       "    .dataframe thead th {\n",
       "        text-align: right;\n",
       "    }\n",
       "</style>\n",
       "<table border=\"1\" class=\"dataframe\">\n",
       "  <thead>\n",
       "    <tr style=\"text-align: right;\">\n",
       "      <th></th>\n",
       "      <th>Author</th>\n",
       "      <th>Poem</th>\n",
       "      <th>Anthology</th>\n",
       "      <th>Date</th>\n",
       "    </tr>\n",
       "  </thead>\n",
       "  <tbody>\n",
       "    <tr>\n",
       "      <th>0</th>\n",
       "      <td>Adams, Arthur Henry</td>\n",
       "      <td>The Australian</td>\n",
       "      <td>Mackaness 1946</td>\n",
       "      <td>1946.0</td>\n",
       "    </tr>\n",
       "    <tr>\n",
       "      <th>1</th>\n",
       "      <td>Adams, Arthur Henry</td>\n",
       "      <td>The Dwellings of Our Dead</td>\n",
       "      <td>Mackaness 1946</td>\n",
       "      <td>1946.0</td>\n",
       "    </tr>\n",
       "    <tr>\n",
       "      <th>2</th>\n",
       "      <td>Adamson, Bartlett</td>\n",
       "      <td>Wonder Everlasting</td>\n",
       "      <td>Mackaness 1946</td>\n",
       "      <td>1946.0</td>\n",
       "    </tr>\n",
       "    <tr>\n",
       "      <th>3</th>\n",
       "      <td>Allan, James Alexander</td>\n",
       "      <td>Breaking</td>\n",
       "      <td>Mackaness 1946</td>\n",
       "      <td>1946.0</td>\n",
       "    </tr>\n",
       "    <tr>\n",
       "      <th>4</th>\n",
       "      <td>Allan, James Alexander</td>\n",
       "      <td>Pavlova: A Dirge</td>\n",
       "      <td>Mackaness 1946</td>\n",
       "      <td>1946.0</td>\n",
       "    </tr>\n",
       "    <tr>\n",
       "      <th>...</th>\n",
       "      <td>...</td>\n",
       "      <td>...</td>\n",
       "      <td>...</td>\n",
       "      <td>...</td>\n",
       "    </tr>\n",
       "    <tr>\n",
       "      <th>5504</th>\n",
       "      <td>Wright, Judith</td>\n",
       "      <td>The Old Prison</td>\n",
       "      <td>Lehmann &amp; Gray 2011</td>\n",
       "      <td>2011.0</td>\n",
       "    </tr>\n",
       "    <tr>\n",
       "      <th>5505</th>\n",
       "      <td>Wright, Judith</td>\n",
       "      <td>The Unborn</td>\n",
       "      <td>Lehmann &amp; Gray 2011</td>\n",
       "      <td>2011.0</td>\n",
       "    </tr>\n",
       "    <tr>\n",
       "      <th>5506</th>\n",
       "      <td>Wright, Judith</td>\n",
       "      <td>Train Journey</td>\n",
       "      <td>Lehmann &amp; Gray 2011</td>\n",
       "      <td>2011.0</td>\n",
       "    </tr>\n",
       "    <tr>\n",
       "      <th>5507</th>\n",
       "      <td>Wright, Judith</td>\n",
       "      <td>Woman to Man</td>\n",
       "      <td>Lehmann &amp; Gray 2011</td>\n",
       "      <td>2011.0</td>\n",
       "    </tr>\n",
       "    <tr>\n",
       "      <th>5508</th>\n",
       "      <td>Yorke, Charlie 'Boywang' (?)</td>\n",
       "      <td>Bullocky Bill</td>\n",
       "      <td>Lehmann &amp; Gray 2011</td>\n",
       "      <td>2011.0</td>\n",
       "    </tr>\n",
       "  </tbody>\n",
       "</table>\n",
       "<p>5509 rows × 4 columns</p>\n",
       "</div>"
      ],
      "text/plain": [
       "                            Author                       Poem  \\\n",
       "0              Adams, Arthur Henry             The Australian   \n",
       "1              Adams, Arthur Henry  The Dwellings of Our Dead   \n",
       "2                Adamson, Bartlett         Wonder Everlasting   \n",
       "3           Allan, James Alexander                   Breaking   \n",
       "4           Allan, James Alexander           Pavlova: A Dirge   \n",
       "...                            ...                        ...   \n",
       "5504                Wright, Judith             The Old Prison   \n",
       "5505                Wright, Judith                 The Unborn   \n",
       "5506                Wright, Judith              Train Journey   \n",
       "5507                Wright, Judith               Woman to Man   \n",
       "5508  Yorke, Charlie 'Boywang' (?)              Bullocky Bill   \n",
       "\n",
       "                Anthology    Date  \n",
       "0          Mackaness 1946  1946.0  \n",
       "1          Mackaness 1946  1946.0  \n",
       "2          Mackaness 1946  1946.0  \n",
       "3          Mackaness 1946  1946.0  \n",
       "4          Mackaness 1946  1946.0  \n",
       "...                   ...     ...  \n",
       "5504  Lehmann & Gray 2011  2011.0  \n",
       "5505  Lehmann & Gray 2011  2011.0  \n",
       "5506  Lehmann & Gray 2011  2011.0  \n",
       "5507  Lehmann & Gray 2011  2011.0  \n",
       "5508  Lehmann & Gray 2011  2011.0  \n",
       "\n",
       "[5509 rows x 4 columns]"
      ]
     },
     "execution_count": 105,
     "metadata": {},
     "output_type": "execute_result"
    }
   ],
   "source": [
    "australian_poetry_anthologies_df"
   ]
  },
  {
   "cell_type": "markdown",
   "metadata": {},
   "source": [
    "### Question 2a.\n",
    "How many poems were published in each anthology? \n",
    "\n",
    "Write out the code you would need to count the number of poems published in each anthology (and, if you'd like, try to plot this as a bar graph)"
   ]
  },
  {
   "cell_type": "code",
   "execution_count": null,
   "metadata": {},
   "outputs": [],
   "source": [
    "## Your code here"
   ]
  },
  {
   "cell_type": "markdown",
   "metadata": {},
   "source": [
    "### Question 2b.\n",
    "How many different authors in the dataset as a whole?\n",
    "\n",
    "Write out the code you would need to output the number of unique author names in this dataset?"
   ]
  },
  {
   "cell_type": "code",
   "execution_count": null,
   "metadata": {},
   "outputs": [],
   "source": [
    "## Your code here"
   ]
  },
  {
   "cell_type": "markdown",
   "metadata": {},
   "source": [
    "### Question 2c.\n",
    "How many different authors appear in each anthology?\n",
    "\n",
    "Write out the code you would need to output the number of authors that appear in each anthology?"
   ]
  },
  {
   "cell_type": "code",
   "execution_count": null,
   "metadata": {},
   "outputs": [],
   "source": [
    "## Your code here"
   ]
  },
  {
   "cell_type": "markdown",
   "metadata": {},
   "source": [
    "### Question 2d.\n",
    "\n",
    "Who were the top 20 *most* anthologized poets? This might seem like an obvious question, but it actually depends on how we define \"most anthologized.\n",
    "\n",
    "Let's start by defining \"most anthologized\" as the sheer number of times an author appears in our dataset (ie, measuring with a work that has been anthologized in one of the  works has been anthologized).\n",
    "\n",
    "Type the code below to get top 20 \"most anthologized\" authors (and the number of times they appear in this dataset).\n",
    "\n",
    "> Hint: try  outputting value counts for each author name in our dataset in this dataset, looking just at the 'Author' column "
   ]
  },
  {
   "cell_type": "code",
   "execution_count": 1,
   "metadata": {},
   "outputs": [],
   "source": [
    "# your code here"
   ]
  },
  {
   "cell_type": "markdown",
   "metadata": {},
   "source": [
    "But what if we defined \"most anthologized\" as the number of *distinct anthologies* that a given author appears in? Do we think that would change our results? And how would we do that?\n",
    "\n",
    "We've already learned how to use the `.groupby()` function. One of the methods that we can use with `.groupby()` is `.nunique()`. This is method for counting the number of unique values in a GroupBy object-–you can read more about it in the [`groupby()` page in the pandas user guide](https://pandas.pydata.org/pandas-docs/stable/user_guide/groupby.html#aggregation).\n",
    "\n"
   ]
  },
  {
   "cell_type": "markdown",
   "metadata": {},
   "source": [
    "Before you run this code, explain, in plain english, what each part of the code below is doing:\n",
    "\n",
    "`australian_poetry_anthologies_df.groupby(['Author'])['Anthology'].nunique().sort_values(ascending=False).head(20)`"
   ]
  },
  {
   "cell_type": "markdown",
   "metadata": {},
   "source": [
    "### ~~**~~ Your explanation HERE ~**~~~"
   ]
  },
  {
   "cell_type": "markdown",
   "metadata": {},
   "source": [
    "Now, let's look at our results:"
   ]
  },
  {
   "cell_type": "code",
   "execution_count": 100,
   "metadata": {},
   "outputs": [
    {
     "name": "stdout",
     "output_type": "stream",
     "text": [
      "Author Name     Number of distinct anthologies this author's work appears in\n"
     ]
    },
    {
     "data": {
      "text/plain": [
       "Author\n",
       "Wright, Judith          15\n",
       "Slessor, Kenneth        15\n",
       "Hope, A.D.              14\n",
       "Dobson, Rosemary        14\n",
       "Blight, John            14\n",
       "Gilmore, Mary           14\n",
       "Lawson, Henry           14\n",
       "Stewart, Douglas        13\n",
       "Campbell, David         13\n",
       "Neilson, John Shaw      13\n",
       "Keesing, Nancy          12\n",
       "Kendall, Henry          12\n",
       "Webb, Francis           12\n",
       "Harpur, Charles         12\n",
       "Riddell, Elizabeth      12\n",
       "Dutton, Geoffrey        12\n",
       "Mudie, Ian              11\n",
       "Manifold, J.S.          11\n",
       "Brennan, Christopher    11\n",
       "Paterson, A.B.          10\n",
       "Name: Anthology, dtype: int64"
      ]
     },
     "execution_count": 100,
     "metadata": {},
     "output_type": "execute_result"
    }
   ],
   "source": [
    "print(\"Author Name:     Number of distinct anthologies this author's work appears in:\")\n",
    "australian_poetry_anthologies_df.groupby(['Author'])['Anthology'].nunique().sort_values(ascending=False).head(20)"
   ]
  },
  {
   "cell_type": "markdown",
   "metadata": {},
   "source": [
    "Compare this answer to the first way of measuring \"most anthologized\". What do you notice?"
   ]
  },
  {
   "cell_type": "markdown",
   "metadata": {},
   "source": [
    "## ~~**~~ Your REFLECTION HERE ~**~~~"
   ]
  },
  {
   "cell_type": "markdown",
   "metadata": {},
   "source": [
    "## Question 2e.\n",
    "What other questions might you want to ask about this dataset?"
   ]
  },
  {
   "cell_type": "markdown",
   "metadata": {},
   "source": [
    "## ~~**~~ Your REFLECTION HERE ~**~~~"
   ]
  },
  {
   "cell_type": "markdown",
   "metadata": {},
   "source": [
    "We'll continue this discussion in class!"
   ]
  }
 ],
 "metadata": {
  "kernelspec": {
   "display_name": "Python 3",
   "language": "python",
   "name": "python3"
  },
  "language_info": {
   "codemirror_mode": {
    "name": "ipython",
    "version": 3
   },
   "file_extension": ".py",
   "mimetype": "text/x-python",
   "name": "python",
   "nbconvert_exporter": "python",
   "pygments_lexer": "ipython3",
   "version": "3.8.3"
  }
 },
 "nbformat": 4,
 "nbformat_minor": 4
}
