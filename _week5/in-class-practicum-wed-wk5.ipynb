{
 "cells": [
  {
   "cell_type": "markdown",
   "metadata": {},
   "source": [
    "# Python review"
   ]
  },
  {
   "cell_type": "markdown",
   "metadata": {},
   "source": [
    "For today's practicum, we're going to review some of what we've learned to do so far using the `pandas` library and the Python commands we've learned thus far. \n",
    "\n",
    "Together with a partner, work through the exercises below. \n",
    "\n",
    "+ Remember to import any libraries or modules that you're working with\n",
    "+ Remember to define filepaths (we're working in the Binder cloud version for this exercise, so all of our datasets are in the '_datasets' directory."
   ]
  },
  {
   "cell_type": "markdown",
   "metadata": {},
   "source": [
    "## Exercise 1: Reading in Open Syllabus Project data\n",
    "Together with your partner, read in the small sample dataset on the texts most frequently assignd with *The Souls of Black Folk* from the Open Syllabus Project (located in a folder in our datasets) and create a horizontal bar graph showing the number of times each title is assigned.\n",
    "> Hint: Look at the Pandas docs for [`plot()`]https://pandas.pydata.org/pandas-docs/stable/reference/api/pandas.DataFrame.plot.html and [`plot.barh()`](https://pandas.pydata.org/pandas-docs/stable/reference/api/pandas.DataFrame.plot.barh.html)"
   ]
  },
  {
   "cell_type": "code",
   "execution_count": 48,
   "metadata": {},
   "outputs": [],
   "source": [
    "### Your code here \n",
    "### (Feel free to add additional cells)"
   ]
  },
  {
   "cell_type": "markdown",
   "metadata": {},
   "source": [
    "## Exercise 2: Parsing XML versions of *The Souls of Black Folk*\n",
    "\n",
    "Together with your partner, load in the XML file of Du Bois's *The Souls of Black Folk*. Extract just the text of all the epigraphs, then, put that into its own file. \n"
   ]
  },
  {
   "cell_type": "code",
   "execution_count": 49,
   "metadata": {},
   "outputs": [],
   "source": [
    "# Your code here"
   ]
  },
  {
   "cell_type": "markdown",
   "metadata": {},
   "source": [
    "## Exercise 3: Plotting the distribution of titles in Goodreads \"classics\" data\n",
    "\n",
    "Together with your partner, read in the CSV of Goodreads \"classics\" data. Then, plot th distribution of years in our dataset."
   ]
  },
  {
   "cell_type": "code",
   "execution_count": 50,
   "metadata": {},
   "outputs": [],
   "source": [
    "# Your code here"
   ]
  },
  {
   "cell_type": "markdown",
   "metadata": {},
   "source": [
    "## Exercise 4: Measuring the duration of titles on Literature Humanities syllabi\n",
    "\n",
    "Together with your partner, brainstorm: how would figure out what title has ben taught on the Literature Humanities dataset the longest?"
   ]
  },
  {
   "cell_type": "code",
   "execution_count": null,
   "metadata": {},
   "outputs": [],
   "source": [
    " # Your code (or reflection here "
   ]
  }
 ],
 "metadata": {
  "kernelspec": {
   "display_name": "Python 3",
   "language": "python",
   "name": "python3"
  },
  "language_info": {
   "codemirror_mode": {
    "name": "ipython",
    "version": 3
   },
   "file_extension": ".py",
   "mimetype": "text/x-python",
   "name": "python",
   "nbconvert_exporter": "python",
   "pygments_lexer": "ipython3",
   "version": "3.8.3"
  }
 },
 "nbformat": 4,
 "nbformat_minor": 4
}
