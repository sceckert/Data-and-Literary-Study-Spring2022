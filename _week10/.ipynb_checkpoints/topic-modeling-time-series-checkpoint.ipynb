{
 "cells": [
  {
   "cell_type": "markdown",
   "metadata": {},
   "source": [
    "# Topic Modeling: Creating Time Series Visualizations"
   ]
  },
  {
   "cell_type": "markdown",
   "metadata": {},
   "source": [
    "A lesson from [Melanie Walsh's *Introduction to Cultural Analytics*](https://github.com/melaniewalsh/Intro-Cultural-Analytics/blob/master/book/Text-Analysis/Topic-Modeling-Time-Series.ipynb)\n",
    "\n",
    "We've already learned about \"topic modeling\", using MALLET.\n",
    "\n",
    "In this particular lesson, we’re going to use Little MALLET Wrapper, a Python wrapper for MALLET, to topic model a CSV file of early British novel titles from 1660-1830 and plot the fluctuation of topics over time."
   ]
  },
  {
   "cell_type": "markdown",
   "metadata": {},
   "source": [
    "### Install Packages"
   ]
  },
  {
   "cell_type": "code",
   "execution_count": null,
   "metadata": {},
   "outputs": [],
   "source": [
    "!pip install little_mallet_wrapper\n",
    "#!pip install seaborn"
   ]
  },
  {
   "cell_type": "markdown",
   "metadata": {},
   "source": [
    "### Import Packages\n",
    "\n",
    "Now let’s import the little_mallet_wrapper and the data viz library seaborn."
   ]
  },
  {
   "cell_type": "code",
   "execution_count": 1,
   "metadata": {},
   "outputs": [],
   "source": [
    "import little_mallet_wrapper\n",
    "import seaborn\n",
    "import glob\n",
    "from pathlib import Path\n",
    "import pandas as pd\n",
    "import random\n",
    "pd.options.display.max_colwidth = 100"
   ]
  },
  {
   "cell_type": "markdown",
   "metadata": {},
   "source": [
    "### Set MALLET Path\n",
    "\n",
    "Since Little MALLET Wrapper is a Python package built around MALLET, we first need to tell it where the bigger, Java-based MALLET lives.\n",
    "\n",
    "We’re going to make a variable called path_to_mallet and assign it the file path of our MALLET program. We need to point it, specifically, to the “mallet” file inside the “bin” folder inside the “mallet-2.0.8” folder."
   ]
  },
  {
   "cell_type": "code",
   "execution_count": 2,
   "metadata": {},
   "outputs": [],
   "source": [
    "path_to_mallet = \"mallet-2.0.8/bin/mallet\""
   ]
  },
  {
   "cell_type": "markdown",
   "metadata": {},
   "source": [
    "### Get Training Data From CSV File\n",
    "\n",
    "Before we topic model the novel titles, we need to process the dataset of titles and prepare them for analysis. The steps below demonstrate how to process texts if they come from a CSV file.\n",
    "\n",
    "Note: We’re calling these text files our training data, because we’re training our topic model with these texts. The topic model will be learning and extracting topics based on these texts"
   ]
  },
  {
   "cell_type": "markdown",
   "metadata": {},
   "source": [
    "## Early Novel Titles\n",
    "\n",
    "This dataset of eighteenth-century novels is taken from the [Early Novels Database (END) Project](https://github.com/earlynovels/end-dataset)'s most recent [dataset](https://github.com/earlynovels/end-dataset). To read in the CSV file, we’re going to use Pandas."
   ]
  },
  {
   "cell_type": "code",
   "execution_count": 170,
   "metadata": {},
   "outputs": [],
   "source": [
    "end_df = pd.read_csv(\"../_datasets/texts/literature/Early-Novels-Database/END-Data-11282018-full.tsv\", delimiter='\\t')"
   ]
  },
  {
   "cell_type": "code",
   "execution_count": 171,
   "metadata": {},
   "outputs": [
    {
     "data": {
      "text/html": [
       "<div>\n",
       "<style scoped>\n",
       "    .dataframe tbody tr th:only-of-type {\n",
       "        vertical-align: middle;\n",
       "    }\n",
       "\n",
       "    .dataframe tbody tr th {\n",
       "        vertical-align: top;\n",
       "    }\n",
       "\n",
       "    .dataframe thead th {\n",
       "        text-align: right;\n",
       "    }\n",
       "</style>\n",
       "<table border=\"1\" class=\"dataframe\">\n",
       "  <thead>\n",
       "    <tr style=\"text-align: right;\">\n",
       "      <th></th>\n",
       "      <th>id</th>\n",
       "      <th>leader</th>\n",
       "      <th>author name</th>\n",
       "      <th>author dates</th>\n",
       "      <th>author transcribed</th>\n",
       "      <th>title catalog</th>\n",
       "      <th>title full</th>\n",
       "      <th>title half</th>\n",
       "      <th>title series</th>\n",
       "      <th>vols</th>\n",
       "      <th>...</th>\n",
       "      <th>author claim type</th>\n",
       "      <th>author gender claim</th>\n",
       "      <th>author gender</th>\n",
       "      <th>advertisement genres</th>\n",
       "      <th>title words:other works</th>\n",
       "      <th>title words:singular nouns</th>\n",
       "      <th>title words:place names</th>\n",
       "      <th>holding institution</th>\n",
       "      <th>cataloger initials</th>\n",
       "      <th>cataloger institution</th>\n",
       "    </tr>\n",
       "  </thead>\n",
       "  <tbody>\n",
       "    <tr>\n",
       "      <th>1997</th>\n",
       "      <td>99745313503681</td>\n",
       "      <td>01316cam a2200349 a 4500</td>\n",
       "      <td>Martin,</td>\n",
       "      <td>NaN</td>\n",
       "      <td>by the author of Deloraine.</td>\n",
       "      <td>Melbourne : a novel, in three volumes / by the author of Deloraine.</td>\n",
       "      <td>Melbourne. A novel. in three volumes. By the author of Deloraine. Vol. I.</td>\n",
       "      <td>Melbourne. A novel.</td>\n",
       "      <td>NaN</td>\n",
       "      <td>NaN</td>\n",
       "      <td>...</td>\n",
       "      <td>Reference to other works</td>\n",
       "      <td>Indeterminate</td>\n",
       "      <td>Indeterminate</td>\n",
       "      <td>NaN</td>\n",
       "      <td>['Deloraine']</td>\n",
       "      <td>['Novel', 'Volume', 'Author']</td>\n",
       "      <td>NaN</td>\n",
       "      <td>PU</td>\n",
       "      <td>SH</td>\n",
       "      <td>Swarthmore College</td>\n",
       "    </tr>\n",
       "    <tr>\n",
       "      <th>1998</th>\n",
       "      <td>99746073503681</td>\n",
       "      <td>01120cam a2200313 a 4500</td>\n",
       "      <td>NaN</td>\n",
       "      <td>NaN</td>\n",
       "      <td>NaN</td>\n",
       "      <td>Geraldina : a novel founded on a recent event : in two volumes.</td>\n",
       "      <td>Geraldina. A Novel, Founded on A Recent Event. In Two Volumes. Vol. I.</td>\n",
       "      <td>Geraldina.</td>\n",
       "      <td>NaN</td>\n",
       "      <td>NaN</td>\n",
       "      <td>...</td>\n",
       "      <td>NaN</td>\n",
       "      <td>NaN</td>\n",
       "      <td>NaN</td>\n",
       "      <td>NaN</td>\n",
       "      <td>NaN</td>\n",
       "      <td>['Novel', 'Event']</td>\n",
       "      <td>NaN</td>\n",
       "      <td>University of Pennsylvania</td>\n",
       "      <td>IC</td>\n",
       "      <td>University of Pennsylvania</td>\n",
       "    </tr>\n",
       "    <tr>\n",
       "      <th>1999</th>\n",
       "      <td>99865533503681</td>\n",
       "      <td>01355cam a2200373   4500</td>\n",
       "      <td>Diderot, Denis,</td>\n",
       "      <td>1713-1784.</td>\n",
       "      <td>Translated from the French of Diderot ...</td>\n",
       "      <td>James the fatalist and his master. Translated from the French of Diderot ...</td>\n",
       "      <td>James the fatalist and his master. Translated from the French of Diderot. In three volumes. Vol. I.</td>\n",
       "      <td>James the fatalist and his master. Vol. I.</td>\n",
       "      <td>NaN</td>\n",
       "      <td>NaN</td>\n",
       "      <td>...</td>\n",
       "      <td>NaN</td>\n",
       "      <td>NaN</td>\n",
       "      <td>NaN</td>\n",
       "      <td>NaN</td>\n",
       "      <td>NaN</td>\n",
       "      <td>['Fatalist', 'Master', 'French', 'Volume']</td>\n",
       "      <td>NaN</td>\n",
       "      <td>PU</td>\n",
       "      <td>AS</td>\n",
       "      <td>University of Pennsylvania</td>\n",
       "    </tr>\n",
       "    <tr>\n",
       "      <th>2000</th>\n",
       "      <td>99869113503681</td>\n",
       "      <td>01372cam a2200337 i 4500</td>\n",
       "      <td>Radcliffe, Ann Ward,</td>\n",
       "      <td>1764-1823.</td>\n",
       "      <td>by Ann Radcliffe ...</td>\n",
       "      <td>The Italian, or, The confessional of the black penitents : a romance / by Ann Radcliffe ...</td>\n",
       "      <td>The Italian, or The confessional of the Black Penitents. A romance. By Ann Radcliffe, author of ...</td>\n",
       "      <td>NaN</td>\n",
       "      <td>NaN</td>\n",
       "      <td>NaN</td>\n",
       "      <td>...</td>\n",
       "      <td>Proper name</td>\n",
       "      <td>Female</td>\n",
       "      <td>Female</td>\n",
       "      <td>NaN</td>\n",
       "      <td>['The mysteries of Udolpho']</td>\n",
       "      <td>['Italian', 'Confessional', 'Penitent', 'Romance', 'Author', 'Volume']</td>\n",
       "      <td>NaN</td>\n",
       "      <td>PU</td>\n",
       "      <td>SH</td>\n",
       "      <td>Swarthmore College</td>\n",
       "    </tr>\n",
       "    <tr>\n",
       "      <th>2001</th>\n",
       "      <td>999924323503681</td>\n",
       "      <td>01992cam a2200409 a 4500</td>\n",
       "      <td>Burney, Fanny,</td>\n",
       "      <td>1752-1840.</td>\n",
       "      <td>By the authoress of Evelina and Cecilia. ; Five volumes in three. ; [Vol. I[-III].</td>\n",
       "      <td>Camilla: or, A picture of youth. / By the authoress of Evelina and Cecilia. ; Five volumes in th...</td>\n",
       "      <td>Camilla: Or, A Picture of Youth. By the Authoress of Evelina and Cecilia. Five Volumes in Three....</td>\n",
       "      <td>NaN</td>\n",
       "      <td>NaN</td>\n",
       "      <td>NaN</td>\n",
       "      <td>...</td>\n",
       "      <td>Generic/Descriptive</td>\n",
       "      <td>Female</td>\n",
       "      <td>Female</td>\n",
       "      <td>NaN</td>\n",
       "      <td>['Evelina', 'Cecilia']</td>\n",
       "      <td>['Picture', 'Youth', 'Authoress']</td>\n",
       "      <td>NaN</td>\n",
       "      <td>University of Pennsylvania</td>\n",
       "      <td>IC</td>\n",
       "      <td>University of Pennsylvania</td>\n",
       "    </tr>\n",
       "  </tbody>\n",
       "</table>\n",
       "<p>5 rows × 48 columns</p>\n",
       "</div>"
      ],
      "text/plain": [
       "                   id                    leader           author name  \\\n",
       "1997   99745313503681  01316cam a2200349 a 4500               Martin,   \n",
       "1998   99746073503681  01120cam a2200313 a 4500                   NaN   \n",
       "1999   99865533503681  01355cam a2200373   4500       Diderot, Denis,   \n",
       "2000   99869113503681  01372cam a2200337 i 4500  Radcliffe, Ann Ward,   \n",
       "2001  999924323503681  01992cam a2200409 a 4500        Burney, Fanny,   \n",
       "\n",
       "     author dates  \\\n",
       "1997          NaN   \n",
       "1998          NaN   \n",
       "1999   1713-1784.   \n",
       "2000   1764-1823.   \n",
       "2001   1752-1840.   \n",
       "\n",
       "                                                                      author transcribed  \\\n",
       "1997                                                         by the author of Deloraine.   \n",
       "1998                                                                                 NaN   \n",
       "1999                                           Translated from the French of Diderot ...   \n",
       "2000                                                                by Ann Radcliffe ...   \n",
       "2001  By the authoress of Evelina and Cecilia. ; Five volumes in three. ; [Vol. I[-III].   \n",
       "\n",
       "                                                                                            title catalog  \\\n",
       "1997                                  Melbourne : a novel, in three volumes / by the author of Deloraine.   \n",
       "1998                                      Geraldina : a novel founded on a recent event : in two volumes.   \n",
       "1999                         James the fatalist and his master. Translated from the French of Diderot ...   \n",
       "2000          The Italian, or, The confessional of the black penitents : a romance / by Ann Radcliffe ...   \n",
       "2001  Camilla: or, A picture of youth. / By the authoress of Evelina and Cecilia. ; Five volumes in th...   \n",
       "\n",
       "                                                                                               title full  \\\n",
       "1997                            Melbourne. A novel. in three volumes. By the author of Deloraine. Vol. I.   \n",
       "1998                               Geraldina. A Novel, Founded on A Recent Event. In Two Volumes. Vol. I.   \n",
       "1999  James the fatalist and his master. Translated from the French of Diderot. In three volumes. Vol. I.   \n",
       "2000  The Italian, or The confessional of the Black Penitents. A romance. By Ann Radcliffe, author of ...   \n",
       "2001  Camilla: Or, A Picture of Youth. By the Authoress of Evelina and Cecilia. Five Volumes in Three....   \n",
       "\n",
       "                                      title half title series  vols  ...  \\\n",
       "1997                         Melbourne. A novel.          NaN   NaN  ...   \n",
       "1998                                  Geraldina.          NaN   NaN  ...   \n",
       "1999  James the fatalist and his master. Vol. I.          NaN   NaN  ...   \n",
       "2000                                         NaN          NaN   NaN  ...   \n",
       "2001                                         NaN          NaN   NaN  ...   \n",
       "\n",
       "             author claim type author gender claim  author gender  \\\n",
       "1997  Reference to other works       Indeterminate  Indeterminate   \n",
       "1998                       NaN                 NaN            NaN   \n",
       "1999                       NaN                 NaN            NaN   \n",
       "2000               Proper name              Female         Female   \n",
       "2001       Generic/Descriptive              Female         Female   \n",
       "\n",
       "     advertisement genres       title words:other works  \\\n",
       "1997                  NaN                 ['Deloraine']   \n",
       "1998                  NaN                           NaN   \n",
       "1999                  NaN                           NaN   \n",
       "2000                  NaN  ['The mysteries of Udolpho']   \n",
       "2001                  NaN        ['Evelina', 'Cecilia']   \n",
       "\n",
       "                                                  title words:singular nouns  \\\n",
       "1997                                           ['Novel', 'Volume', 'Author']   \n",
       "1998                                                      ['Novel', 'Event']   \n",
       "1999                              ['Fatalist', 'Master', 'French', 'Volume']   \n",
       "2000  ['Italian', 'Confessional', 'Penitent', 'Romance', 'Author', 'Volume']   \n",
       "2001                                       ['Picture', 'Youth', 'Authoress']   \n",
       "\n",
       "     title words:place names         holding institution cataloger initials  \\\n",
       "1997                     NaN                          PU                 SH   \n",
       "1998                     NaN  University of Pennsylvania                 IC   \n",
       "1999                     NaN                          PU                 AS   \n",
       "2000                     NaN                          PU                 SH   \n",
       "2001                     NaN  University of Pennsylvania                 IC   \n",
       "\n",
       "           cataloger institution  \n",
       "1997          Swarthmore College  \n",
       "1998  University of Pennsylvania  \n",
       "1999  University of Pennsylvania  \n",
       "2000          Swarthmore College  \n",
       "2001  University of Pennsylvania  \n",
       "\n",
       "[5 rows x 48 columns]"
      ]
     },
     "execution_count": 171,
     "metadata": {},
     "output_type": "execute_result"
    }
   ],
   "source": [
    "end_df.tail()"
   ]
  },
  {
   "cell_type": "code",
   "execution_count": 172,
   "metadata": {},
   "outputs": [],
   "source": [
    "end_df['title full'] = end_df['title full'].astype(str)"
   ]
  },
  {
   "cell_type": "markdown",
   "metadata": {},
   "source": [
    "## Process Early Novels title data"
   ]
  },
  {
   "cell_type": "code",
   "execution_count": 173,
   "metadata": {},
   "outputs": [],
   "source": [
    "training_data = [little_mallet_wrapper.process_string(text, numbers='remove') for text in end_df['title full']]"
   ]
  },
  {
   "cell_type": "markdown",
   "metadata": {},
   "source": [
    "### Get Original titles"
   ]
  },
  {
   "cell_type": "code",
   "execution_count": 174,
   "metadata": {},
   "outputs": [],
   "source": [
    "original_end_titles = [title for title in end_df['title full']]"
   ]
  },
  {
   "cell_type": "code",
   "execution_count": 175,
   "metadata": {},
   "outputs": [],
   "source": [
    "## Get Dataset Statistics"
   ]
  },
  {
   "cell_type": "code",
   "execution_count": 33,
   "metadata": {},
   "outputs": [
    {
     "name": "stdout",
     "output_type": "stream",
     "text": [
      "Number of Documents: 2002\n",
      "Mean Number of Words per Document: 13.6\n",
      "Vocabulary Size: 5306\n"
     ]
    }
   ],
   "source": [
    "little_mallet_wrapper.print_dataset_stats(training_data)"
   ]
  },
  {
   "cell_type": "markdown",
   "metadata": {},
   "source": [
    "## Training the Topic Model\n",
    "\n",
    "We’re going to train our topic model with the little_mallet_wrapper.train_topic_model() function.\n",
    "\n",
    "So we have to set a few things up first."
   ]
  },
  {
   "cell_type": "markdown",
   "metadata": {},
   "source": [
    "## Set Number of Topics"
   ]
  },
  {
   "cell_type": "code",
   "execution_count": 40,
   "metadata": {},
   "outputs": [],
   "source": [
    "num_topics = 15"
   ]
  },
  {
   "cell_type": "markdown",
   "metadata": {},
   "source": [
    "## Set Training Data"
   ]
  },
  {
   "cell_type": "code",
   "execution_count": 41,
   "metadata": {},
   "outputs": [],
   "source": [
    "training_data = training_data"
   ]
  },
  {
   "cell_type": "markdown",
   "metadata": {},
   "source": [
    "## Set Other MALLET File Paths"
   ]
  },
  {
   "cell_type": "code",
   "execution_count": 42,
   "metadata": {},
   "outputs": [],
   "source": [
    "#Change to your desired output directory\n",
    "output_directory_path = 'topic-model-output/Early-Novels'\n",
    "\n",
    "#No need to change anything below here\n",
    "Path(f\"{output_directory_path}\").mkdir(parents=True, exist_ok=True)\n",
    "\n",
    "path_to_training_data           = output_directory_path + '/training.txt'\n",
    "path_to_formatted_training_data = output_directory_path + '/mallet.training'\n",
    "path_to_model                   = output_directory_path + '/mallet.model.' + str(num_topics)\n",
    "path_to_topic_keys              = output_directory_path + '/mallet.topic_keys.' + str(num_topics)\n",
    "path_to_topic_distributions     = output_directory_path + '/mallet.topic_distributions.' + str(num_topics)\n",
    "path_to_word_weights            = output_directory_path + '/mallet.word_weights.' + str(num_topics)\n",
    "path_to_diagnostics             = output_directory_path + '/mallet.diagnostics.' + str(num_topics) + '.xml'\n",
    "\n"
   ]
  },
  {
   "cell_type": "markdown",
   "metadata": {},
   "source": [
    "## Import Data\n",
    "\n",
    "We’re going to import the data with little_mallet_wrapper.import_data()."
   ]
  },
  {
   "cell_type": "code",
   "execution_count": 43,
   "metadata": {},
   "outputs": [
    {
     "name": "stdout",
     "output_type": "stream",
     "text": [
      "Importing data...\n",
      "Complete\n"
     ]
    }
   ],
   "source": [
    "little_mallet_wrapper.import_data(path_to_mallet,\n",
    "                path_to_training_data,\n",
    "                path_to_formatted_training_data,\n",
    "                training_data)"
   ]
  },
  {
   "cell_type": "markdown",
   "metadata": {},
   "source": [
    "## Train Topic Model\n",
    "The topic model should take 1-2 minutes to complete"
   ]
  },
  {
   "cell_type": "code",
   "execution_count": 44,
   "metadata": {},
   "outputs": [
    {
     "name": "stdout",
     "output_type": "stream",
     "text": [
      "Training topic model...\n",
      "Complete\n"
     ]
    }
   ],
   "source": [
    "little_mallet_wrapper.train_topic_model(path_to_mallet,\n",
    "                      path_to_formatted_training_data,\n",
    "                      path_to_model,\n",
    "                      path_to_topic_keys,\n",
    "                      path_to_topic_distributions,\n",
    "                      path_to_word_weights,\n",
    "                      path_to_diagnostics,\n",
    "                      num_topics)"
   ]
  },
  {
   "cell_type": "markdown",
   "metadata": {},
   "source": [
    "## Display Topics and Top Words"
   ]
  },
  {
   "cell_type": "code",
   "execution_count": 45,
   "metadata": {},
   "outputs": [
    {
     "name": "stdout",
     "output_type": "stream",
     "text": [
      "✨Topic 0✨\n",
      "\n",
      "['volumes', 'vol', 'author', 'two', 'three', 'romance', 'tale', 'novel', 'maria', 'four', 'anna', 'abbey', 'miss', 'story', 'porter', 'old', 'english', 'historical', 'family', 'baron']\n",
      "\n",
      "✨Topic 1✨\n",
      "\n",
      "['edition', 'author', 'quixote', 'copper', 'plates', 'cuts', 'esq', 'manner', 'written', 'new', 'telemachus', 'book', 'mary', 'romance', 'cervantes', 'editions', 'adorned', 'carefully', 'curious', 'explanatory']\n",
      "\n",
      "✨Topic 2✨\n",
      "\n",
      "['several', 'edition', 'part', 'parts', 'first', 'travels', 'captain', 'gulliver', 'nations', 'lemuel', 'world', 'four', 'surgeon', 'remote', 'ships', 'corrected', 'voyage', 'sir', 'adventures', 'john']\n",
      "\n",
      "✨Topic 3✨\n",
      "\n",
      "['life', 'esq', 'lady', 'called', 'bates', 'mad', 'loss', 'commonly', 'many', 'memoirs', 'sea', 'less', 'lived', 'mentioned', 'serjeant', 'soldier', 'master', 'married', 'left', 'case']\n",
      "\n",
      "✨Topic 4✨\n",
      "\n",
      "['esq', 'works', 'edition', 'life', 'letters', 'prose', 'volume', 'henry', 'volumes', 'verse', 'new', 'fielding', 'swift', 'vol', 'iii', 'first', 'containing', 'added', 'author', 'others']\n",
      "\n",
      "✨Topic 5✨\n",
      "\n",
      "['vol', 'two', 'author', 'random', 'adventures', 'roderick', 'upon', 'edition', 'devil', 'new', 'containing', 'blas', 'sticks', 'gil', 'magazine', 'novelist', 'vicar', 'life', 'volumes', 'wakefield']\n",
      "\n",
      "✨Topic 6✨\n",
      "\n",
      "['tale', 'author', 'etc', 'german', 'lieutenant', 'books', 'murray', 'campbell', 'fanny', 'spanish', 'pirate', 'female', 'captain', 'notes', 'explanatory', 'officer', 'manuscript', 'secret', 'arthur', 'musketeer']\n",
      "\n",
      "✨Topic 7✨\n",
      "\n",
      "['translated', 'french', 'english', 'written', 'tales', 'original', 'letters', 'done', 'son', 'manuscript', 'author', 'memoirs', 'story', 'paris', 'new', 'vol', 'originally', 'five', 'two', 'romance']\n",
      "\n",
      "✨Topic 8✨\n",
      "\n",
      "['virtue', 'memoirs', 'travels', 'mind', 'reflections', 'original', 'wieland', 'arthur', 'edition', 'hall', 'year', 'description', 'author', 'ormond', 'mervyn', 'real', 'account', 'otranto', 'love', 'american']\n",
      "\n",
      "✨Topic 9✨\n",
      "\n",
      "['volumes', 'vol', 'two', 'novel', 'history', 'edition', 'author', 'lady', 'nan', 'three', 'letters', 'series', 'four', 'adventures', 'second', 'mrs', 'volume', 'miss', 'memoirs', 'charlotte']\n",
      "\n",
      "✨Topic 10✨\n",
      "\n",
      "['history', 'love', 'original', 'containing', 'adventures', 'written', 'memoirs', 'letters', 'secret', 'late', 'court', 'translated', 'celebrated', 'first', 'lady', 'second', 'several', 'quality', 'king', 'one']\n",
      "\n",
      "✨Topic 11✨\n",
      "\n",
      "['life', 'adventures', 'containing', 'several', 'history', 'interspersed', 'variety', 'entertaining', 'great', 'various', 'many', 'anecdotes', 'fortune', 'characters', 'manners', 'account', 'remarkable', 'whole', 'world', 'years']\n",
      "\n",
      "✨Topic 12✨\n",
      "\n",
      "['life', 'facts', 'founded', 'historical', 'shewing', 'upon', 'miseries', 'gulls', 'great', 'age', 'human', 'romance', 'king', 'language', 'true', 'war', 'chap', 'dictionary', 'death', 'american']\n",
      "\n",
      "✨Topic 13✨\n",
      "\n",
      "['letters', 'series', 'friend', 'journey', 'john', 'england', 'edition', 'tale', 'france', 'sentimental', 'two', 'published', 'world', 'italy', 'paris', 'enlarged', 'friends', 'london', 'pilgrim', 'bull']\n",
      "\n",
      "✨Topic 14✨\n",
      "\n",
      "['mrs', 'vol', 'young', 'critical', 'british', 'essay', 'barbauld', 'biographical', 'prefaces', 'novelists', 'virtue', 'story', 'fair', 'instruction', 'lady', 'behn', 'history', 'unfortunate', 'clarissa', 'author']\n",
      "\n"
     ]
    }
   ],
   "source": [
    "topics = little_mallet_wrapper.load_topic_keys(path_to_topic_keys)\n",
    "\n",
    "for topic_number, topic in enumerate(topics):\n",
    "    print(f\"✨Topic {topic_number}✨\\n\\n{topic}\\n\")"
   ]
  },
  {
   "cell_type": "markdown",
   "metadata": {},
   "source": [
    "## Display Top Titles Per Topic\n",
    "### Load Topic Distributions\n",
    "To load topic distributions, run the following four cells"
   ]
  },
  {
   "cell_type": "code",
   "execution_count": 96,
   "metadata": {},
   "outputs": [],
   "source": [
    "topic_distributions = little_mallet_wrapper.load_topic_distributions(path_to_topic_distributions)"
   ]
  },
  {
   "cell_type": "code",
   "execution_count": 97,
   "metadata": {},
   "outputs": [],
   "source": [
    "titles_dict = dict(zip(training_data, original_end_titles))"
   ]
  },
  {
   "cell_type": "code",
   "execution_count": 98,
   "metadata": {},
   "outputs": [],
   "source": [
    "def display_top_titles_per_topic(topic_number=0, number_of_documents=5):\n",
    "    \n",
    "    print(f\"✨Topic {topic_number}✨\\n\\n{topics[topic_number]}\\n\")\n",
    "\n",
    "    for probability, document in little_mallet_wrapper.get_top_docs(training_data, topic_distributions, topic_number, n=number_of_documents):\n",
    "        print(round(probability, 4), titles_dict[document] + \"\\n\")\n",
    "    return"
   ]
  },
  {
   "cell_type": "markdown",
   "metadata": {},
   "source": [
    "#### Display top titles in Topic 0"
   ]
  },
  {
   "cell_type": "code",
   "execution_count": 55,
   "metadata": {},
   "outputs": [
    {
     "name": "stdout",
     "output_type": "stream",
     "text": [
      "✨Topic 3✨\n",
      "\n",
      "['life', 'esq', 'lady', 'called', 'bates', 'mad', 'loss', 'commonly', 'many', 'memoirs', 'sea', 'less', 'lived', 'mentioned', 'serjeant', 'soldier', 'master', 'married', 'left', 'case']\n",
      "\n",
      "0.9933 The life and memoirs of Mr. Ephraim Tristram Bates, commonly called Corporal Bates, a broken hearted soldier: who, from a private centinel in the guards, was, from his merits, advanced, regularly, to be corporal, serjeant, and pay-master serjeant; and had he lived a few days longer, might have died a commission-officer, to the great loss of his lamentable lady, whose marriage he had intended to declare as soon as his commission was signed; and who, to make up for the loss of so dear an husband, and her pension, which then no Duke on earth could have hindered, in order to put bread in the mouths of seven small children, the youngest now at her breast, the sweet creatures being two twins, publishes these memoirs from the original papers, sealed up with the seal of dear Mr. Bates, and found, exactly as he mentioned in his last will and testament, in an  oven, never used, where, in his life time, he secreted many state papers, &c. &c. &c.\n",
      "\n",
      "0.9933 The life and memoirs of Mr. Ephraim Tristram Bates, commonly called Corporal Bates, a broken hearted soldier: who, from a private centinel in the guards, was, from his merits, advanced, regularly, to be corporal, serjeant, and pay-master serjeant; and had he lived a few days longer, might have died a commission-officer, to the great loss of his lamentable lady, whose marriage he had intended to declare as soon as his commission was signed; and who, to make up for the loss of so dear an husband, and her pension, which then no Duke on earth could have hindered, in order to put bread in the mouths of seven small children, the youngest now at her breast, the sweet creatures being two twins, publishes these memoirs from the original papers, sealed up with the seal of dear Mr. Bates, and found, exactly as he mentioned in his last will and testament, in an  oven, never used, where, in his life time, he secreted many state papers, &c. &c. &c.\n",
      "\n",
      "0.9816 The life and memoirs of Mr. Ephraim Tristram Bates, commonly called Corporal Bates, a broken hearted soldier: who, from a private centinel in the guards, was, from his merits, advanced, regularly, to be corporal, serjeant, and pay-master serjeant; and had he lived a few days longer, might have died a commission-officer, to the great loss of his lamentable lady, whose marriage he had intended to declare as soon as his commission was signed; and who, to make up for the loss of so dear an husband, and her pension, which then no Duke on earth could have hindered, in order to put bread in the mouths of seven small children, the youngest now at her breast, the sweet creatures being two twins, publishes these memoirs from the original papers, sealed up with the seal of dear Mr. Bates, and found, exactly as he mentioned in his last will and testament, in an  oven, never used, where, in his life time, he secreted many state papers, &c. &c. &c.\n",
      "\n",
      "0.9802 The hermit: Or, the unparalleled sufferings and surprizing adventures, of Philip Quarll, an Englishman: Who was discovered by Mr. Dorrington, a Bristol merchant, upon an uninhabited island, in the South-sea; where he lived above fifty years, without any human assistance. Containing I. His Conference with those who found him out; to whom he recites the most material circumstances of his life; as, that he was born in the parish of St. Giles, educated by the charitable contribution of a lady, and put 'prentice to a locksmith. II. How he left his master, and took up with a notorious house-breaker, who was hanged; how, after his escape, he went to sea a cabin-boy, married a famous whore, listed himself a common soldier, turned a singing-master, and married three wives, for which he was tried and condemned, at the Baily. III. How he was pardoned by K. Charles II. turned merchant, and was shipwrecked on a desolate island on the coast of Mexico. With a curious frontispiece.\n",
      "\n",
      "0.9543 The history of the proceedings in the case of Margaret, commonly called Peg, only lawful sister to John Bull, esq.\n",
      "\n"
     ]
    }
   ],
   "source": [
    "display_top_titles_per_topic(topic_number=3, number_of_documents=5)"
   ]
  },
  {
   "cell_type": "markdown",
   "metadata": {},
   "source": [
    "## Plot Topics Over Time\n"
   ]
  },
  {
   "cell_type": "markdown",
   "metadata": {},
   "source": [
    "### Load Topic Distributions"
   ]
  },
  {
   "cell_type": "code",
   "execution_count": 99,
   "metadata": {},
   "outputs": [],
   "source": [
    "topic_distributions = little_mallet_wrapper.load_topic_distributions(path_to_topic_distributions)"
   ]
  },
  {
   "cell_type": "markdown",
   "metadata": {},
   "source": [
    "### Add Topic Distribution Columns\n",
    "\n",
    "Add column with all topic distributions for every title"
   ]
  },
  {
   "cell_type": "code",
   "execution_count": 176,
   "metadata": {},
   "outputs": [],
   "source": [
    "end_df['topic_distributions'] = pd.Series(topic_distributions)"
   ]
  },
  {
   "cell_type": "markdown",
   "metadata": {},
   "source": [
    "Make a separate dataframe with each topic distribution as a separate column"
   ]
  },
  {
   "cell_type": "code",
   "execution_count": 177,
   "metadata": {},
   "outputs": [],
   "source": [
    "topic_distributions_df = end_df['topic_distributions'].apply(pd.Series)"
   ]
  },
  {
   "cell_type": "markdown",
   "metadata": {},
   "source": [
    "Rename each of those columns with the first four words from the topic"
   ]
  },
  {
   "cell_type": "code",
   "execution_count": 178,
   "metadata": {},
   "outputs": [],
   "source": [
    "topic_distributions_df.columns = [\" \".join(topic[:4]) for topic in topics]"
   ]
  },
  {
   "cell_type": "markdown",
   "metadata": {},
   "source": [
    "Merge that column into the dataframe"
   ]
  },
  {
   "cell_type": "code",
   "execution_count": 179,
   "metadata": {},
   "outputs": [],
   "source": [
    "end_df = pd.concat([end_df, topic_distributions_df], axis=1)"
   ]
  },
  {
   "cell_type": "code",
   "execution_count": null,
   "metadata": {},
   "outputs": [],
   "source": []
  },
  {
   "cell_type": "code",
   "execution_count": 180,
   "metadata": {},
   "outputs": [
    {
     "data": {
      "text/plain": [
       "0       1814\n",
       "1       1814\n",
       "2       1750\n",
       "3       1720\n",
       "4       1816\n",
       "        ... \n",
       "1997    1798\n",
       "1998    1798\n",
       "1999    1797\n",
       "2000    1797\n",
       "2001    1797\n",
       "Name: pub date, Length: 2002, dtype: object"
      ]
     },
     "execution_count": 180,
     "metadata": {},
     "output_type": "execute_result"
    }
   ],
   "source": [
    "end_df['pub date']"
   ]
  },
  {
   "cell_type": "code",
   "execution_count": null,
   "metadata": {},
   "outputs": [],
   "source": [
    "end_df = end_df.sort_values(by='pub date')\n",
    "end_df.dropna(subset=['pub date'], inplace=True)\n",
    "end_df.drop([731],0, inplace=True)"
   ]
  },
  {
   "cell_type": "code",
   "execution_count": 199,
   "metadata": {},
   "outputs": [
    {
     "data": {
      "text/plain": [
       "296     1660\n",
       "1082    1675\n",
       "272     1676\n",
       "295     1676\n",
       "266     1677\n",
       "        ... \n",
       "712     1850\n",
       "711     1850\n",
       "707     1851\n",
       "611     1852\n",
       "709     1853\n",
       "Name: pub date, Length: 1995, dtype: object"
      ]
     },
     "execution_count": 199,
     "metadata": {},
     "output_type": "execute_result"
    }
   ],
   "source": [
    "end_df['pub date']"
   ]
  },
  {
   "cell_type": "markdown",
   "metadata": {},
   "source": [
    "### Date Formatting For Time Series Plot"
   ]
  },
  {
   "cell_type": "markdown",
   "metadata": {},
   "source": [
    "#### Extract year"
   ]
  },
  {
   "cell_type": "markdown",
   "metadata": {},
   "source": [
    "#### Set year as Pandas Index"
   ]
  },
  {
   "cell_type": "code",
   "execution_count": 200,
   "metadata": {},
   "outputs": [],
   "source": [
    "end_resorted_df = end_df.set_index('pub date')"
   ]
  },
  {
   "cell_type": "markdown",
   "metadata": {},
   "source": [
    "### Plot Individual Topics as Time Series"
   ]
  },
  {
   "cell_type": "markdown",
   "metadata": {},
   "source": [
    "**Topic 10 Label**:\n",
    "\n",
    "(Double-click this cell to enter your own label)"
   ]
  },
  {
   "cell_type": "markdown",
   "metadata": {},
   "source": [
    "### For every title, plot the probability of Topic 10:"
   ]
  },
  {
   "cell_type": "code",
   "execution_count": 242,
   "metadata": {},
   "outputs": [
    {
     "data": {
      "text/plain": [
       "<matplotlib.axes._subplots.AxesSubplot at 0x7fa8e88e90d0>"
      ]
     },
     "execution_count": 242,
     "metadata": {},
     "output_type": "execute_result"
    },
    {
     "data": {
      "image/png": "[encoded data removed]",
      "text/plain": [
       "<Figure size 432x288 with 1 Axes>"
      ]
     },
     "metadata": {},
     "output_type": "display_data"
    }
   ],
   "source": [
    "topic_number = 0\n",
    "\n",
    "topic_label = \" \".join(topics[topic_number][:4])\n",
    "\n",
    "end_resorted_df[[topic_label]].plot(style='.', title=f'Percentage of Early Novel Titles Containing Topic {topic_number}')"
   ]
  },
  {
   "cell_type": "markdown",
   "metadata": {},
   "source": [
    "### Compare to the total number of novels per month in our set"
   ]
  },
  {
   "cell_type": "code",
   "execution_count": 216,
   "metadata": {},
   "outputs": [
    {
     "data": {
      "text/plain": [
       "Text(0.5, 0, 'Publication Date')"
      ]
     },
     "execution_count": 216,
     "metadata": {},
     "output_type": "execute_result"
    },
    {
     "data": {
      "image/png": "[encoded data removed]",
      "text/plain": [
       "<Figure size 432x288 with 1 Axes>"
      ]
     },
     "metadata": {},
     "output_type": "display_data"
    }
   ],
   "source": [
    "ax= end_df.sort_values(by='pub date', ascending=True)['pub date'].value_counts(sort=False).plot(style='.', title='Number of Novels Published')\n",
    "ax.set_xlabel(\"Publication Date\")"
   ]
  },
  {
   "cell_type": "code",
   "execution_count": 217,
   "metadata": {},
   "outputs": [
    {
     "data": {
      "text/plain": [
       "Text(0.5, 0, 'Publication Date')"
      ]
     },
     "execution_count": 217,
     "metadata": {},
     "output_type": "execute_result"
    },
    {
     "data": {
      "image/png": "[encoded data removed]",
      "text/plain": [
       "<Figure size 432x288 with 1 Axes>"
      ]
     },
     "metadata": {},
     "output_type": "display_data"
    }
   ],
   "source": [
    "ax= end_df.sort_values(by='pub date', ascending=True)['pub date'].value_counts(sort=False).plot(title='Number of Novels Published')\n",
    "ax.set_xlabel(\"Publication Date\")"
   ]
  },
  {
   "cell_type": "markdown",
   "metadata": {},
   "source": [
    "## 💡 CHECK-IN\n",
    "> What might this mean for how we interpret the distribution of topic 10 in our corpus?   \n",
    "> How might this graph of the total number of novel titles published change how we interpret the distribution of topic 10 in our corpus?"
   ]
  },
  {
   "cell_type": "markdown",
   "metadata": {},
   "source": [
    "### For every year of novels published, plot the average probability of Topic 10"
   ]
  },
  {
   "cell_type": "code",
   "execution_count": 235,
   "metadata": {},
   "outputs": [
    {
     "data": {
      "text/plain": [
       "<matplotlib.axes._subplots.AxesSubplot at 0x7fa8e7e20880>"
      ]
     },
     "execution_count": 235,
     "metadata": {},
     "output_type": "execute_result"
    },
    {
     "data": {
      "image/png": "[encoded data removed]",
      "text/plain": [
       "<Figure size 432x288 with 1 Axes>"
      ]
     },
     "metadata": {},
     "output_type": "display_data"
    }
   ],
   "source": [
    "topic_number = 10\n",
    "\n",
    "topic_label = \" \".join(topics[topic_number][:4])\n",
    "\n",
    "end_resorted_df.groupby(end_resorted_df.index)[[topic_label]].mean().plot(title='Novel Titles by By Topic', linewidth=2)"
   ]
  },
  {
   "cell_type": "markdown",
   "metadata": {},
   "source": [
    "## Your Turn!\n",
    "\n",
    "Choose 3 different topics from the Early Novels Database titles and compare them:"
   ]
  },
  {
   "cell_type": "code",
   "execution_count": null,
   "metadata": {},
   "outputs": [],
   "source": [
    "#### Topic #: (Double-Click to change this Cell and "
   ]
  },
  {
   "cell_type": "code",
   "execution_count": null,
   "metadata": {},
   "outputs": [],
   "source": [
    "## Change the number here to view a different topic\n",
    "topic_number = 0\n",
    "\n",
    "topic_label = \" \".join(topics[topic_number][:4])\n",
    "\n",
    "end_resorted_df.groupby(end_resorted_df.index)[[topic_label]].mean().plot(title='Novel Titles by By Topic', linewidth=2)"
   ]
  },
  {
   "cell_type": "code",
   "execution_count": null,
   "metadata": {},
   "outputs": [],
   "source": [
    "#### Topic #: (Double-Click to change this Cell and "
   ]
  },
  {
   "cell_type": "code",
   "execution_count": null,
   "metadata": {},
   "outputs": [],
   "source": [
    "## Change the number here to view a different topic\n",
    "topic_number = 1\n",
    "\n",
    "topic_label = \" \".join(topics[topic_number][:4])\n",
    "\n",
    "end_resorted_df.groupby(end_resorted_df.index)[[topic_label]].mean().plot(title='Novel Titles by By Topic', linewidth=2)"
   ]
  },
  {
   "cell_type": "code",
   "execution_count": null,
   "metadata": {},
   "outputs": [],
   "source": [
    "#### Topic #: (Double-Click to change this Cell and "
   ]
  },
  {
   "cell_type": "code",
   "execution_count": null,
   "metadata": {},
   "outputs": [],
   "source": [
    "## Change the number here to view a different topic\n",
    "topic_number = 2\n",
    "\n",
    "topic_label = \" \".join(topics[topic_number][:4])\n",
    "\n",
    "end_resorted_df.groupby(end_resorted_df.index)[[topic_label]].mean().plot(title='Novel Titles by By Topic', linewidth=2)"
   ]
  },
  {
   "cell_type": "markdown",
   "metadata": {},
   "source": [
    "## Reflection\n",
    "\n",
    "1. What sorts of things should a digital humanist be aware of when creating a time-series visualization of topics?\n",
    "2. What kinds of things can we do to contextualize a time-series data, so that we can better understand the patterns that we're visualizing\n",
    "\n",
    "Write your reflections below:"
   ]
  },
  {
   "cell_type": "code",
   "execution_count": null,
   "metadata": {},
   "outputs": [],
   "source": []
  }
 ],
 "metadata": {
  "kernelspec": {
   "display_name": "Python 3",
   "language": "python",
   "name": "python3"
  },
  "language_info": {
   "codemirror_mode": {
    "name": "ipython",
    "version": 3
   },
   "file_extension": ".py",
   "mimetype": "text/x-python",
   "name": "python",
   "nbconvert_exporter": "python",
   "pygments_lexer": "ipython3",
   "version": "3.8.3"
  }
 },
 "nbformat": 4,
 "nbformat_minor": 4
}
